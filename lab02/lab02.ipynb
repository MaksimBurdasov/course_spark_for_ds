{
 "cells": [
  {
   "cell_type": "markdown",
   "id": "0ba568f2-acab-463a-9394-22498f472a0b",
   "metadata": {},
   "source": [
    "# Лаб2. Content-based рекомендательная система образовательных курсов – Spark Dataframes\n",
    "Задание: https://github.com/newprolab/sber-spark-ds-18/blob/main/labs/lab02.md"
   ]
  },
  {
   "cell_type": "markdown",
   "id": "0e40ff67-995d-42c0-b363-c671dc986af9",
   "metadata": {},
   "source": [
    "### Импорты и настройка окружения"
   ]
  },
  {
   "cell_type": "code",
   "execution_count": null,
   "id": "ed38421b-d250-491b-9aa1-f0a85d2f8fe3",
   "metadata": {},
   "outputs": [],
   "source": [
    "import findspark\n",
    "findspark.init('/opt/spark-3.4.3/')"
   ]
  },
  {
   "cell_type": "code",
   "execution_count": null,
   "id": "ff0a2b94-4c2f-4e28-8092-33852a0bfdb2",
   "metadata": {
    "scrolled": true
   },
   "outputs": [],
   "source": [
    "from pyspark import SparkConf, SparkContext\n",
    "from pyspark.sql import SparkSession\n",
    "from pyspark.ml.feature import HashingTF, IDF\n",
    "from pyspark.sql import functions as F\n",
    "from pyspark.sql.types import *\n",
    "# from pyspark import Row\n",
    "\n",
    "import re\n",
    "\n",
    "conf = SparkConf()\n",
    "spark = (\n",
    "    SparkSession\n",
    "    .builder\n",
    "    .config(conf=conf)\n",
    "    .appName('max_burdasov_lab2')\n",
    "    .getOrCreate()\n",
    ")\n",
    "\n",
    "sc = spark.sparkContext\n",
    "\n",
    "FEATURES_NUM = 10000"
   ]
  },
  {
   "cell_type": "markdown",
   "id": "196d2c0a-81c6-4a9e-be22-b243fa6aa517",
   "metadata": {},
   "source": [
    "### Данные"
   ]
  },
  {
   "cell_type": "code",
   "execution_count": 3,
   "id": "2dcd65fc-7d22-4152-b441-6b828245efd1",
   "metadata": {},
   "outputs": [
    {
     "name": "stderr",
     "output_type": "stream",
     "text": [
      "                                                                                \r"
     ]
    }
   ],
   "source": [
    "# Загрузка\n",
    "df = (\n",
    "    spark\n",
    "    .read\n",
    "    .format('json')\n",
    "    .load('/labs/slaba02/DO_record_per_line.json')\n",
    ")\n",
    "\n",
    "df = df.cache()\n",
    "df.is_cached"
   ]
  },
  {
   "cell_type": "code",
   "execution_count": 5,
   "id": "6d45aa8d-4b6c-4eac-a2c2-066486d0967a",
   "metadata": {
    "scrolled": true
   },
   "outputs": [
    {
     "name": "stderr",
     "output_type": "stream",
     "text": [
      "[Stage 1:>                                                          (0 + 1) / 1]\r"
     ]
    },
    {
     "name": "stdout",
     "output_type": "stream",
     "text": [
      "+--------------------+--------------------+---+----+--------------------+--------------+\n",
      "|                 cat|                desc| id|lang|                name|      provider|\n",
      "+--------------------+--------------------+---+----+--------------------+--------------+\n",
      "|3/business_manage...|This course intro...|  4|  en|Accounting Cycle:...|Canvas Network|\n",
      "|              11/law|This online cours...|  5|  en|American Counter ...|Canvas Network|\n",
      "|5/computer_scienc...|This course is ta...|  6|  fr|Arithmétique: en ...|Canvas Network|\n",
      "+--------------------+--------------------+---+----+--------------------+--------------+\n",
      "only showing top 3 rows\n",
      "\n"
     ]
    },
    {
     "name": "stderr",
     "output_type": "stream",
     "text": [
      "                                                                                \r"
     ]
    }
   ],
   "source": [
    "df.show(3)"
   ]
  },
  {
   "cell_type": "code",
   "execution_count": 51,
   "id": "797d11b1-2c4e-4b88-80de-7f6b7e9ce292",
   "metadata": {},
   "outputs": [],
   "source": [
    "### Проверка данных\n",
    "\n",
    "# df.count()  # 28153\n",
    "# df.select('desc').show(3, truncate=False)\n",
    "# df.groupBy('provider').count().show()\n",
    "# df.summary().toPandas().head(10)"
   ]
  },
  {
   "cell_type": "code",
   "execution_count": 11,
   "id": "c9585893-e075-4426-9a5a-29c8601146cb",
   "metadata": {
    "scrolled": true
   },
   "outputs": [],
   "source": [
    "# Курсы для индивидуального задания\n",
    "target_courses_lst = [\n",
    "    [23126, u'en', u'Compass - powerful SASS library that makes your life easier'], \n",
    "    [21617, u'en', u'Preparing for the AP* Computer Science A Exam \\u2014 Part 2'], \n",
    "    [16627, u'es', u'Aprende Excel: Nivel Intermedio by Alfonso Rinsche'], \n",
    "    [11556, u'es', u'Aprendizaje Colaborativo by UNID Universidad Interamericana para el Desarrollo'], \n",
    "    [16704, u'ru', u'\\u041f\\u0440\\u043e\\u0433\\u0440\\u0430\\u043c\\u043c\\u0438\\u0440\\u043e\\u0432\\u0430\\u043d\\u0438\\u0435 \\u043d\\u0430 Lazarus'], \n",
    "    [13702, u'ru', u'\\u041c\\u0430\\u0442\\u0435\\u043c\\u0430\\u0442\\u0438\\u0447\\u0435\\u0441\\u043a\\u0430\\u044f \\u044d\\u043a\\u043e\\u043d\\u043e\\u043c\\u0438\\u043a\\u0430']\n",
    "]\n",
    "\n",
    "# target_courses_lst"
   ]
  },
  {
   "cell_type": "code",
   "execution_count": 61,
   "id": "c7fe3b3f-d33f-41d3-a12a-bb21ffee2f07",
   "metadata": {},
   "outputs": [
    {
     "name": "stdout",
     "output_type": "stream",
     "text": [
      "+----+------------------------+\n",
      "|lang|name                    |\n",
      "+----+------------------------+\n",
      "|ru  |Математическая экономика|\n",
      "+----+------------------------+\n",
      "\n"
     ]
    }
   ],
   "source": [
    "df.filter(F.col('id') == 864).select('lang', 'name').show(truncate=False)"
   ]
  },
  {
   "cell_type": "markdown",
   "id": "285ffb17-0381-4215-b143-99fb4c35d91d",
   "metadata": {},
   "source": [
    "### Вычисление TFIDF"
   ]
  },
  {
   "cell_type": "code",
   "execution_count": 18,
   "id": "783db0d8-4425-4950-ae5a-dfebbcdf6c63",
   "metadata": {},
   "outputs": [
    {
     "name": "stderr",
     "output_type": "stream",
     "text": [
      "<>:11: SyntaxWarning: invalid escape sequence '\\w'\n",
      "<>:11: SyntaxWarning: invalid escape sequence '\\w'\n",
      "/tmp/ipykernel_32672/279080505.py:11: SyntaxWarning: invalid escape sequence '\\w'\n",
      "  regex = re.compile(u'[\\w\\d]{2,}', re.U)  # паттерн для поиска слов (токенов)\n",
      "[Stage 21:>                                                         (0 + 1) / 1]\r"
     ]
    },
    {
     "name": "stdout",
     "output_type": "stream",
     "text": [
      "+---+--------------------+\n",
      "| id|      tfidf_features|\n",
      "+---+--------------------+\n",
      "|  4|(1000,[7,12,17,23...|\n",
      "+---+--------------------+\n",
      "only showing top 1 row\n",
      "\n"
     ]
    },
    {
     "name": "stderr",
     "output_type": "stream",
     "text": [
      "                                                                                \r"
     ]
    }
   ],
   "source": [
    "### Расчет TFIDF для колонки с описанием 'desc'\n",
    "\n",
    "# Важно!\n",
    "# TFIDF нужно считать для описаний курсов (desc). \n",
    "# При извлечении слов из описания словом считаем то, что состоит из \n",
    "# латинских или кириллических букв или цифр, знаки препинания и прочие символы не учитываются.\n",
    "\n",
    "@F.pandas_udf(ArrayType(StringType()))\n",
    "def get_tokens_list(text_series):\n",
    "    \"\"\"Преобразовать колонку строк в колонку со списками токенов (слов).\"\"\"\n",
    "    regex = re.compile(u'[\\w\\d]{2,}', re.U)  # паттерн для поиска слов (токенов)\n",
    "    tokens_series = text_series.str.lower().apply(lambda row: regex.findall(row) if row else [])\n",
    "    return tokens_series\n",
    "\n",
    "# Токенизация описаний \"desc\" в список отдельных слов\n",
    "df_tokenized = df.withColumn('desc', get_tokens_list('desc'))\n",
    "\n",
    "# Расчет TF с помощью HashingTF\n",
    "hashing_tf = HashingTF(numFeatures=1000, inputCol=\"desc\", outputCol=\"tf_features\")\n",
    "df_tf = hashing_tf.transform(df_tokenized)\n",
    "\n",
    "# Расчет IDF с помощью IDF\n",
    "idf = IDF(inputCol='tf_features', outputCol='tfidf_features')\n",
    "df_tfidf = idf.fit(df_tf).transform(df_tf)\n",
    "df_tfidf = df_tfidf.cache()\n",
    "\n",
    "df_tfidf.select().show(1)"
   ]
  },
  {
   "cell_type": "code",
   "execution_count": 21,
   "id": "fee4ae69-0c78-44d4-a180-21bfd78a1ee7",
   "metadata": {},
   "outputs": [],
   "source": [
    "### Проверка\n",
    "\n",
    "# df_tfidf.show(n=1, vertical=True, truncate=False)\n",
    "# df_tfidf.select('id', 'tfidf_features').show(n=1, vertical=True, truncate=False)"
   ]
  },
  {
   "cell_type": "code",
   "execution_count": 22,
   "id": "83897215-464d-461a-8176-aace8e52f777",
   "metadata": {},
   "outputs": [
    {
     "data": {
      "text/plain": [
       "[('cat', 'string'),\n",
       " ('desc', 'array<string>'),\n",
       " ('id', 'bigint'),\n",
       " ('lang', 'string'),\n",
       " ('name', 'string'),\n",
       " ('provider', 'string'),\n",
       " ('tf_features', 'vector'),\n",
       " ('tfidf_features', 'vector')]"
      ]
     },
     "execution_count": 22,
     "metadata": {},
     "output_type": "execute_result"
    }
   ],
   "source": [
    "df_tfidf.dtypes"
   ]
  },
  {
   "cell_type": "code",
   "execution_count": 86,
   "id": "674e4fd8-d29a-4e09-9b05-dca85ac372e2",
   "metadata": {},
   "outputs": [
    {
     "data": {
      "text/plain": [
       "580.7860089849563"
      ]
     },
     "execution_count": 86,
     "metadata": {},
     "output_type": "execute_result"
    }
   ],
   "source": [
    "v1 = df_tfidf.select('tfidf_features').take(1)[0]['tfidf_features'].toArray()\n",
    "v2 = df_tfidf.select('tfidf_features').take(2)[1]['tfidf_features'].toArray()\n",
    "\n",
    "sum([a * b for a, b in zip(v1, v1)])"
   ]
  },
  {
   "cell_type": "code",
   "execution_count": 38,
   "id": "dfc40078-eb1b-4ed0-bbd0-a6d2544b6964",
   "metadata": {},
   "outputs": [],
   "source": [
    "# type(df.filter(F.col('id') == 200).take(1)[0]['tfidf_features'])\n",
    "# df_tfidf.filter(F.col('id') == 200).take(1)[0]['tfidf_features'].values"
   ]
  },
  {
   "cell_type": "markdown",
   "id": "1f4596a2-ed48-46d1-b011-190aeda29021",
   "metadata": {},
   "source": [
    "### Определение схожести для заданных фильмов"
   ]
  },
  {
   "cell_type": "code",
   "execution_count": 47,
   "id": "990fe6ee-c0a8-4b3c-8f49-3a8a7019dc08",
   "metadata": {},
   "outputs": [],
   "source": [
    "# vec = df_tfidf.filter(F.col('id') == 12).take(1)[0]['tfidf_features']"
   ]
  },
  {
   "cell_type": "code",
   "execution_count": 68,
   "id": "b76c10b2-839f-4101-836a-0efbae96048a",
   "metadata": {},
   "outputs": [],
   "source": [
    "import math\n",
    "\n",
    "def get_top10_neibs(df, trg_id, limit_rows=10):\n",
    "    \"\"\"Отбор для курса с заданным ID топ-10 наиболее похожих курсов.\"\"\"\n",
    "    \n",
    "    # Вектор TFIDF и язык для курса с заданным id\n",
    "    trg_tfidf_vec = df.filter(F.col('id') == trg_id).take(1)[0]['tfidf_features']\n",
    "    trg_lang = df.filter(F.col('id') == trg_id).take(1)[0]['lang']\n",
    "    \n",
    "    # UDF для расчета косинуса между вектором заданного фильма и остальными\n",
    "    @F.udf(FloatType())\n",
    "    def compute_cos(vec):\n",
    "        dot_product = float(sum(a * b for a, b in zip(vec.toArray(), trg_tfidf_vec.toArray())))\n",
    "        vec1_norm = math.sqrt(sum([x * x for x in vec.values]))\n",
    "        vec2_norm = math.sqrt(sum([x * x for x in trg_tfidf_vec.values]))\n",
    "        if vec1_norm * vec2_norm == 0:\n",
    "            return 0\n",
    "        cos_alpha = dot_product / (vec1_norm * vec2_norm)\n",
    "        return float(cos_alpha)\n",
    "    \n",
    "    # Расчет косинусов для всех фильмов\n",
    "    df_cos_counted = df.withColumn(\n",
    "        'cos_alpha', \n",
    "        compute_cos('tfidf_features')\n",
    "    )\n",
    "\n",
    "    # Выбор самых релевантных курсов\n",
    "    res_df = (\n",
    "        df_cos_counted\n",
    "        .filter((F.col('lang') == trg_lang) & (F.col('id') != trg_id))\n",
    "        .orderBy(['cos_alpha', 'name', 'id'], ascending=[False, True, True])\n",
    "        .select('id', 'name', 'cos_alpha')\n",
    "        .limit(10)\n",
    "    )\n",
    "\n",
    "    print(f'\\n10 самых похожих курсов на курс с ID {trg_id}')\n",
    "    res_df.show(10, truncate=False)\n",
    "\n",
    "    return [row['id'] for row in res_df.collect()]\n",
    "\n",
    "\n",
    "# Проверка\n",
    "print(get_top10_neibs(df_tfidf, 864))"
   ]
  },
  {
   "cell_type": "code",
   "execution_count": 58,
   "id": "a2f3a8b0-bdc7-428e-a517-94ee2a0aa7a0",
   "metadata": {},
   "outputs": [
    {
     "name": "stderr",
     "output_type": "stream",
     "text": [
      "                                                                                \r"
     ]
    },
    {
     "name": "stdout",
     "output_type": "stream",
     "text": [
      "+-----+------------------------------------------------------------+--------------+\n",
      "|id   |name                                                        |scalar_product|\n",
      "+-----+------------------------------------------------------------+--------------+\n",
      "|12949|8 Steps To Automating Tumblr For Profit by Moo Jelly        |0.69426197    |\n",
      "|12470|Tumblr Marketing To Grow Your Business: Get Sales and Profit|0.67581594    |\n",
      "|13665|The Next Step with Sass and Compass by Lisa Catalano        |0.6423741     |\n",
      "|23958|How To Make A Free Private Blog Network - SEO With Tumblr   |0.62662965    |\n",
      "|14760|Foundation 4: Incorporating Sass and Compass                |0.6048081     |\n",
      "|13782|Assembling Sass Part 2                                      |0.5850956     |\n",
      "|6915 |Tumblr Tutorial: Learn How to Use Tumblr - Udemy            |0.47067448    |\n",
      "|16308|Up and Running with Tumblr                                  |0.44213796    |\n",
      "|7650 |Unethical Decision Making in Organizations                  |0.43587422    |\n",
      "|15909|Responsive CSS with Sass and Compass                        |0.42908245    |\n",
      "+-----+------------------------------------------------------------+--------------+\n",
      "\n"
     ]
    },
    {
     "name": "stderr",
     "output_type": "stream",
     "text": [
      "                                                                                \r"
     ]
    },
    {
     "name": "stdout",
     "output_type": "stream",
     "text": [
      "+-----+----------------------------------------------------------------+--------------+\n",
      "|id   |name                                                            |scalar_product|\n",
      "+-----+----------------------------------------------------------------+--------------+\n",
      "|21609|Preparing for the AP* Computer Science A Exam — Part 1          |1.0           |\n",
      "|21616|Preparing for the AP* Chemistry Exam- Part 2                    |0.6073332     |\n",
      "|21608|Preparing for the AP* Chemistry Exam- Part 1                    |0.5856453     |\n",
      "|308  |Linear and Integer Programming                                  |0.5346924     |\n",
      "|21630|Preparing for the AP* Computer Science A Exam — Level Up! Part 3|0.5327079     |\n",
      "|21628|Preparing for the AP* Computer Science A Exam — Level Up! Part 4|0.5327079     |\n",
      "|8069 |Programming Cloud Services for Android Handheld Systems         |0.52959216    |\n",
      "|21623|Preparing for the AP* Computer Science A Exam — Level Up! Part 1|0.5238278     |\n",
      "|81   |Programming Mobile Applications for Android Handheld Systems    |0.5229816     |\n",
      "|156  |Student Thinking at the Core                                    |0.52056485    |\n",
      "+-----+----------------------------------------------------------------+--------------+\n",
      "\n"
     ]
    },
    {
     "name": "stderr",
     "output_type": "stream",
     "text": [
      "                                                                                \r"
     ]
    },
    {
     "name": "stdout",
     "output_type": "stream",
     "text": [
      "+-----+-------------------------------------------------------------------------------+--------------+\n",
      "|id   |name                                                                           |scalar_product|\n",
      "+-----+-------------------------------------------------------------------------------+--------------+\n",
      "|11431|Excel Básico by Alfonso Rinsche                                                |0.75317734    |\n",
      "|5687 |Excel para principiantes by Nicolás Martínez                                   |0.6665305     |\n",
      "|17964|Excel 2010 Súper Fácil - Nivel Intermedio by Profesor 24/7                     |0.6628488     |\n",
      "|11575|Curso de Excel Avanzado en tres (3) horas by Koul Advanced Learning            |0.6620905     |\n",
      "|12247|Aprende Excel fácil y rápido by Elio Reyes                                     |0.6556602     |\n",
      "|17961|Excel 2010 - Básico by Prof. Lucía Miralles                                    |0.64242023    |\n",
      "|16694|Excel 2010 Súper Fácil - Nivel Básico by Profesor 24/7                         |0.6374829     |\n",
      "|5558 |Introducción a Excel 2010 by Skeyon Formación Barcelona                        |0.63245654    |\n",
      "|10738|Programación de Excel con macros usando Visual Basic by Elio Reyes             |0.613499      |\n",
      "|12660|Aprende paso a paso Curso completo Microsoft Excel 2010 by Etraining S.A DE C.V|0.6127001     |\n",
      "+-----+-------------------------------------------------------------------------------+--------------+\n",
      "\n"
     ]
    },
    {
     "name": "stderr",
     "output_type": "stream",
     "text": [
      "                                                                                \r"
     ]
    },
    {
     "name": "stdout",
     "output_type": "stream",
     "text": [
      "+-----+-------------------------------------------------------------------------------------+--------------+\n",
      "|id   |name                                                                                 |scalar_product|\n",
      "+-----+-------------------------------------------------------------------------------------+--------------+\n",
      "|16488|Aprendizaje basado en problemas by UNID Universidad Interamericana para el Desarrollo|0.67497635    |\n",
      "|10447|Mejores calificaciones usando tu dispositivo móvil by Ph. D. Dante Ramírez           |0.59606934    |\n",
      "|13461|TIC para la enseñanza by Julia García Escudero                                       |0.56841165    |\n",
      "|7833 |Coaching en el contexto educativo by Julia García Escudero                           |0.55487025    |\n",
      "|468  |Tecnologías de información y comunicación en la educación                            |0.5442968     |\n",
      "|9048 |Aprender a leer a los 3: Método Doman en preescolar by Elisa Guerra                  |0.54181075    |\n",
      "|9784 |Herramientas para la gestión de Equipos de Alto Rendimiento by Enric Arola           |0.5394623     |\n",
      "|9289 |Habilidades educativas para la docencia del siglo XXI by Julia García Escudero       |0.5378203     |\n",
      "|23357|Diseña Cursos Dinámicos que Fascinan a Tus Estudiantes                               |0.53154606    |\n",
      "|19330|Introducción al mundo del conocimiento complejo by Prof. Eduardo Escalante           |0.530484      |\n",
      "+-----+-------------------------------------------------------------------------------------+--------------+\n",
      "\n",
      "+-----+-------------------------------------------------------------------------------+--------------+\n",
      "|id   |name                                                                           |scalar_product|\n",
      "+-----+-------------------------------------------------------------------------------+--------------+\n",
      "|1250 |Основы программирования на языке Пролог                                        |0.26538357    |\n",
      "|1247 |Введение в программирование                                                    |0.2519796     |\n",
      "|875  |Модели поведения, восприятия и мышления                                        |0.23453082    |\n",
      "|8207 |Модели поведения, восприятия и мышления                                        |0.23453082    |\n",
      "|1164 |Основные принципы и концепции программирования на языке VBA в Excel            |0.22793594    |\n",
      "|1365 |Программирование в стандарте POSIX                                             |0.20789208    |\n",
      "|1132 |Внедрение, управление и поддержка сетевой инфраструктуры MS Windows Server 2003|0.20525028    |\n",
      "|18331|Введение в программирование LEGO-роботов на языке NXT-G                        |0.20298038    |\n",
      "|1232 |Построение распределенных систем на Java                                       |0.1968882     |\n",
      "|22210|Архитектура Windows. Программирование в ядре Windows                           |0.17999475    |\n",
      "+-----+-------------------------------------------------------------------------------+--------------+\n",
      "\n",
      "+-----+------------------------------------------------------------+--------------+\n",
      "|id   |name                                                        |scalar_product|\n",
      "+-----+------------------------------------------------------------+--------------+\n",
      "|864  |Математическая экономика                                    |1.0           |\n",
      "|804  |Языки и исчисления                                          |0.25350425    |\n",
      "|13057|Неорганическое моделирование в 3ds Max 2013                 |0.23995794    |\n",
      "|1218 |Физика плазмы в астрофизике                                 |0.22636443    |\n",
      "|20596|Специальные средства и схемы водоотлива                     |0.22223914    |\n",
      "|895  |Создание графическиx моделей с помощью Open Graphics Library|0.20191796    |\n",
      "|984  |Введение в HTML5                                            |0.20190361    |\n",
      "|8313 |Российские потребители: как мы потребляем?                  |0.20160468    |\n",
      "|21079|Мультироторный беспилотник своими руками                    |0.1975081     |\n",
      "|28074|Мифология Древней Греции                                    |0.1948389     |\n",
      "+-----+------------------------------------------------------------+--------------+\n",
      "\n"
     ]
    },
    {
     "name": "stderr",
     "output_type": "stream",
     "text": [
      "                                                                                \r"
     ]
    }
   ],
   "source": [
    "out_data = {}\n",
    "\n",
    "for trg_course in target_courses_lst:\n",
    "    trg_id = trg_course[0]\n",
    "    out_data[str(trg_id)] = get_top10_neibs(df_tfidf, trg_id)"
   ]
  },
  {
   "cell_type": "code",
   "execution_count": 62,
   "id": "f8a738ae-2975-49e3-986c-307d3b896e87",
   "metadata": {},
   "outputs": [
    {
     "data": {
      "text/plain": [
       "{'11556': [16488, 10447, 13461, 7833, 468, 9048, 9784, 9289, 23357, 19330],\n",
       " '13702': [864, 804, 13057, 1218, 20596, 895, 984, 8313, 21079, 28074],\n",
       " '16627': [11431, 5687, 17964, 11575, 12247, 17961, 16694, 5558, 10738, 12660],\n",
       " '16704': [1250, 1247, 875, 8207, 1164, 1365, 1132, 18331, 1232, 22210],\n",
       " '21617': [21609, 21616, 21608, 308, 21630, 21628, 8069, 21623, 81, 156],\n",
       " '23126': [12949, 12470, 13665, 23958, 14760, 13782, 6915, 16308, 7650, 15909]}"
      ]
     },
     "execution_count": 62,
     "metadata": {},
     "output_type": "execute_result"
    }
   ],
   "source": [
    "{k: out_data[k] for k in sorted(out_data)}"
   ]
  },
  {
   "cell_type": "code",
   "execution_count": 59,
   "id": "f633dddc-8664-4944-b9f8-220303edbd91",
   "metadata": {
    "scrolled": true
   },
   "outputs": [
    {
     "data": {
      "text/plain": [
       "{'23126': [12949, 12470, 13665, 23958, 14760, 13782, 6915, 16308, 7650, 15909],\n",
       " '21617': [21609, 21616, 21608, 308, 21630, 21628, 8069, 21623, 81, 156],\n",
       " '16627': [11431, 5687, 17964, 11575, 12247, 17961, 16694, 5558, 10738, 12660],\n",
       " '11556': [16488, 10447, 13461, 7833, 468, 9048, 9784, 9289, 23357, 19330],\n",
       " '16704': [1250, 1247, 875, 8207, 1164, 1365, 1132, 18331, 1232, 22210],\n",
       " '13702': [864, 804, 13057, 1218, 20596, 895, 984, 8313, 21079, 28074]}"
      ]
     },
     "execution_count": 59,
     "metadata": {},
     "output_type": "execute_result"
    }
   ],
   "source": [
    "out_data"
   ]
  },
  {
   "cell_type": "markdown",
   "id": "4ca09e0f-9d12-4610-8e05-9aa7e9c397aa",
   "metadata": {
    "scrolled": true
   },
   "source": [
    "### Сохранение результатов"
   ]
  },
  {
   "cell_type": "code",
   "execution_count": 65,
   "id": "26132e9d-a1ad-49f4-9cfb-8caa715980f3",
   "metadata": {},
   "outputs": [],
   "source": [
    "import json\n",
    "\n",
    "out_data = {k: out_data[k] for k in sorted(out_data)}\n",
    "\n",
    "with open('lab02.json', 'w', encoding='utf8') as f_out:\n",
    "    json.dump(out_data, f_out, indent=4)"
   ]
  },
  {
   "cell_type": "markdown",
   "id": "e9c09dad-fb27-4bba-a9c3-1a5d892a8539",
   "metadata": {},
   "source": [
    "### Завершение контекста"
   ]
  },
  {
   "cell_type": "code",
   "execution_count": 66,
   "id": "20b64ce9-2918-4a88-8a3e-9b4a40a048c0",
   "metadata": {},
   "outputs": [],
   "source": [
    "spark.stop()"
   ]
  },
  {
   "cell_type": "code",
   "execution_count": null,
   "id": "6fe1a735-3e88-4954-bea8-317abc927b12",
   "metadata": {},
   "outputs": [],
   "source": []
  }
 ],
 "metadata": {
  "kernelspec": {
   "display_name": "Python 3 (ipykernel)",
   "language": "python",
   "name": "python3"
  },
  "language_info": {
   "codemirror_mode": {
    "name": "ipython",
    "version": 3
   },
   "file_extension": ".py",
   "mimetype": "text/x-python",
   "name": "python",
   "nbconvert_exporter": "python",
   "pygments_lexer": "ipython3",
   "version": "3.12.4"
  }
 },
 "nbformat": 4,
 "nbformat_minor": 5
}
