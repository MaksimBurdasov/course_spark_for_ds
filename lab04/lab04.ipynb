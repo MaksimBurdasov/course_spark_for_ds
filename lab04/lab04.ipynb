{
 "cells": [
  {
   "cell_type": "markdown",
   "id": "722f31a6-ed7b-496c-a0cd-9265b5d065bf",
   "metadata": {},
   "source": [
    "# Лаб4. Прогнозирование пола и возрастной категории — Spark Streaming\n",
    "Задание: https://github.com/newprolab/sber-spark-ds-18/blob/main/labs/lab04.md"
   ]
  },
  {
   "cell_type": "markdown",
   "id": "d7377cc3-38a3-44c4-88d6-c4fb9a631bf3",
   "metadata": {},
   "source": [
    "### Библиотеки и контекст"
   ]
  },
  {
   "cell_type": "code",
   "execution_count": 1,
   "id": "ccf75771-eb49-425d-a7f3-8e0a1616107d",
   "metadata": {},
   "outputs": [],
   "source": [
    "import findspark\n",
    "findspark.init('/opt/spark-3.4.3/')"
   ]
  },
  {
   "cell_type": "code",
   "execution_count": 2,
   "id": "16b80dc2-b114-432b-bd8f-001d5076c867",
   "metadata": {
    "collapsed": true,
    "jupyter": {
     "outputs_hidden": true
    }
   },
   "outputs": [
    {
     "name": "stderr",
     "output_type": "stream",
     "text": [
      "https://repos.spark-packages.org/ added as a remote repository with the name: repo-1\n",
      "Ivy Default Cache set to: /data/home/maksim.burdasov/.ivy2/cache\n",
      "The jars for the packages stored in: /data/home/maksim.burdasov/.ivy2/jars\n",
      "org.apache.spark#spark-sql-kafka-0-10_2.12 added as a dependency\n",
      ":: resolving dependencies :: org.apache.spark#spark-submit-parent-03cef50e-6d1e-410c-8ab8-ecf4088989f8;1.0\n",
      "\tconfs: [default]\n"
     ]
    },
    {
     "name": "stdout",
     "output_type": "stream",
     "text": [
      ":: loading settings :: url = jar:file:/opt/spark-3.4.3/jars/ivy-2.5.1.jar!/org/apache/ivy/core/settings/ivysettings.xml\n"
     ]
    },
    {
     "name": "stderr",
     "output_type": "stream",
     "text": [
      "\tfound org.apache.spark#spark-sql-kafka-0-10_2.12;3.4.3 in central\n",
      "\tfound org.apache.spark#spark-token-provider-kafka-0-10_2.12;3.4.3 in central\n",
      "\tfound org.apache.kafka#kafka-clients;3.3.2 in central\n",
      "\tfound org.lz4#lz4-java;1.8.0 in central\n",
      "\tfound org.xerial.snappy#snappy-java;1.1.10.5 in central\n",
      "\tfound org.slf4j#slf4j-api;2.0.6 in central\n",
      "\tfound org.apache.hadoop#hadoop-client-runtime;3.3.4 in central\n",
      "\tfound org.apache.hadoop#hadoop-client-api;3.3.4 in central\n",
      "\tfound commons-logging#commons-logging;1.1.3 in central\n",
      "\tfound com.google.code.findbugs#jsr305;3.0.0 in central\n",
      "\tfound org.apache.commons#commons-pool2;2.11.1 in central\n",
      ":: resolution report :: resolve 488ms :: artifacts dl 13ms\n",
      "\t:: modules in use:\n",
      "\tcom.google.code.findbugs#jsr305;3.0.0 from central in [default]\n",
      "\tcommons-logging#commons-logging;1.1.3 from central in [default]\n",
      "\torg.apache.commons#commons-pool2;2.11.1 from central in [default]\n",
      "\torg.apache.hadoop#hadoop-client-api;3.3.4 from central in [default]\n",
      "\torg.apache.hadoop#hadoop-client-runtime;3.3.4 from central in [default]\n",
      "\torg.apache.kafka#kafka-clients;3.3.2 from central in [default]\n",
      "\torg.apache.spark#spark-sql-kafka-0-10_2.12;3.4.3 from central in [default]\n",
      "\torg.apache.spark#spark-token-provider-kafka-0-10_2.12;3.4.3 from central in [default]\n",
      "\torg.lz4#lz4-java;1.8.0 from central in [default]\n",
      "\torg.slf4j#slf4j-api;2.0.6 from central in [default]\n",
      "\torg.xerial.snappy#snappy-java;1.1.10.5 from central in [default]\n",
      "\t---------------------------------------------------------------------\n",
      "\t|                  |            modules            ||   artifacts   |\n",
      "\t|       conf       | number| search|dwnlded|evicted|| number|dwnlded|\n",
      "\t---------------------------------------------------------------------\n",
      "\t|      default     |   11  |   0   |   0   |   0   ||   11  |   0   |\n",
      "\t---------------------------------------------------------------------\n",
      ":: retrieving :: org.apache.spark#spark-submit-parent-03cef50e-6d1e-410c-8ab8-ecf4088989f8\n",
      "\tconfs: [default]\n",
      "\t0 artifacts copied, 11 already retrieved (0kB/9ms)\n",
      "25/05/05 17:23:37 WARN util.Utils: Service 'SparkUI' could not bind on port 4040. Attempting port 4041.\n",
      "25/05/05 17:23:39 WARN yarn.Client: Neither spark.yarn.jars nor spark.yarn.archive is set, falling back to uploading libraries under SPARK_HOME.\n",
      "25/05/05 17:23:44 WARN yarn.Client: Same path resource file:///data/home/maksim.burdasov/.ivy2/jars/org.apache.spark_spark-sql-kafka-0-10_2.12-3.4.3.jar added multiple times to distributed cache.\n",
      "25/05/05 17:23:44 WARN yarn.Client: Same path resource file:///data/home/maksim.burdasov/.ivy2/jars/org.apache.spark_spark-token-provider-kafka-0-10_2.12-3.4.3.jar added multiple times to distributed cache.\n",
      "25/05/05 17:23:44 WARN yarn.Client: Same path resource file:///data/home/maksim.burdasov/.ivy2/jars/org.apache.kafka_kafka-clients-3.3.2.jar added multiple times to distributed cache.\n",
      "25/05/05 17:23:44 WARN yarn.Client: Same path resource file:///data/home/maksim.burdasov/.ivy2/jars/com.google.code.findbugs_jsr305-3.0.0.jar added multiple times to distributed cache.\n",
      "25/05/05 17:23:44 WARN yarn.Client: Same path resource file:///data/home/maksim.burdasov/.ivy2/jars/org.apache.commons_commons-pool2-2.11.1.jar added multiple times to distributed cache.\n",
      "25/05/05 17:23:44 WARN yarn.Client: Same path resource file:///data/home/maksim.burdasov/.ivy2/jars/org.apache.hadoop_hadoop-client-runtime-3.3.4.jar added multiple times to distributed cache.\n",
      "25/05/05 17:23:44 WARN yarn.Client: Same path resource file:///data/home/maksim.burdasov/.ivy2/jars/org.lz4_lz4-java-1.8.0.jar added multiple times to distributed cache.\n",
      "25/05/05 17:23:44 WARN yarn.Client: Same path resource file:///data/home/maksim.burdasov/.ivy2/jars/org.xerial.snappy_snappy-java-1.1.10.5.jar added multiple times to distributed cache.\n",
      "25/05/05 17:23:44 WARN yarn.Client: Same path resource file:///data/home/maksim.burdasov/.ivy2/jars/org.slf4j_slf4j-api-2.0.6.jar added multiple times to distributed cache.\n",
      "25/05/05 17:23:44 WARN yarn.Client: Same path resource file:///data/home/maksim.burdasov/.ivy2/jars/org.apache.hadoop_hadoop-client-api-3.3.4.jar added multiple times to distributed cache.\n",
      "25/05/05 17:23:44 WARN yarn.Client: Same path resource file:///data/home/maksim.burdasov/.ivy2/jars/commons-logging_commons-logging-1.1.3.jar added multiple times to distributed cache.\n"
     ]
    }
   ],
   "source": [
    "from pyspark import SparkConf, SparkContext\n",
    "\n",
    "from pyspark.sql import SparkSession\n",
    "from pyspark.sql import functions as F\n",
    "from pyspark.sql.types import *\n",
    "\n",
    "from pyspark.ml.feature import RegexTokenizer, StopWordsRemover, HashingTF, CountVectorizer, IDF\n",
    "\n",
    "from pyspark.ml.clustering import GaussianMixture\n",
    "from pyspark.ml.evaluation import ClusteringEvaluator\n",
    "from pyspark.ml import Pipeline\n",
    "\n",
    "conf = SparkConf()\n",
    "spark = (\n",
    "    SparkSession\n",
    "    .builder\n",
    "    .config(conf=conf)\n",
    "    .appName('max_burdasov_lab4')\n",
    "    .getOrCreate()\n",
    ")\n",
    "\n",
    "sc = spark.sparkContext"
   ]
  },
  {
   "cell_type": "code",
   "execution_count": 14,
   "id": "a7959249-5d56-49aa-b5a5-e9414146a944",
   "metadata": {},
   "outputs": [],
   "source": [
    "# sc.stop()"
   ]
  },
  {
   "cell_type": "markdown",
   "id": "265d57b4-d9e1-46c2-88b1-7e6606aef15e",
   "metadata": {},
   "source": [
    "### Загрузка данных"
   ]
  },
  {
   "cell_type": "code",
   "execution_count": 4,
   "id": "1508984d-5b91-4646-9398-954e76a75d9b",
   "metadata": {},
   "outputs": [
    {
     "name": "stdout",
     "output_type": "stream",
     "text": [
      "Found 1 items\n",
      "-rw-r--r--   3 hdfs hdfs  655090069 2022-01-06 18:46 /labs/slaba04/gender_age_dataset.txt\n"
     ]
    }
   ],
   "source": [
    "!hdfs dfs -ls /labs/slaba04/"
   ]
  },
  {
   "cell_type": "code",
   "execution_count": 42,
   "id": "cf806813-fa00-4d4a-9da5-cd9cb1908065",
   "metadata": {},
   "outputs": [
    {
     "name": "stderr",
     "output_type": "stream",
     "text": [
      "                                                                                \r"
     ]
    },
    {
     "data": {
      "text/plain": [
       "36138"
      ]
     },
     "execution_count": 42,
     "metadata": {},
     "output_type": "execute_result"
    }
   ],
   "source": [
    "df = (\n",
    "    spark\n",
    "    .read\n",
    "    .format('csv')\n",
    "    .option(\"delimiter\", \"\\t\")\n",
    "    .option('header', 'true')\n",
    "    .option('inferSchema', 'true')\n",
    "    .load('/labs/slaba04/gender_age_dataset.txt')\n",
    ")\n",
    "\n",
    "# Фильтр строк без указанного таргета\n",
    "df = df.filter((F.col('age') != '-') | (F.col('gender') != '-'))\n",
    "\n",
    "df = df.cache()\n",
    "df.count()"
   ]
  },
  {
   "cell_type": "code",
   "execution_count": 12,
   "id": "57099e70-9c13-41d6-8fdf-98c08f55fb3f",
   "metadata": {},
   "outputs": [
    {
     "name": "stderr",
     "output_type": "stream",
     "text": [
      "                                                                                \r"
     ]
    },
    {
     "data": {
      "text/plain": [
       "0"
      ]
     },
     "execution_count": 12,
     "metadata": {},
     "output_type": "execute_result"
    }
   ],
   "source": [
    "# Проверка уникальности идентификатора\n",
    "df.groupBy('uid').count().filter(F.col('count') > 1).count()"
   ]
  },
  {
   "cell_type": "markdown",
   "id": "90b4fed9-899c-476b-9dc4-2c6b04dcf5fd",
   "metadata": {},
   "source": [
    "### Изучение данных"
   ]
  },
  {
   "cell_type": "code",
   "execution_count": 5,
   "id": "6cb7cab3-a40c-4d8a-a244-63162b760dd6",
   "metadata": {},
   "outputs": [
    {
     "data": {
      "text/plain": [
       "['gender', 'age', 'uid', 'user_json']"
      ]
     },
     "execution_count": 5,
     "metadata": {},
     "output_type": "execute_result"
    }
   ],
   "source": [
    "df.columns"
   ]
  },
  {
   "cell_type": "code",
   "execution_count": 19,
   "id": "032ba91f-9c6d-487b-a531-5f5ad99f9faf",
   "metadata": {},
   "outputs": [
    {
     "data": {
      "text/plain": [
       "'{\"visits\": [{\"url\": \"http://zebra-zoya.ru/200028-chehol-organayzer-dlja-macbook-11-grid-it.html?utm_campaign=397720794&utm_content=397729344&utm_medium=cpc&utm_source=begun\", \"timestamp\": 1419688144068}, {\"url\": \"http://news.yandex.ru/yandsearch?cl4url=chezasite.com/htc/htc-one-m9-delay-86327.html&lr=213&rpt=story\", \"timestamp\": 1426666298001}, {\"url\": \"http://www.sotovik.ru/news/240283-htc-one-m9-zaderzhivaetsja.html\", \"timestamp\": 1426666298000}, {\"url\": \"http://news.yandex.ru/yandsearch?cl4url=chezasite.com/htc/htc-one-m9-delay-86327.html&lr=213&rpt=story\", \"timestamp\": 1426661722001}, {\"url\": \"http://www.sotovik.ru/news/240283-htc-one-m9-zaderzhivaetsja.html\", \"timestamp\": 1426661722000}]}'"
      ]
     },
     "execution_count": 19,
     "metadata": {},
     "output_type": "execute_result"
    }
   ],
   "source": [
    "df.take(1)[0]['user_json']"
   ]
  },
  {
   "cell_type": "markdown",
   "id": "269c070d-a5d3-4938-832a-a4b28233635a",
   "metadata": {},
   "source": [
    "### Генерация признаков"
   ]
  },
  {
   "cell_type": "code",
   "execution_count": 43,
   "id": "8a0f30c5-98e4-4605-8dd7-971d4f2d0ee8",
   "metadata": {},
   "outputs": [
    {
     "name": "stderr",
     "output_type": "stream",
     "text": [
      "[Stage 161:>                                                        (0 + 1) / 1]\r"
     ]
    },
    {
     "name": "stdout",
     "output_type": "stream",
     "text": [
      "+------+-----+--------------------+--------------------+--------------------+--------+\n",
      "|gender|  age|                 uid|                urls|          timestamps|urls_cnt|\n",
      "+------+-----+--------------------+--------------------+--------------------+--------+\n",
      "|     F|18-24|d50192e5-c44e-4ae...|[http://zebra-zoy...|[1419688144068, 1...|       5|\n",
      "+------+-----+--------------------+--------------------+--------------------+--------+\n",
      "only showing top 1 row\n",
      "\n"
     ]
    },
    {
     "name": "stderr",
     "output_type": "stream",
     "text": [
      "                                                                                \r"
     ]
    }
   ],
   "source": [
    "### Парсинг колонки user_json\n",
    "\n",
    "# Схема содержимого логов\n",
    "log_schema = StructType([\n",
    "    StructField('visits', ArrayType(\n",
    "        StructType([\n",
    "            StructField('url', StringType()),\n",
    "            StructField('timestamp', StringType())\n",
    "        ])\n",
    "    ))\n",
    "])\n",
    "\n",
    "# Парсинг\n",
    "df = df.withColumn('user_json', F.from_json(F.col('user_json'), log_schema))\n",
    "\n",
    "# Создание отельных колонок\n",
    "df = df.withColumn('urls', F.col('user_json.visits.url'))\n",
    "df = df.withColumn('timestamps', F.col('user_json.visits.timestamp'))\n",
    "\n",
    "# Колонка с количеством посещенных сайтов\n",
    "df = df.withColumn('urls_cnt', F.size('urls'))\n",
    "\n",
    "# Удаление освоенной колонки\n",
    "df = df.drop('user_json')\n",
    "\n",
    "df = df.cache()\n",
    "df.show(1)"
   ]
  },
  {
   "cell_type": "code",
   "execution_count": 44,
   "id": "3442e93f-93a5-44dd-9485-139844bc13f9",
   "metadata": {},
   "outputs": [
    {
     "name": "stderr",
     "output_type": "stream",
     "text": [
      "[Stage 163:>                                                        (0 + 1) / 1]\r"
     ]
    },
    {
     "name": "stdout",
     "output_type": "stream",
     "text": [
      "+--------------------+--------+--------------------+------+-----+\n",
      "|                 uid|urls_cnt|      tfidf_features|gender|  age|\n",
      "+--------------------+--------+--------------------+------+-----+\n",
      "|d50192e5-c44e-4ae...|       5|(1024,[17,33,37,7...|     F|18-24|\n",
      "+--------------------+--------+--------------------+------+-----+\n",
      "only showing top 1 row\n",
      "\n"
     ]
    },
    {
     "name": "stderr",
     "output_type": "stream",
     "text": [
      "                                                                                \r"
     ]
    }
   ],
   "source": [
    "### Пайплайн векторизации списка URL\n",
    "\n",
    "# Объединение URL в одну строку\n",
    "df = df.withColumn('urls', F.concat_ws(\" \", 'urls'))\n",
    "\n",
    "# Получение колонки токенов из URL\n",
    "tokenizer = RegexTokenizer(\n",
    "    inputCol=\"urls\",\n",
    "    outputCol=\"tokens_raw\",\n",
    "    pattern=r\"\\b[\\w]{2,}\\b\",\n",
    "    gaps=False,  # pattern используется для поиска токенов\n",
    "    toLowercase=True\n",
    ")\n",
    "\n",
    "custom_stopwords = [\n",
    "    # Общие служебные слова URL\n",
    "    'http', 'https', 'www', 'com', 'ru', 'net', 'org', 'html', 'php', 'asp', 'aspx', 'jsp',\n",
    "    'utm', 'referrer', 'ref', 'source', 'click', 'id', 'page', 'index', 'feed', 'menu',\n",
    "    'api', 'track', 'trackid', 'session', 'sid', 'token', 'auth', 'access', 'key', 'lang',\n",
    "    'language', 'query', 'search', 'rpt', 'clid', 'clid', 'utm_campaign', 'utm_medium', 'utm_source',\n",
    "    'utm_content', 'utm_term', 'fbclid', 'gclid', 'mc_cid', 'mc_eid',\n",
    "\n",
    "    # Частые параметры и служебные слова\n",
    "    'page', 'view', 'item', 'category', 'product', 'offer', 'promo', 'click', 'redirect',\n",
    "    'index', 'default', 'main',\n",
    "\n",
    "    # Общие слова, малоинформативные для кластеризации\n",
    "    'id', 'type', 'action', 'mode', 'ref', 'referrer', 'sessionid', 'userid', 'user',\n",
    "\n",
    "    # Распространённые сокращения и слова из URL\n",
    "    'www1', 'www2', 'www3', 'mobile', 'm', 'amp', 'cdn', 'static', 'cache',\n",
    "\n",
    "    # Часто встречающиеся короткие слова\n",
    "    'to', 'in', 'on', 'at', 'by', 'of', 'and', 'or', 'for', 'with', 'from'\n",
    "]\n",
    "\n",
    "# Удаление неинформативных слов\n",
    "custom_stopwords = StopWordsRemover.loadDefaultStopWords(\"english\") + custom_stopwords\n",
    "stopwords_remover = StopWordsRemover(\n",
    "    inputCol=\"tokens_raw\",\n",
    "    outputCol=\"tokens\",\n",
    "    stopWords=custom_stopwords\n",
    ")\n",
    "\n",
    "# Расчет TF\n",
    "tf_vectorizer = HashingTF(numFeatures=1024, inputCol=\"tokens\", outputCol=\"tf_features\")\n",
    "\n",
    "# Расчет IDF\n",
    "idf_counter = IDF(inputCol='tf_features', outputCol='tfidf_features')\n",
    "\n",
    "pipeline = Pipeline(stages=[tokenizer, stopwords_remover, tf_vectorizer, idf_counter])\n",
    "model = pipeline.fit(df)\n",
    "\n",
    "# Преобразуем данные\n",
    "url_ftrs_df = model.transform(df)\n",
    "\n",
    "# Датафрейм с таргетами и фичами по спискам URL\n",
    "url_ftrs_df = (\n",
    "    url_ftrs_df\n",
    "    .select(\n",
    "        # Идентификатор\n",
    "        'uid', \n",
    "        # Колонки фичей\n",
    "        'urls_cnt', \n",
    "        'tfidf_features', \n",
    "        # Колонки таргетов\n",
    "        'gender', \n",
    "        'age'\n",
    "    )\n",
    ")\n",
    "\n",
    "url_ftrs_df = url_ftrs_df.cache()\n",
    "url_ftrs_df.show(1)"
   ]
  },
  {
   "cell_type": "code",
   "execution_count": 45,
   "id": "fd98b0db-fb61-4de1-9cde-b6a75f6ab6c9",
   "metadata": {},
   "outputs": [
    {
     "name": "stderr",
     "output_type": "stream",
     "text": [
      "[Stage 167:====================================================>(199 + 1) / 200]\r"
     ]
    },
    {
     "name": "stdout",
     "output_type": "stream",
     "text": [
      "+--------------------+------------------+-----------+------------------+------------------+------------------+------------------+-----------------+\n",
      "|                 uid|         mean_hour|median_hour|  avg_urls_per_day|         night_pct|       morning_pct|     afternoon_pct|      evening_pct|\n",
      "+--------------------+------------------+-----------+------------------+------------------+------------------+------------------+-----------------+\n",
      "|0392f398-ea7e-4a1...|15.716981132075471|       21.0| 5.170731707317073| 20.28301886792453| 9.433962264150944| 5.188679245283019|65.09433962264151|\n",
      "|094b1e7e-97a6-441...| 15.96774193548387|       16.0|20.666666666666668|11.290322580645162|1.6129032258064515|53.225806451612904|33.87096774193548|\n",
      "|095544a2-64f7-422...|              16.5|       17.0|               2.0|               0.0|              25.0|              50.0|             25.0|\n",
      "|098a0e00-8597-475...|              18.0|       18.0|               2.0|               0.0|               0.0|              50.0|             50.0|\n",
      "|0a595fa1-bae0-41d...| 10.19047619047619|        6.0|2.3333333333333335| 47.61904761904762| 4.761904761904762| 23.80952380952381|23.80952380952381|\n",
      "+--------------------+------------------+-----------+------------------+------------------+------------------+------------------+-----------------+\n",
      "only showing top 5 rows\n",
      "\n"
     ]
    },
    {
     "name": "stderr",
     "output_type": "stream",
     "text": [
      "                                                                                \r"
     ]
    }
   ],
   "source": [
    "### Подготовка фичей из отметок времени\n",
    "\n",
    "# Разворачиваем списки временных отметок\n",
    "df_exploded = df.select('uid', F.explode(F.col('timestamps')).alias('ts')).orderBy('uid', F.col('ts').asc())\n",
    "\n",
    "# Получение дат\n",
    "df_exploded = df_exploded.withColumn(\"ts\", F.from_unixtime(F.col(\"ts\") / 1000))\n",
    "\n",
    "# Отдельные колонки для агрегат\n",
    "df_exploded = df_exploded.withColumn(\"date\", F.to_date(\"ts\"))\n",
    "df_exploded = df_exploded.withColumn(\"hour\", F.hour(\"ts\"))\n",
    "\n",
    "# Флаги захода на сайты по четвертям дня\n",
    "df_exploded = df_exploded.withColumn(\n",
    "    \"night_flg\", \n",
    "    F.when((df_exploded.hour >= 0) & (df_exploded.hour <= 5), F.lit(1)).otherwise(0)\n",
    ")\n",
    "\n",
    "df_exploded = df_exploded.withColumn(\n",
    "    \"morning_flg\", \n",
    "    F.when((df_exploded.hour >= 6) & (df_exploded.hour <= 11), F.lit(1)).otherwise(0)\n",
    ")\n",
    "\n",
    "df_exploded = df_exploded.withColumn(\n",
    "    \"afternoon_flg\", \n",
    "    F.when((df_exploded.hour >= 12) & (df_exploded.hour <= 17), F.lit(1)).otherwise(0)\n",
    ")\n",
    "\n",
    "df_exploded = df_exploded.withColumn(\n",
    "    \"evening_flg\", \n",
    "    F.when((df_exploded.hour >= 18) & (df_exploded.hour <= 23), F.lit(1)).otherwise(0)\n",
    ")\n",
    "\n",
    "# df_exploded.show(30)\n",
    "\n",
    "# Группировка\n",
    "time_ftrs_df = df_exploded.groupBy(\"uid\").agg(\n",
    "    F.mean(F.col('hour')).alias('mean_hour'),\n",
    "    F.median(F.col('hour')).alias('median_hour'),\n",
    "    (F.count('*') / F.count_distinct(F.col('date'))).alias('avg_urls_per_day'),\n",
    "    (F.sum(F.col('night_flg')) * 100.0 / F.count('*')).alias('night_pct'),\n",
    "    (F.sum(F.col('morning_flg')) * 100.0 / F.count('*')).alias('morning_pct'),\n",
    "    (F.sum(F.col('afternoon_flg')) * 100.0 / F.count('*')).alias('afternoon_pct'),\n",
    "    (F.sum(F.col('evening_flg')) * 100.0 / F.count('*')).alias('evening_pct'),\n",
    ")\n",
    "\n",
    "# Показываем результат\n",
    "time_ftrs_df = time_ftrs_df.cache()\n",
    "time_ftrs_df.show(3)"
   ]
  },
  {
   "cell_type": "code",
   "execution_count": 46,
   "id": "01a3380a-acaf-4461-b24b-218b1516d23e",
   "metadata": {
    "scrolled": true
   },
   "outputs": [
    {
     "name": "stderr",
     "output_type": "stream",
     "text": [
      "[Stage 172:=============================================>           (4 + 1) / 5]\r"
     ]
    },
    {
     "name": "stdout",
     "output_type": "stream",
     "text": [
      "-RECORD 0--------------------------------\n",
      " uid              | 0392f398-ea7e-4a1... \n",
      " urls_cnt         | 212                  \n",
      " tfidf_features   | (1024,[7,8,10,11,... \n",
      " gender           | F                    \n",
      " age              | >=55                 \n",
      " mean_hour        | 15.716981132075471   \n",
      " median_hour      | 21.0                 \n",
      " avg_urls_per_day | 5.170731707317073    \n",
      " night_pct        | 20.28301886792453    \n",
      " morning_pct      | 9.433962264150944    \n",
      " afternoon_pct    | 5.188679245283019    \n",
      " evening_pct      | 65.09433962264151    \n",
      "only showing top 1 row\n",
      "\n"
     ]
    },
    {
     "name": "stderr",
     "output_type": "stream",
     "text": [
      "                                                                                \r"
     ]
    }
   ],
   "source": [
    "# Получение датасета со всеми фичами\n",
    "union_df = url_ftrs_df.join(time_ftrs_df, how='left', on='uid')\n",
    "\n",
    "union_df = union_df.cache()\n",
    "union_df.show(1, True, True)"
   ]
  },
  {
   "cell_type": "markdown",
   "id": "f741b59c-3716-457c-9930-559461817e21",
   "metadata": {},
   "source": [
    "### Подготовка таргета"
   ]
  },
  {
   "cell_type": "markdown",
   "id": "8fadffe0-6add-4dd2-94bb-29b55bc0d706",
   "metadata": {},
   "source": [
    "#### Для обучения 2 отдельных моделей"
   ]
  },
  {
   "cell_type": "code",
   "execution_count": 19,
   "id": "4291e1b2-f555-470c-8f89-a0b41f443777",
   "metadata": {},
   "outputs": [],
   "source": [
    "# union_df.groupBy(\"gender\").count().select(\"gender\").rdd.flatMap(lambda x: x).collect()  # ['F', 'M']\n",
    "# union_df.groupBy(\"age\").count().select(\"age\").rdd.flatMap(lambda x: x).collect()  # ['>=55', '45-54', '35-44', '25-34', '18-24']"
   ]
  },
  {
   "cell_type": "code",
   "execution_count": 47,
   "id": "469a4c9e-a6ac-4cb5-8068-bbc9ac3fe6ee",
   "metadata": {
    "scrolled": true
   },
   "outputs": [
    {
     "name": "stdout",
     "output_type": "stream",
     "text": [
      "+--------------------+------+-------------+-----+----------+\n",
      "|                 uid|gender|target_gender|  age|target_age|\n",
      "+--------------------+------+-------------+-----+----------+\n",
      "|0392f398-ea7e-4a1...|     F|            0| >=55|         4|\n",
      "|094b1e7e-97a6-441...|     F|            0|18-24|         0|\n",
      "|095544a2-64f7-422...|     F|            0|25-34|         1|\n",
      "|098a0e00-8597-475...|     F|            0| >=55|         4|\n",
      "|0a595fa1-bae0-41d...|     M|            1| >=55|         4|\n",
      "+--------------------+------+-------------+-----+----------+\n",
      "only showing top 5 rows\n",
      "\n"
     ]
    }
   ],
   "source": [
    "### Приведение таргетов к числовому виду\n",
    "\n",
    "# Замена колонки с полом\n",
    "trg_prepared_df = union_df.withColumn(\n",
    "    'target_gender',\n",
    "    F.when(F.col('gender') == 'F', 0).otherwise(1)\n",
    ")\n",
    "\n",
    "# Замена колонки возраста\n",
    "trg_prepared_df = trg_prepared_df.withColumn(\n",
    "    \"target_age\",\n",
    "    F.when(F.col('age') == \"18-24\", 0)\n",
    "    .when(F.col('age') == \"25-34\", 1)\n",
    "    .when(F.col('age') == \"35-44\", 2)\n",
    "    .when(F.col('age') == \"45-54\", 3)\n",
    "    .otherwise(4)\n",
    ")\n",
    "\n",
    "trg_prepared_df.select('uid', 'gender', 'target_gender', 'age', 'target_age').show(5)"
   ]
  },
  {
   "cell_type": "markdown",
   "id": "7c266459-8759-44f6-99d0-14711654edb5",
   "metadata": {
    "jp-MarkdownHeadingCollapsed": true
   },
   "source": [
    "#### Для обучения 1 модели на мульти-таргете"
   ]
  },
  {
   "cell_type": "code",
   "execution_count": 31,
   "id": "c034b010-3deb-44b9-a9e3-68f44efa8a86",
   "metadata": {},
   "outputs": [],
   "source": [
    "# ### Трансформация таргета (для мультитаргета)\n",
    "\n",
    "# data = data.withColumn(\"target_combined\", F.concat(F.col(\"gender\"), F.lit('__'), F.col(\"age\")))\n",
    "\n",
    "# # Замена таргета на число\n",
    "# data = data.withColumn(\n",
    "#     \"label\",  # название таргета из доки\n",
    "#     # Комбинации таргетов\n",
    "#     F.when(F.col('target_combined') == \"F__18-24\", 0)\n",
    "#     .when(F.col('target_combined') == \"F__25-34\", 1)\n",
    "#     .when(F.col('target_combined') == \"F__35-44\", 2)\n",
    "#     .when(F.col('target_combined') == \"F__45-54\", 3)\n",
    "#     .when(F.col('target_combined') == \"F__>=55\", 4)\n",
    "#     .when(F.col('target_combined') == \"M__18-24\", 5)\n",
    "#     .when(F.col('target_combined') == \"M__25-34\", 6)\n",
    "#     .when(F.col('target_combined') == \"M__35-44\", 7)\n",
    "#     .when(F.col('target_combined') == \"M__45-54\", 8)\n",
    "#     .when(F.col('target_combined') == \"M__>=55\", 9)\n",
    "#     .otherwise(None)\n",
    "# )\n",
    "\n",
    "# data.select('gender', 'age', 'target_combined', 'label').show()"
   ]
  },
  {
   "cell_type": "code",
   "execution_count": 11,
   "id": "b497084a-daa3-457c-8274-df1cbc12e824",
   "metadata": {
    "scrolled": true
   },
   "outputs": [
    {
     "name": "stderr",
     "output_type": "stream",
     "text": [
      "                                                                                \r"
     ]
    },
    {
     "data": {
      "text/plain": [
       "0"
      ]
     },
     "execution_count": 11,
     "metadata": {},
     "output_type": "execute_result"
    }
   ],
   "source": [
    "# data.filter(F.col('label').isNull()).count()"
   ]
  },
  {
   "cell_type": "markdown",
   "id": "c7337a17-9cbb-4d5f-91ce-b8b63b84197c",
   "metadata": {},
   "source": [
    "### Подготовка итогового датасета + сохранение в HDFS"
   ]
  },
  {
   "cell_type": "code",
   "execution_count": 26,
   "id": "c650bc82-c7ae-41af-b810-d3b8e4d1b2a0",
   "metadata": {},
   "outputs": [],
   "source": [
    "from pyspark.ml.feature import VectorAssembler"
   ]
  },
  {
   "cell_type": "code",
   "execution_count": 48,
   "id": "d0eed185-69b6-451d-99cb-4944fe42016f",
   "metadata": {},
   "outputs": [
    {
     "name": "stdout",
     "output_type": "stream",
     "text": [
      "-RECORD 0--------------------------------\n",
      " uid              | 0392f398-ea7e-4a1... \n",
      " urls_cnt         | 212                  \n",
      " tfidf_features   | (1024,[7,8,10,11,... \n",
      " gender           | F                    \n",
      " age              | >=55                 \n",
      " mean_hour        | 15.716981132075471   \n",
      " median_hour      | 21.0                 \n",
      " avg_urls_per_day | 5.170731707317073    \n",
      " night_pct        | 20.28301886792453    \n",
      " morning_pct      | 9.433962264150944    \n",
      " afternoon_pct    | 5.188679245283019    \n",
      " evening_pct      | 65.09433962264151    \n",
      " target_gender    | 0                    \n",
      " target_age       | 4                    \n",
      " features         | (1032,[0,8,9,11,1... \n",
      "only showing top 1 row\n",
      "\n"
     ]
    }
   ],
   "source": [
    "### Помещение всех признаков в один вектор\n",
    "\n",
    "feature_cols = [\n",
    "    \"urls_cnt\",\n",
    "    \"tfidf_features\",\n",
    "    \"mean_hour\",\n",
    "    \"median_hour\",\n",
    "    \"avg_urls_per_day\",\n",
    "    \"night_pct\",\n",
    "    \"morning_pct\",\n",
    "    \"afternoon_pct\",\n",
    "    \"evening_pct\"\n",
    "]\n",
    "\n",
    "assembler = VectorAssembler(inputCols=feature_cols, outputCol=\"features\")\n",
    "final_df = assembler.transform(trg_prepared_df)\n",
    "\n",
    "final_df.show(1, True, True)"
   ]
  },
  {
   "cell_type": "code",
   "execution_count": 49,
   "id": "a8cc171d-78c5-41da-9d31-1f657706dc84",
   "metadata": {
    "scrolled": true
   },
   "outputs": [
    {
     "name": "stdout",
     "output_type": "stream",
     "text": [
      "+--------------------+-------------+----------+\n",
      "|            features|target_gender|target_age|\n",
      "+--------------------+-------------+----------+\n",
      "|(1032,[0,8,9,11,1...|            0|         4|\n",
      "|(1032,[0,2,5,8,14...|            0|         0|\n",
      "|(1032,[0,106,424,...|            0|         1|\n",
      "+--------------------+-------------+----------+\n",
      "only showing top 3 rows\n",
      "\n"
     ]
    }
   ],
   "source": [
    "final_df = final_df.select(\n",
    "    'features',\n",
    "    'target_gender',\n",
    "    'target_age'\n",
    ")\n",
    "\n",
    "final_df.show(3)"
   ]
  },
  {
   "cell_type": "code",
   "execution_count": null,
   "id": "c675b3d2-3df0-4aeb-a118-64d6ce3b6fa8",
   "metadata": {},
   "outputs": [],
   "source": []
  },
  {
   "cell_type": "code",
   "execution_count": 50,
   "id": "f6bf2279-1c61-4990-8b42-6a04a45a3ad4",
   "metadata": {},
   "outputs": [
    {
     "name": "stderr",
     "output_type": "stream",
     "text": [
      "                                                                                \r"
     ]
    }
   ],
   "source": [
    "# Сохранение в HDFS\n",
    "(\n",
    "    final_df\n",
    "    .write\n",
    "    .mode('overwrite')\n",
    "    .parquet('lab04_two_models_dataset_v1.parquet')\n",
    ")"
   ]
  },
  {
   "cell_type": "code",
   "execution_count": 51,
   "id": "6a1a7127-e71b-4fcf-8eb5-ffc7ae65ec03",
   "metadata": {},
   "outputs": [
    {
     "name": "stdout",
     "output_type": "stream",
     "text": [
      "Found 9 items\n",
      "drwx------   - maksim.burdasov maksim.burdasov          0 2025-05-05 18:28 .Trash\n",
      "drwxr-xr-x   - maksim.burdasov maksim.burdasov          0 2025-05-05 17:23 .sparkStaging\n",
      "drwxr-xr-x   - maksim.burdasov maksim.burdasov          0 2025-04-22 13:00 lab03.csv\n",
      "drwxr-xr-x   - maksim.burdasov maksim.burdasov          0 2025-05-05 14:33 lab04_model_age_rf_v0\n",
      "drwxr-xr-x   - maksim.burdasov maksim.burdasov          0 2025-05-05 17:34 lab04_model_age_rf_v1\n",
      "drwxr-xr-x   - maksim.burdasov maksim.burdasov          0 2025-05-05 17:34 lab04_model_gender_rf_v1\n",
      "drwxr-xr-x   - maksim.burdasov maksim.burdasov          0 2025-05-05 12:39 lab04_two_models_dataset.parquet\n",
      "drwxr-xr-x   - maksim.burdasov maksim.burdasov          0 2025-05-05 18:34 lab04_two_models_dataset_v1.parquet\n",
      "drwxr-xr-x   - maksim.burdasov maksim.burdasov          0 2025-04-22 11:57 models\n"
     ]
    }
   ],
   "source": [
    "!hdfs dfs -ls"
   ]
  },
  {
   "cell_type": "code",
   "execution_count": 16,
   "id": "8089d133-53f6-41c5-b9ea-1afd89d82afb",
   "metadata": {},
   "outputs": [
    {
     "name": "stderr",
     "output_type": "stream",
     "text": [
      "                                                                                \r"
     ]
    }
   ],
   "source": [
    "# # Сохранение в файл\n",
    "# final_df.toPandas().to_csv(\"lab04_data/clean_dataset_multitarget.csv\", index=False, encoding=\"utf-8\")"
   ]
  },
  {
   "cell_type": "markdown",
   "id": "6a23d77c-74e5-4b5a-95c6-809a7f61a222",
   "metadata": {},
   "source": [
    "### Обучение моделей"
   ]
  },
  {
   "cell_type": "code",
   "execution_count": 33,
   "id": "00b3825f-5eb0-493b-be52-3108f7a38bbd",
   "metadata": {},
   "outputs": [],
   "source": [
    "from pyspark.ml.classification import DecisionTreeClassifier, RandomForestClassifier\n",
    "from pyspark.ml.evaluation import BinaryClassificationEvaluator, MulticlassClassificationEvaluator"
   ]
  },
  {
   "cell_type": "code",
   "execution_count": 53,
   "id": "8b7618da-e2d8-4d60-90df-4528022d22c5",
   "metadata": {},
   "outputs": [],
   "source": [
    "# Загрузка подготовленного датасета\n",
    "two_models_dataset = spark.read.parquet('lab04_two_models_dataset_v1.parquet')\n",
    "\n",
    "# two_models_dataset.show(3)"
   ]
  },
  {
   "cell_type": "code",
   "execution_count": 54,
   "id": "e71ee4ae-9fe8-4f8e-a5c8-1cf6c384ea06",
   "metadata": {},
   "outputs": [],
   "source": [
    "train_df, test_df = two_models_dataset.randomSplit([0.8, 0.2], seed=21)"
   ]
  },
  {
   "cell_type": "markdown",
   "id": "b69cc0fd-f4e6-4eb5-90ff-4df319c2d795",
   "metadata": {},
   "source": [
    "#### Бинарный классификатор для предсказания пола"
   ]
  },
  {
   "cell_type": "code",
   "execution_count": 55,
   "id": "55467ba6-4cf4-46c9-82ff-294f21aab50c",
   "metadata": {},
   "outputs": [
    {
     "name": "stderr",
     "output_type": "stream",
     "text": [
      "                                                                                \r"
     ]
    }
   ],
   "source": [
    "### Обучение модели для определения пола\n",
    "\n",
    "# # Модель v1: DecisionTreeClassifier  (Accuracy: 0.5654, ROC-AUC: 0.4415)\n",
    "# gen_dtc = DecisionTreeClassifier(featuresCol=\"features\", labelCol=\"target_gender\")\n",
    "# gen_model = gen_dtc.fit(train_df)\n",
    "\n",
    "# Модель v2: RandomForestClassifier  (Accuracy: 0.5877, ROC-AUC: 0.6147)\n",
    "gen_dtc = RandomForestClassifier(featuresCol=\"features\", labelCol=\"target_gender\")\n",
    "gen_model = gen_dtc.fit(train_df)"
   ]
  },
  {
   "cell_type": "code",
   "execution_count": 56,
   "id": "63c72a0a-b09e-4cd1-82ef-703187dcfae7",
   "metadata": {},
   "outputs": [
    {
     "name": "stderr",
     "output_type": "stream",
     "text": [
      "                                                                                \r"
     ]
    },
    {
     "name": "stdout",
     "output_type": "stream",
     "text": [
      "ROC-AUC: 0.6147\n"
     ]
    },
    {
     "name": "stderr",
     "output_type": "stream",
     "text": [
      "[Stage 224:================================================>        (6 + 1) / 7]\r"
     ]
    },
    {
     "name": "stdout",
     "output_type": "stream",
     "text": [
      "Accuracy: 0.5877\n"
     ]
    },
    {
     "name": "stderr",
     "output_type": "stream",
     "text": [
      "                                                                                \r"
     ]
    }
   ],
   "source": [
    "### Оценка метрик классификации для колонки пола\n",
    "gen_preds = gen_model.transform(test_df)\n",
    "\n",
    "gen_bc_evaluator = BinaryClassificationEvaluator(\n",
    "    labelCol=\"target_gender\", \n",
    "    rawPredictionCol=\"rawPrediction\", \n",
    "    metricName=\"areaUnderROC\"\n",
    ")\n",
    "gen_roc_auc = gen_bc_evaluator.evaluate(gen_preds)\n",
    "print(f\"ROC-AUC: {gen_roc_auc:.4f}\")\n",
    "\n",
    "gen_mc_evaluator = MulticlassClassificationEvaluator(\n",
    "    labelCol=\"target_gender\",\n",
    "    predictionCol=\"prediction\",\n",
    "    metricName=\"accuracy\"\n",
    ")\n",
    "gen_accuracy = gen_mc_evaluator.evaluate(gen_preds)\n",
    "print(f\"Accuracy: {gen_accuracy:.4f}\")"
   ]
  },
  {
   "cell_type": "code",
   "execution_count": 57,
   "id": "35a93927-bcfe-47a1-8c0f-011273058ecb",
   "metadata": {},
   "outputs": [
    {
     "name": "stdout",
     "output_type": "stream",
     "text": [
      "+--------------------+-------------+----------+----------------+\n",
      "|            features|target_gender|target_age|predicted_gender|\n",
      "+--------------------+-------------+----------+----------------+\n",
      "|(1032,[0,447,619,...|            1|         2|             0.0|\n",
      "|(1032,[0,1,6,13,1...|            0|         2|             1.0|\n",
      "|(1032,[0,2,3,4,6,...|            0|         4|             1.0|\n",
      "|(1032,[0,83,161,2...|            0|         1|             0.0|\n",
      "|(1032,[0,13,24,38...|            1|         1|             0.0|\n",
      "+--------------------+-------------+----------+----------------+\n",
      "only showing top 5 rows\n",
      "\n"
     ]
    },
    {
     "name": "stderr",
     "output_type": "stream",
     "text": [
      "                                                                                \r"
     ]
    }
   ],
   "source": [
    "gen_preds = gen_preds.withColumnRenamed('prediction', 'predicted_gender')\n",
    "gen_preds = gen_preds.select('features', 'target_gender', 'target_age', 'predicted_gender')\n",
    "gen_preds.show(5)"
   ]
  },
  {
   "cell_type": "markdown",
   "id": "60110c70-d95d-453d-bcf7-71d7856c8712",
   "metadata": {},
   "source": [
    "#### Многолассовый классификатор для предсказания возраста (сравнение моделей)"
   ]
  },
  {
   "cell_type": "code",
   "execution_count": 43,
   "id": "d3c63b52-73d8-4c6a-8807-332de9a60fe3",
   "metadata": {},
   "outputs": [],
   "source": [
    "# train_df, test_df = two_models_dataset.randomSplit([0.8, 0.2], seed=21)"
   ]
  },
  {
   "cell_type": "code",
   "execution_count": 66,
   "id": "49b3afcf-b3b7-455e-950e-bec83576e19b",
   "metadata": {},
   "outputs": [],
   "source": [
    "### Проверка баланса классов\n",
    "# train_df.groupBy('target_age').count().show()\n",
    "# test_df.groupBy('target_age').count().show()"
   ]
  },
  {
   "cell_type": "markdown",
   "id": "3eff8ecd-f8f8-42f5-92ee-10452c86c86f",
   "metadata": {
    "jp-MarkdownHeadingCollapsed": true
   },
   "source": [
    "##### v1: DecisionTreeClassifier (Accuracy = 0.4280)"
   ]
  },
  {
   "cell_type": "code",
   "execution_count": 53,
   "id": "b24cae1d-4ad5-459a-a5ae-9bb4fe406f31",
   "metadata": {},
   "outputs": [
    {
     "name": "stderr",
     "output_type": "stream",
     "text": [
      "                                                                                \r"
     ]
    }
   ],
   "source": [
    "### Обучение модели для определения возраста\n",
    "\n",
    "age_dtc = DecisionTreeClassifier(featuresCol=\"features\", labelCol=\"target_age\")\n",
    "age_model = age_dtc.fit(train_df)"
   ]
  },
  {
   "cell_type": "code",
   "execution_count": 54,
   "id": "cdbe85f2-297d-42df-8664-5a430b65edb8",
   "metadata": {
    "scrolled": true
   },
   "outputs": [
    {
     "name": "stderr",
     "output_type": "stream",
     "text": [
      "[Stage 177:================================================>        (6 + 1) / 7]\r"
     ]
    },
    {
     "name": "stdout",
     "output_type": "stream",
     "text": [
      "Accuracy = 0.4280\n"
     ]
    },
    {
     "name": "stderr",
     "output_type": "stream",
     "text": [
      "                                                                                \r"
     ]
    }
   ],
   "source": [
    "### Оценка метрик классификации для колонки пола\n",
    "\n",
    "age_preds = age_model.transform(test_df)\n",
    "\n",
    "mc_evaluator = MulticlassClassificationEvaluator(\n",
    "    labelCol=\"target_age\",\n",
    "    predictionCol=\"prediction\",\n",
    "    metricName=\"accuracy\"\n",
    ")\n",
    "accuracy = mc_evaluator.evaluate(age_preds)\n",
    "print(f\"Accuracy = {accuracy:.4f}\")"
   ]
  },
  {
   "cell_type": "markdown",
   "id": "e7ffa7a4-8773-45bc-b470-6bef786a2b67",
   "metadata": {},
   "source": [
    "##### v2: RandomForestClassifier (Accuracy = 0.4359)"
   ]
  },
  {
   "cell_type": "code",
   "execution_count": 58,
   "id": "f5fcb683-d6fe-49da-ae29-fadae648e766",
   "metadata": {},
   "outputs": [],
   "source": [
    "from pyspark.ml.classification import RandomForestClassifier"
   ]
  },
  {
   "cell_type": "code",
   "execution_count": 59,
   "id": "a1e35ddf-6c01-4537-a133-3d400bd24ac7",
   "metadata": {},
   "outputs": [
    {
     "name": "stderr",
     "output_type": "stream",
     "text": [
      "                                                                                \r"
     ]
    }
   ],
   "source": [
    "### Обучение модели\n",
    "\n",
    "age_rfc = RandomForestClassifier(featuresCol=\"features\", labelCol=\"target_age\")\n",
    "age_model_2 = age_rfc.fit(train_df)"
   ]
  },
  {
   "cell_type": "code",
   "execution_count": 60,
   "id": "cfc8e142-c78d-4eb8-b815-120b97a32775",
   "metadata": {},
   "outputs": [
    {
     "name": "stderr",
     "output_type": "stream",
     "text": [
      "[Stage 244:================================================>        (6 + 1) / 7]\r"
     ]
    },
    {
     "name": "stdout",
     "output_type": "stream",
     "text": [
      "Accuracy = 0.4359\n"
     ]
    },
    {
     "name": "stderr",
     "output_type": "stream",
     "text": [
      "                                                                                \r"
     ]
    }
   ],
   "source": [
    "### Оценка метрик\n",
    "\n",
    "# age_preds_2 = age_model_2.transform(test_df)\n",
    "age_preds_2 = age_model_2.transform(gen_preds)  # предсказания первого этапа\n",
    "\n",
    "mc_evaluator_2 = MulticlassClassificationEvaluator(\n",
    "    labelCol=\"target_age\",\n",
    "    predictionCol=\"prediction\",\n",
    "    metricName=\"accuracy\"\n",
    ")\n",
    "accuracy_2 = mc_evaluator_2.evaluate(age_preds_2)\n",
    "print(f\"Accuracy = {accuracy_2:.4f}\")"
   ]
  },
  {
   "cell_type": "code",
   "execution_count": 19,
   "id": "3446ffbf-bfb6-46e8-807a-4e7e68ad9372",
   "metadata": {},
   "outputs": [
    {
     "name": "stdout",
     "output_type": "stream",
     "text": [
      "+--------------------+-------------+----------+----------------+--------------------+--------------------+----------+\n",
      "|            features|target_gender|target_age|predicted_gender|       rawPrediction|         probability|prediction|\n",
      "+--------------------+-------------+----------+----------------+--------------------+--------------------+----------+\n",
      "|(1032,[0,1,2,3,4,...|            1|         3|             1.0|[1.78290559466698...|[0.08914527973334...|       1.0|\n",
      "|(1032,[0,1,2,3,4,...|            1|         3|             1.0|[2.16707246261565...|[0.10835362313078...|       1.0|\n",
      "|(1032,[0,1,2,3,5,...|            0|         2|             0.0|[1.49032865192912...|[0.07451643259645...|       1.0|\n",
      "+--------------------+-------------+----------+----------------+--------------------+--------------------+----------+\n",
      "only showing top 3 rows\n",
      "\n"
     ]
    }
   ],
   "source": [
    "age_preds_2.show(3)"
   ]
  },
  {
   "cell_type": "code",
   "execution_count": 61,
   "id": "3b687468-6f40-4486-b4c6-b1631a7b7d25",
   "metadata": {},
   "outputs": [
    {
     "name": "stderr",
     "output_type": "stream",
     "text": [
      "[Stage 249:================================================>        (6 + 1) / 7]\r"
     ]
    },
    {
     "name": "stdout",
     "output_type": "stream",
     "text": [
      "Оба таргета верны: 1896 из 7387 ~ 25.67%\n"
     ]
    },
    {
     "name": "stderr",
     "output_type": "stream",
     "text": [
      "                                                                                \r"
     ]
    }
   ],
   "source": [
    "### Оценка верных предсказаний ОДНОВРЕМЕННО под двум таргетам\n",
    "\n",
    "true_cnt = age_preds_2.filter(\n",
    "    (F.col('target_gender') == F.col('predicted_gender'))\n",
    "    & (F.col('target_age') == F.col('prediction'))\n",
    ").count()\n",
    "\n",
    "total_cnt = age_preds_2.count()\n",
    "\n",
    "print(\n",
    "    f'Оба таргета верны: {true_cnt} из {total_cnt} ~ {round(true_cnt * 100 / total_cnt, 2)}%'\n",
    ")"
   ]
  },
  {
   "cell_type": "markdown",
   "id": "64794964-ac2c-4d62-9e31-f6b0b5feec93",
   "metadata": {
    "jp-MarkdownHeadingCollapsed": true
   },
   "source": [
    "##### Подбор гиперпараметров\n",
    "обучение проходило 3+ часа и упало с ошибкой, пробовал с меньшей сеткой - прироста не дало"
   ]
  },
  {
   "cell_type": "code",
   "execution_count": 44,
   "id": "c3f3c97b-621f-40ad-8c47-3feb044116c5",
   "metadata": {
    "collapsed": true,
    "jupyter": {
     "outputs_hidden": true
    }
   },
   "outputs": [
    {
     "name": "stderr",
     "output_type": "stream",
     "text": [
      "25/05/05 14:52:39 WARN scheduler.DAGScheduler: Broadcasting large task binary with size 1078.1 KiB\n",
      "25/05/05 14:52:41 WARN scheduler.DAGScheduler: Broadcasting large task binary with size 1460.9 KiB\n",
      "25/05/05 14:52:44 WARN scheduler.DAGScheduler: Broadcasting large task binary with size 1956.3 KiB\n",
      "25/05/05 14:52:47 WARN scheduler.DAGScheduler: Broadcasting large task binary with size 2.5 MiB\n",
      "25/05/05 14:52:52 WARN scheduler.DAGScheduler: Broadcasting large task binary with size 1700.3 KiB\n",
      "25/05/05 14:53:04 WARN scheduler.DAGScheduler: Broadcasting large task binary with size 1205.8 KiB\n",
      "25/05/05 14:53:07 WARN scheduler.DAGScheduler: Broadcasting large task binary with size 1607.9 KiB\n",
      "25/05/05 14:53:11 WARN scheduler.DAGScheduler: Broadcasting large task binary with size 2.1 MiB\n",
      "25/05/05 14:53:16 WARN scheduler.DAGScheduler: Broadcasting large task binary with size 2.7 MiB\n",
      "25/05/05 14:53:21 WARN scheduler.DAGScheduler: Broadcasting large task binary with size 1746.5 KiB\n",
      "25/05/05 14:53:30 WARN scheduler.DAGScheduler: Broadcasting large task binary with size 1078.1 KiB\n",
      "25/05/05 14:53:32 WARN scheduler.DAGScheduler: Broadcasting large task binary with size 1460.9 KiB\n",
      "25/05/05 14:53:35 WARN scheduler.DAGScheduler: Broadcasting large task binary with size 1956.3 KiB\n",
      "25/05/05 14:53:38 WARN scheduler.DAGScheduler: Broadcasting large task binary with size 2.5 MiB\n",
      "25/05/05 14:53:42 WARN scheduler.DAGScheduler: Broadcasting large task binary with size 3.2 MiB\n",
      "25/05/05 14:53:47 WARN scheduler.DAGScheduler: Broadcasting large task binary with size 4.0 MiB\n",
      "25/05/05 14:53:52 WARN scheduler.DAGScheduler: Broadcasting large task binary with size 4.9 MiB\n",
      "25/05/05 14:53:57 WARN scheduler.DAGScheduler: Broadcasting large task binary with size 5.8 MiB\n",
      "25/05/05 14:54:03 WARN scheduler.DAGScheduler: Broadcasting large task binary with size 6.7 MiB\n",
      "25/05/05 14:54:08 WARN scheduler.DAGScheduler: Broadcasting large task binary with size 7.6 MiB\n",
      "25/05/05 14:54:14 WARN scheduler.DAGScheduler: Broadcasting large task binary with size 8.5 MiB\n",
      "25/05/05 14:54:20 WARN scheduler.DAGScheduler: Broadcasting large task binary with size 9.3 MiB\n",
      "25/05/05 14:54:26 WARN scheduler.DAGScheduler: Broadcasting large task binary with size 10.2 MiB\n",
      "25/05/05 14:54:32 WARN scheduler.DAGScheduler: Broadcasting large task binary with size 11.1 MiB\n",
      "25/05/05 14:54:38 WARN scheduler.DAGScheduler: Broadcasting large task binary with size 7.0 MiB\n",
      "25/05/05 14:54:48 WARN scheduler.DAGScheduler: Broadcasting large task binary with size 1205.8 KiB\n",
      "25/05/05 14:54:51 WARN scheduler.DAGScheduler: Broadcasting large task binary with size 1607.9 KiB\n",
      "25/05/05 14:54:55 WARN scheduler.DAGScheduler: Broadcasting large task binary with size 2.1 MiB\n",
      "25/05/05 14:54:59 WARN scheduler.DAGScheduler: Broadcasting large task binary with size 2.7 MiB\n",
      "25/05/05 14:55:04 WARN scheduler.DAGScheduler: Broadcasting large task binary with size 3.4 MiB\n",
      "25/05/05 14:55:10 WARN scheduler.DAGScheduler: Broadcasting large task binary with size 4.2 MiB\n",
      "25/05/05 14:55:17 WARN scheduler.DAGScheduler: Broadcasting large task binary with size 5.0 MiB\n",
      "25/05/05 14:55:23 WARN scheduler.DAGScheduler: Broadcasting large task binary with size 5.9 MiB\n",
      "25/05/05 14:55:30 WARN scheduler.DAGScheduler: Broadcasting large task binary with size 6.8 MiB\n",
      "25/05/05 14:55:38 WARN scheduler.DAGScheduler: Broadcasting large task binary with size 7.7 MiB\n",
      "25/05/05 14:55:45 WARN scheduler.DAGScheduler: Broadcasting large task binary with size 8.6 MiB\n",
      "25/05/05 14:55:53 WARN scheduler.DAGScheduler: Broadcasting large task binary with size 9.5 MiB\n",
      "25/05/05 14:56:00 WARN scheduler.DAGScheduler: Broadcasting large task binary with size 10.3 MiB\n",
      "25/05/05 14:56:08 WARN scheduler.DAGScheduler: Broadcasting large task binary with size 11.2 MiB\n",
      "25/05/05 14:56:16 WARN scheduler.DAGScheduler: Broadcasting large task binary with size 7.0 MiB\n",
      "25/05/05 14:56:25 WARN scheduler.DAGScheduler: Broadcasting large task binary with size 1078.1 KiB\n",
      "25/05/05 14:56:28 WARN scheduler.DAGScheduler: Broadcasting large task binary with size 1460.9 KiB\n",
      "25/05/05 14:56:30 WARN scheduler.DAGScheduler: Broadcasting large task binary with size 1956.3 KiB\n",
      "25/05/05 14:56:33 WARN scheduler.DAGScheduler: Broadcasting large task binary with size 2.5 MiB\n",
      "25/05/05 14:56:37 WARN scheduler.DAGScheduler: Broadcasting large task binary with size 3.2 MiB\n",
      "25/05/05 14:56:42 WARN scheduler.DAGScheduler: Broadcasting large task binary with size 4.0 MiB\n",
      "25/05/05 14:56:47 WARN scheduler.DAGScheduler: Broadcasting large task binary with size 4.9 MiB\n",
      "25/05/05 14:56:52 WARN scheduler.DAGScheduler: Broadcasting large task binary with size 5.8 MiB\n",
      "25/05/05 14:56:58 WARN scheduler.DAGScheduler: Broadcasting large task binary with size 6.7 MiB\n",
      "25/05/05 14:57:03 WARN scheduler.DAGScheduler: Broadcasting large task binary with size 7.6 MiB\n",
      "25/05/05 14:57:09 WARN scheduler.DAGScheduler: Broadcasting large task binary with size 8.5 MiB\n",
      "25/05/05 14:57:15 WARN scheduler.DAGScheduler: Broadcasting large task binary with size 9.3 MiB\n",
      "25/05/05 14:57:21 WARN scheduler.DAGScheduler: Broadcasting large task binary with size 10.2 MiB\n",
      "25/05/05 14:57:27 WARN scheduler.DAGScheduler: Broadcasting large task binary with size 11.1 MiB\n",
      "25/05/05 14:57:33 WARN scheduler.DAGScheduler: Broadcasting large task binary with size 11.9 MiB\n",
      "25/05/05 14:57:39 WARN scheduler.DAGScheduler: Broadcasting large task binary with size 12.8 MiB\n",
      "25/05/05 14:57:45 WARN scheduler.DAGScheduler: Broadcasting large task binary with size 13.6 MiB\n",
      "25/05/05 14:57:51 WARN scheduler.DAGScheduler: Broadcasting large task binary with size 14.4 MiB\n",
      "25/05/05 14:57:57 WARN scheduler.DAGScheduler: Broadcasting large task binary with size 15.1 MiB\n",
      "25/05/05 14:58:03 WARN scheduler.DAGScheduler: Broadcasting large task binary with size 15.9 MiB\n",
      "25/05/05 14:58:10 WARN scheduler.DAGScheduler: Broadcasting large task binary with size 16.6 MiB\n",
      "25/05/05 14:58:16 WARN scheduler.DAGScheduler: Broadcasting large task binary with size 17.3 MiB\n",
      "25/05/05 14:58:22 WARN scheduler.DAGScheduler: Broadcasting large task binary with size 18.0 MiB\n",
      "25/05/05 14:58:29 WARN scheduler.DAGScheduler: Broadcasting large task binary with size 18.7 MiB\n",
      "25/05/05 14:58:35 WARN scheduler.DAGScheduler: Broadcasting large task binary with size 11.7 MiB\n",
      "25/05/05 14:58:46 WARN scheduler.DAGScheduler: Broadcasting large task binary with size 1205.8 KiB\n",
      "25/05/05 14:58:49 WARN scheduler.DAGScheduler: Broadcasting large task binary with size 1607.9 KiB\n",
      "25/05/05 14:58:53 WARN scheduler.DAGScheduler: Broadcasting large task binary with size 2.1 MiB\n",
      "25/05/05 14:58:57 WARN scheduler.DAGScheduler: Broadcasting large task binary with size 2.7 MiB\n",
      "25/05/05 14:59:02 WARN scheduler.DAGScheduler: Broadcasting large task binary with size 3.4 MiB\n",
      "25/05/05 14:59:08 WARN scheduler.DAGScheduler: Broadcasting large task binary with size 4.2 MiB\n",
      "25/05/05 14:59:15 WARN scheduler.DAGScheduler: Broadcasting large task binary with size 5.0 MiB\n",
      "25/05/05 14:59:22 WARN scheduler.DAGScheduler: Broadcasting large task binary with size 5.9 MiB\n",
      "25/05/05 14:59:29 WARN scheduler.DAGScheduler: Broadcasting large task binary with size 6.8 MiB\n",
      "25/05/05 14:59:36 WARN scheduler.DAGScheduler: Broadcasting large task binary with size 7.7 MiB\n",
      "25/05/05 14:59:44 WARN scheduler.DAGScheduler: Broadcasting large task binary with size 8.6 MiB\n",
      "25/05/05 14:59:51 WARN scheduler.DAGScheduler: Broadcasting large task binary with size 9.5 MiB\n",
      "25/05/05 14:59:59 WARN scheduler.DAGScheduler: Broadcasting large task binary with size 10.3 MiB\n",
      "25/05/05 15:00:06 WARN scheduler.DAGScheduler: Broadcasting large task binary with size 11.2 MiB\n",
      "25/05/05 15:00:14 WARN scheduler.DAGScheduler: Broadcasting large task binary with size 12.0 MiB\n",
      "25/05/05 15:00:22 WARN scheduler.DAGScheduler: Broadcasting large task binary with size 12.8 MiB\n",
      "25/05/05 15:00:29 WARN scheduler.DAGScheduler: Broadcasting large task binary with size 13.6 MiB\n",
      "25/05/05 15:00:37 WARN scheduler.DAGScheduler: Broadcasting large task binary with size 14.4 MiB\n",
      "25/05/05 15:00:44 WARN scheduler.DAGScheduler: Broadcasting large task binary with size 15.1 MiB\n",
      "25/05/05 15:00:52 WARN scheduler.DAGScheduler: Broadcasting large task binary with size 15.9 MiB\n",
      "25/05/05 15:00:59 WARN scheduler.DAGScheduler: Broadcasting large task binary with size 16.6 MiB\n",
      "25/05/05 15:01:07 WARN scheduler.DAGScheduler: Broadcasting large task binary with size 17.3 MiB\n",
      "25/05/05 15:01:15 WARN scheduler.DAGScheduler: Broadcasting large task binary with size 18.0 MiB\n",
      "25/05/05 15:01:23 WARN scheduler.DAGScheduler: Broadcasting large task binary with size 18.7 MiB\n",
      "25/05/05 15:01:30 WARN scheduler.DAGScheduler: Broadcasting large task binary with size 11.6 MiB\n",
      "25/05/05 15:01:41 WARN scheduler.DAGScheduler: Broadcasting large task binary with size 1071.3 KiB\n",
      "25/05/05 15:01:44 WARN scheduler.DAGScheduler: Broadcasting large task binary with size 1542.0 KiB\n",
      "25/05/05 15:01:47 WARN scheduler.DAGScheduler: Broadcasting large task binary with size 2.2 MiB\n",
      "25/05/05 15:01:52 WARN scheduler.DAGScheduler: Broadcasting large task binary with size 3.0 MiB\n",
      "25/05/05 15:01:58 WARN scheduler.DAGScheduler: Broadcasting large task binary with size 4.1 MiB\n",
      "25/05/05 15:02:05 WARN scheduler.DAGScheduler: Broadcasting large task binary with size 2.8 MiB\n",
      "25/05/05 15:02:16 WARN scheduler.DAGScheduler: Broadcasting large task binary with size 1172.6 KiB\n",
      "25/05/05 15:02:20 WARN scheduler.DAGScheduler: Broadcasting large task binary with size 1623.5 KiB\n",
      "25/05/05 15:02:24 WARN scheduler.DAGScheduler: Broadcasting large task binary with size 2.2 MiB\n",
      "25/05/05 15:02:30 WARN scheduler.DAGScheduler: Broadcasting large task binary with size 3.0 MiB\n",
      "25/05/05 15:02:37 WARN scheduler.DAGScheduler: Broadcasting large task binary with size 4.0 MiB\n",
      "25/05/05 15:02:46 WARN scheduler.DAGScheduler: Broadcasting large task binary with size 2.7 MiB\n",
      "25/05/05 15:02:55 WARN scheduler.DAGScheduler: Broadcasting large task binary with size 1071.3 KiB\n",
      "25/05/05 15:02:58 WARN scheduler.DAGScheduler: Broadcasting large task binary with size 1542.0 KiB\n",
      "25/05/05 15:03:02 WARN scheduler.DAGScheduler: Broadcasting large task binary with size 2.2 MiB\n",
      "25/05/05 15:03:07 WARN scheduler.DAGScheduler: Broadcasting large task binary with size 3.0 MiB\n",
      "25/05/05 15:03:13 WARN scheduler.DAGScheduler: Broadcasting large task binary with size 4.1 MiB\n",
      "25/05/05 15:03:20 WARN scheduler.DAGScheduler: Broadcasting large task binary with size 5.3 MiB\n",
      "25/05/05 15:03:28 WARN scheduler.DAGScheduler: Broadcasting large task binary with size 6.6 MiB\n",
      "25/05/05 15:03:36 WARN scheduler.DAGScheduler: Broadcasting large task binary with size 8.0 MiB\n",
      "25/05/05 15:03:45 WARN scheduler.DAGScheduler: Broadcasting large task binary with size 9.4 MiB\n",
      "25/05/05 15:03:55 WARN scheduler.DAGScheduler: Broadcasting large task binary with size 10.9 MiB\n",
      "25/05/05 15:04:05 WARN scheduler.DAGScheduler: Broadcasting large task binary with size 12.4 MiB\n",
      "25/05/05 15:04:15 WARN scheduler.DAGScheduler: Broadcasting large task binary with size 13.9 MiB\n",
      "25/05/05 15:04:25 WARN scheduler.DAGScheduler: Broadcasting large task binary with size 15.4 MiB\n",
      "25/05/05 15:04:35 WARN scheduler.DAGScheduler: Broadcasting large task binary with size 16.8 MiB\n",
      "25/05/05 15:04:45 WARN scheduler.DAGScheduler: Broadcasting large task binary with size 18.2 MiB\n",
      "25/05/05 15:04:55 WARN scheduler.DAGScheduler: Broadcasting large task binary with size 11.6 MiB\n",
      "25/05/05 15:05:07 WARN scheduler.DAGScheduler: Broadcasting large task binary with size 1172.6 KiB\n",
      "25/05/05 15:05:11 WARN scheduler.DAGScheduler: Broadcasting large task binary with size 1623.5 KiB\n",
      "25/05/05 15:05:16 WARN scheduler.DAGScheduler: Broadcasting large task binary with size 2.2 MiB\n",
      "25/05/05 15:05:22 WARN scheduler.DAGScheduler: Broadcasting large task binary with size 3.0 MiB\n",
      "25/05/05 15:05:29 WARN scheduler.DAGScheduler: Broadcasting large task binary with size 4.0 MiB\n",
      "25/05/05 15:05:38 WARN scheduler.DAGScheduler: Broadcasting large task binary with size 5.1 MiB\n",
      "25/05/05 15:05:48 WARN scheduler.DAGScheduler: Broadcasting large task binary with size 6.4 MiB\n",
      "25/05/05 15:05:58 WARN scheduler.DAGScheduler: Broadcasting large task binary with size 7.7 MiB\n",
      "25/05/05 15:06:10 WARN scheduler.DAGScheduler: Broadcasting large task binary with size 8.7 MiB\n",
      "25/05/05 15:06:21 WARN scheduler.DAGScheduler: Broadcasting large task binary with size 9.9 MiB\n",
      "25/05/05 15:06:33 WARN scheduler.DAGScheduler: Broadcasting large task binary with size 11.3 MiB\n",
      "25/05/05 15:06:45 WARN scheduler.DAGScheduler: Broadcasting large task binary with size 12.4 MiB\n",
      "25/05/05 15:06:56 WARN scheduler.DAGScheduler: Broadcasting large task binary with size 13.7 MiB\n",
      "25/05/05 15:07:08 WARN scheduler.DAGScheduler: Broadcasting large task binary with size 15.3 MiB\n",
      "25/05/05 15:07:21 WARN scheduler.DAGScheduler: Broadcasting large task binary with size 16.7 MiB\n",
      "25/05/05 15:07:32 WARN scheduler.DAGScheduler: Broadcasting large task binary with size 1679.0 KiB\n",
      "25/05/05 15:07:34 WARN scheduler.DAGScheduler: Broadcasting large task binary with size 1801.2 KiB\n",
      "25/05/05 15:07:35 WARN scheduler.DAGScheduler: Broadcasting large task binary with size 1565.7 KiB\n",
      "25/05/05 15:07:36 WARN scheduler.DAGScheduler: Broadcasting large task binary with size 1668.9 KiB\n",
      "25/05/05 15:07:37 WARN scheduler.DAGScheduler: Broadcasting large task binary with size 1763.7 KiB\n",
      "25/05/05 15:07:37 WARN scheduler.DAGScheduler: Broadcasting large task binary with size 1852.3 KiB\n",
      "25/05/05 15:07:38 WARN scheduler.DAGScheduler: Broadcasting large task binary with size 1589.3 KiB\n",
      "25/05/05 15:07:40 WARN scheduler.DAGScheduler: Broadcasting large task binary with size 11.3 MiB\n",
      "25/05/05 15:07:51 WARN scheduler.DAGScheduler: Broadcasting large task binary with size 1071.3 KiB\n",
      "25/05/05 15:07:54 WARN scheduler.DAGScheduler: Broadcasting large task binary with size 1542.0 KiB\n",
      "25/05/05 15:07:58 WARN scheduler.DAGScheduler: Broadcasting large task binary with size 2.2 MiB\n",
      "25/05/05 15:08:03 WARN scheduler.DAGScheduler: Broadcasting large task binary with size 3.0 MiB\n",
      "25/05/05 15:08:09 WARN scheduler.DAGScheduler: Broadcasting large task binary with size 4.1 MiB\n",
      "25/05/05 15:08:16 WARN scheduler.DAGScheduler: Broadcasting large task binary with size 5.3 MiB\n",
      "25/05/05 15:08:24 WARN scheduler.DAGScheduler: Broadcasting large task binary with size 6.6 MiB\n",
      "25/05/05 15:08:32 WARN scheduler.DAGScheduler: Broadcasting large task binary with size 8.0 MiB\n",
      "25/05/05 15:08:41 WARN scheduler.DAGScheduler: Broadcasting large task binary with size 9.4 MiB\n",
      "25/05/05 15:08:51 WARN scheduler.DAGScheduler: Broadcasting large task binary with size 10.9 MiB\n",
      "25/05/05 15:09:00 WARN scheduler.DAGScheduler: Broadcasting large task binary with size 12.4 MiB\n",
      "25/05/05 15:09:11 WARN scheduler.DAGScheduler: Broadcasting large task binary with size 13.9 MiB\n",
      "25/05/05 15:09:21 WARN scheduler.DAGScheduler: Broadcasting large task binary with size 15.4 MiB\n",
      "25/05/05 15:09:31 WARN scheduler.DAGScheduler: Broadcasting large task binary with size 16.8 MiB\n",
      "25/05/05 15:09:41 WARN scheduler.DAGScheduler: Broadcasting large task binary with size 18.2 MiB\n",
      "25/05/05 15:09:51 WARN scheduler.DAGScheduler: Broadcasting large task binary with size 19.5 MiB\n",
      "25/05/05 15:10:02 WARN scheduler.DAGScheduler: Broadcasting large task binary with size 20.9 MiB\n",
      "25/05/05 15:10:12 WARN scheduler.DAGScheduler: Broadcasting large task binary with size 22.2 MiB\n",
      "25/05/05 15:10:23 WARN scheduler.DAGScheduler: Broadcasting large task binary with size 23.4 MiB\n",
      "25/05/05 15:10:33 WARN scheduler.DAGScheduler: Broadcasting large task binary with size 24.6 MiB\n",
      "25/05/05 15:10:44 WARN scheduler.DAGScheduler: Broadcasting large task binary with size 25.9 MiB\n",
      "25/05/05 15:10:55 WARN scheduler.DAGScheduler: Broadcasting large task binary with size 27.0 MiB\n",
      "25/05/05 15:11:05 WARN scheduler.DAGScheduler: Broadcasting large task binary with size 28.1 MiB\n",
      "25/05/05 15:11:17 WARN scheduler.DAGScheduler: Broadcasting large task binary with size 29.3 MiB\n",
      "25/05/05 15:11:27 WARN scheduler.DAGScheduler: Broadcasting large task binary with size 30.4 MiB\n",
      "25/05/05 15:11:38 WARN scheduler.DAGScheduler: Broadcasting large task binary with size 19.0 MiB\n",
      "25/05/05 15:11:51 WARN scheduler.DAGScheduler: Broadcasting large task binary with size 1172.6 KiB\n",
      "25/05/05 15:11:54 WARN scheduler.DAGScheduler: Broadcasting large task binary with size 1623.5 KiB\n",
      "25/05/05 15:11:59 WARN scheduler.DAGScheduler: Broadcasting large task binary with size 2.2 MiB\n",
      "25/05/05 15:12:04 WARN scheduler.DAGScheduler: Broadcasting large task binary with size 3.0 MiB\n",
      "25/05/05 15:12:12 WARN scheduler.DAGScheduler: Broadcasting large task binary with size 4.0 MiB\n",
      "25/05/05 15:12:21 WARN scheduler.DAGScheduler: Broadcasting large task binary with size 5.1 MiB\n",
      "25/05/05 15:12:31 WARN scheduler.DAGScheduler: Broadcasting large task binary with size 6.4 MiB\n",
      "25/05/05 15:12:41 WARN scheduler.DAGScheduler: Broadcasting large task binary with size 7.7 MiB\n",
      "25/05/05 15:12:53 WARN scheduler.DAGScheduler: Broadcasting large task binary with size 8.7 MiB\n",
      "25/05/05 15:13:04 WARN scheduler.DAGScheduler: Broadcasting large task binary with size 9.9 MiB\n",
      "25/05/05 15:13:16 WARN scheduler.DAGScheduler: Broadcasting large task binary with size 11.3 MiB\n",
      "25/05/05 15:13:27 WARN scheduler.DAGScheduler: Broadcasting large task binary with size 12.4 MiB\n",
      "25/05/05 15:13:39 WARN scheduler.DAGScheduler: Broadcasting large task binary with size 13.7 MiB\n",
      "25/05/05 15:13:50 WARN scheduler.DAGScheduler: Broadcasting large task binary with size 15.3 MiB\n",
      "25/05/05 15:14:03 WARN scheduler.DAGScheduler: Broadcasting large task binary with size 16.7 MiB\n",
      "25/05/05 15:14:16 WARN scheduler.DAGScheduler: Broadcasting large task binary with size 18.2 MiB\n",
      "25/05/05 15:14:29 WARN scheduler.DAGScheduler: Broadcasting large task binary with size 19.7 MiB\n",
      "25/05/05 15:14:42 WARN scheduler.DAGScheduler: Broadcasting large task binary with size 21.2 MiB\n",
      "25/05/05 15:14:55 WARN scheduler.DAGScheduler: Broadcasting large task binary with size 22.5 MiB\n",
      "25/05/05 15:15:08 WARN scheduler.DAGScheduler: Broadcasting large task binary with size 23.8 MiB\n",
      "25/05/05 15:15:25 WARN scheduler.DAGScheduler: Broadcasting large task binary with size 25.1 MiB\n",
      "25/05/05 15:15:42 WARN scheduler.DAGScheduler: Broadcasting large task binary with size 26.3 MiB\n",
      "25/05/05 15:15:59 WARN scheduler.DAGScheduler: Broadcasting large task binary with size 27.6 MiB\n",
      "25/05/05 15:16:16 WARN scheduler.DAGScheduler: Broadcasting large task binary with size 28.8 MiB\n",
      "25/05/05 15:16:29 WARN scheduler.DAGScheduler: Broadcasting large task binary with size 29.9 MiB\n",
      "25/05/05 15:16:41 WARN scheduler.DAGScheduler: Broadcasting large task binary with size 2.8 MiB\n",
      "25/05/05 15:16:42 WARN scheduler.DAGScheduler: Broadcasting large task binary with size 2.9 MiB\n",
      "25/05/05 15:16:43 WARN scheduler.DAGScheduler: Broadcasting large task binary with size 2.5 MiB\n",
      "25/05/05 15:16:44 WARN scheduler.DAGScheduler: Broadcasting large task binary with size 2.6 MiB\n",
      "25/05/05 15:16:45 WARN scheduler.DAGScheduler: Broadcasting large task binary with size 2.7 MiB\n",
      "25/05/05 15:16:46 WARN scheduler.DAGScheduler: Broadcasting large task binary with size 2.2 MiB\n",
      "25/05/05 15:16:47 WARN scheduler.DAGScheduler: Broadcasting large task binary with size 2.2 MiB\n",
      "25/05/05 15:16:48 WARN scheduler.DAGScheduler: Broadcasting large task binary with size 2.3 MiB\n",
      "25/05/05 15:16:49 WARN scheduler.DAGScheduler: Broadcasting large task binary with size 1706.6 KiB\n",
      "25/05/05 15:16:49 WARN scheduler.DAGScheduler: Broadcasting large task binary with size 1175.6 KiB\n",
      "25/05/05 15:16:51 WARN scheduler.DAGScheduler: Broadcasting large task binary with size 19.1 MiB\n",
      "25/05/05 15:17:07 WARN scheduler.DAGScheduler: Broadcasting large task binary with size 1467.8 KiB\n",
      "25/05/05 15:17:12 WARN scheduler.DAGScheduler: Broadcasting large task binary with size 2.2 MiB\n",
      "25/05/05 15:17:18 WARN scheduler.DAGScheduler: Broadcasting large task binary with size 3.2 MiB\n",
      "25/05/05 15:17:27 WARN scheduler.DAGScheduler: Broadcasting large task binary with size 4.5 MiB\n",
      "25/05/05 15:17:36 WARN scheduler.DAGScheduler: Broadcasting large task binary with size 6.2 MiB\n",
      "25/05/05 15:17:51 WARN scheduler.DAGScheduler: Broadcasting large task binary with size 4.3 MiB\n",
      "25/05/05 15:18:03 WARN scheduler.DAGScheduler: Broadcasting large task binary with size 1092.7 KiB\n",
      "25/05/05 15:18:07 WARN scheduler.DAGScheduler: Broadcasting large task binary with size 1566.8 KiB\n",
      "25/05/05 15:18:13 WARN scheduler.DAGScheduler: Broadcasting large task binary with size 2.2 MiB\n",
      "25/05/05 15:18:21 WARN scheduler.DAGScheduler: Broadcasting large task binary with size 3.3 MiB\n",
      "25/05/05 15:18:30 WARN scheduler.DAGScheduler: Broadcasting large task binary with size 4.4 MiB\n",
      "25/05/05 15:18:42 WARN scheduler.DAGScheduler: Broadcasting large task binary with size 5.1 MiB\n",
      "25/05/05 15:18:53 WARN scheduler.DAGScheduler: Broadcasting large task binary with size 1542.7 KiB\n",
      "25/05/05 15:18:56 WARN scheduler.DAGScheduler: Broadcasting large task binary with size 4.1 MiB\n",
      "25/05/05 15:19:11 WARN scheduler.DAGScheduler: Broadcasting large task binary with size 1467.8 KiB\n",
      "25/05/05 15:19:16 WARN scheduler.DAGScheduler: Broadcasting large task binary with size 2.2 MiB\n",
      "25/05/05 15:19:22 WARN scheduler.DAGScheduler: Broadcasting large task binary with size 3.2 MiB\n",
      "25/05/05 15:19:30 WARN scheduler.DAGScheduler: Broadcasting large task binary with size 4.5 MiB\n",
      "25/05/05 15:19:40 WARN scheduler.DAGScheduler: Broadcasting large task binary with size 6.2 MiB\n",
      "25/05/05 15:19:54 WARN scheduler.DAGScheduler: Broadcasting large task binary with size 7.9 MiB\n",
      "25/05/05 15:20:12 WARN scheduler.DAGScheduler: Broadcasting large task binary with size 9.1 MiB\n",
      "25/05/05 15:20:29 WARN scheduler.DAGScheduler: Broadcasting large task binary with size 10.5 MiB\n",
      "25/05/05 15:20:45 WARN scheduler.DAGScheduler: Broadcasting large task binary with size 12.1 MiB\n",
      "25/05/05 15:21:02 WARN scheduler.DAGScheduler: Broadcasting large task binary with size 13.7 MiB\n",
      "25/05/05 15:21:19 WARN scheduler.DAGScheduler: Broadcasting large task binary with size 15.7 MiB\n",
      "25/05/05 15:21:36 WARN scheduler.DAGScheduler: Broadcasting large task binary with size 17.6 MiB\n",
      "25/05/05 15:21:54 WARN scheduler.DAGScheduler: Broadcasting large task binary with size 19.9 MiB\n",
      "25/05/05 15:22:12 WARN scheduler.DAGScheduler: Broadcasting large task binary with size 22.0 MiB\n",
      "25/05/05 15:22:30 WARN scheduler.DAGScheduler: Broadcasting large task binary with size 24.1 MiB\n",
      "25/05/05 15:22:47 WARN scheduler.DAGScheduler: Broadcasting large task binary with size 3.3 MiB\n",
      "25/05/05 15:22:50 WARN scheduler.DAGScheduler: Broadcasting large task binary with size 3.8 MiB\n",
      "25/05/05 15:22:53 WARN scheduler.DAGScheduler: Broadcasting large task binary with size 4.2 MiB\n",
      "25/05/05 15:22:56 WARN scheduler.DAGScheduler: Broadcasting large task binary with size 3.9 MiB\n",
      "25/05/05 15:22:59 WARN scheduler.DAGScheduler: Broadcasting large task binary with size 4.4 MiB\n",
      "25/05/05 15:23:01 WARN scheduler.DAGScheduler: Broadcasting large task binary with size 4.5 MiB\n",
      "25/05/05 15:23:04 WARN scheduler.DAGScheduler: Broadcasting large task binary with size 4.4 MiB\n",
      "25/05/05 15:23:07 WARN scheduler.DAGScheduler: Broadcasting large task binary with size 4.8 MiB\n",
      "25/05/05 15:23:09 WARN scheduler.DAGScheduler: Broadcasting large task binary with size 3.5 MiB\n",
      "25/05/05 15:23:11 WARN scheduler.DAGScheduler: Broadcasting large task binary with size 1198.3 KiB\n",
      "25/05/05 15:23:13 WARN scheduler.DAGScheduler: Broadcasting large task binary with size 18.6 MiB\n",
      "25/05/05 15:23:27 WARN scheduler.DAGScheduler: Broadcasting large task binary with size 1092.7 KiB\n",
      "25/05/05 15:23:31 WARN scheduler.DAGScheduler: Broadcasting large task binary with size 1566.8 KiB\n",
      "25/05/05 15:23:37 WARN scheduler.DAGScheduler: Broadcasting large task binary with size 2.2 MiB\n",
      "25/05/05 15:23:44 WARN scheduler.DAGScheduler: Broadcasting large task binary with size 3.3 MiB\n",
      "25/05/05 15:23:54 WARN scheduler.DAGScheduler: Broadcasting large task binary with size 4.4 MiB\n",
      "25/05/05 15:24:05 WARN scheduler.DAGScheduler: Broadcasting large task binary with size 5.1 MiB\n",
      "25/05/05 15:24:17 WARN scheduler.DAGScheduler: Broadcasting large task binary with size 5.8 MiB\n",
      "25/05/05 15:24:27 WARN scheduler.DAGScheduler: Broadcasting large task binary with size 6.7 MiB\n",
      "25/05/05 15:24:38 WARN scheduler.DAGScheduler: Broadcasting large task binary with size 7.7 MiB\n",
      "25/05/05 15:24:50 WARN scheduler.DAGScheduler: Broadcasting large task binary with size 8.7 MiB\n",
      "25/05/05 15:25:01 WARN scheduler.DAGScheduler: Broadcasting large task binary with size 9.9 MiB\n",
      "25/05/05 15:25:13 WARN scheduler.DAGScheduler: Broadcasting large task binary with size 11.2 MiB\n",
      "25/05/05 15:25:24 WARN scheduler.DAGScheduler: Broadcasting large task binary with size 12.4 MiB\n",
      "25/05/05 15:25:36 WARN scheduler.DAGScheduler: Broadcasting large task binary with size 13.8 MiB\n",
      "25/05/05 15:25:47 WARN scheduler.DAGScheduler: Broadcasting large task binary with size 15.5 MiB\n",
      "25/05/05 15:26:00 WARN scheduler.DAGScheduler: Broadcasting large task binary with size 16.8 MiB\n",
      "25/05/05 15:26:11 WARN scheduler.DAGScheduler: Broadcasting large task binary with size 4.3 MiB\n",
      "25/05/05 15:26:18 WARN scheduler.DAGScheduler: Broadcasting large task binary with size 5.1 MiB\n",
      "25/05/05 15:26:25 WARN scheduler.DAGScheduler: Broadcasting large task binary with size 5.7 MiB\n",
      "25/05/05 15:26:33 WARN scheduler.DAGScheduler: Broadcasting large task binary with size 6.7 MiB\n",
      "25/05/05 15:26:41 WARN scheduler.DAGScheduler: Broadcasting large task binary with size 7.3 MiB\n",
      "25/05/05 15:26:49 WARN scheduler.DAGScheduler: Broadcasting large task binary with size 8.3 MiB\n",
      "25/05/05 15:26:56 WARN scheduler.DAGScheduler: Broadcasting large task binary with size 9.2 MiB\n",
      "25/05/05 15:27:04 WARN scheduler.DAGScheduler: Broadcasting large task binary with size 9.4 MiB\n",
      "25/05/05 15:27:12 WARN scheduler.DAGScheduler: Broadcasting large task binary with size 9.0 MiB\n",
      "25/05/05 15:27:19 WARN scheduler.DAGScheduler: Broadcasting large task binary with size 8.3 MiB\n",
      "25/05/05 15:27:24 WARN scheduler.DAGScheduler: Broadcasting large task binary with size 5.6 MiB\n",
      "25/05/05 15:27:27 WARN scheduler.DAGScheduler: Broadcasting large task binary with size 1960.6 KiB\n",
      "25/05/05 15:27:30 WARN scheduler.DAGScheduler: Broadcasting large task binary with size 18.1 MiB\n",
      "25/05/05 15:27:46 WARN scheduler.DAGScheduler: Broadcasting large task binary with size 1467.8 KiB\n",
      "25/05/05 15:27:51 WARN scheduler.DAGScheduler: Broadcasting large task binary with size 2.2 MiB\n",
      "25/05/05 15:27:57 WARN scheduler.DAGScheduler: Broadcasting large task binary with size 3.2 MiB\n",
      "25/05/05 15:28:04 WARN scheduler.DAGScheduler: Broadcasting large task binary with size 4.5 MiB\n",
      "25/05/05 15:28:15 WARN scheduler.DAGScheduler: Broadcasting large task binary with size 6.2 MiB\n",
      "25/05/05 15:28:30 WARN scheduler.DAGScheduler: Broadcasting large task binary with size 7.9 MiB\n",
      "25/05/05 15:28:47 WARN scheduler.DAGScheduler: Broadcasting large task binary with size 9.1 MiB\n",
      "25/05/05 15:29:03 WARN scheduler.DAGScheduler: Broadcasting large task binary with size 10.5 MiB\n",
      "25/05/05 15:29:21 WARN scheduler.DAGScheduler: Broadcasting large task binary with size 12.1 MiB\n",
      "25/05/05 15:29:37 WARN scheduler.DAGScheduler: Broadcasting large task binary with size 13.7 MiB\n",
      "25/05/05 15:29:54 WARN scheduler.DAGScheduler: Broadcasting large task binary with size 15.7 MiB\n",
      "25/05/05 15:30:11 WARN scheduler.DAGScheduler: Broadcasting large task binary with size 17.6 MiB\n",
      "25/05/05 15:30:29 WARN scheduler.DAGScheduler: Broadcasting large task binary with size 19.9 MiB\n",
      "25/05/05 15:30:47 WARN scheduler.DAGScheduler: Broadcasting large task binary with size 22.0 MiB\n",
      "25/05/05 15:31:04 WARN scheduler.DAGScheduler: Broadcasting large task binary with size 24.1 MiB\n",
      "25/05/05 15:31:23 WARN scheduler.DAGScheduler: Broadcasting large task binary with size 26.3 MiB\n",
      "25/05/05 15:31:43 WARN scheduler.DAGScheduler: Broadcasting large task binary with size 28.4 MiB\n",
      "25/05/05 15:32:02 WARN scheduler.DAGScheduler: Broadcasting large task binary with size 30.6 MiB\n",
      "25/05/05 15:32:23 WARN scheduler.DAGScheduler: Broadcasting large task binary with size 32.6 MiB\n",
      "25/05/05 15:32:43 WARN scheduler.DAGScheduler: Broadcasting large task binary with size 34.8 MiB\n",
      "25/05/05 15:33:04 WARN scheduler.DAGScheduler: Broadcasting large task binary with size 36.8 MiB\n",
      "25/05/05 15:33:26 WARN scheduler.DAGScheduler: Broadcasting large task binary with size 38.9 MiB\n",
      "25/05/05 15:33:47 WARN scheduler.DAGScheduler: Broadcasting large task binary with size 40.9 MiB\n",
      "25/05/05 15:34:10 WARN scheduler.DAGScheduler: Broadcasting large task binary with size 42.7 MiB\n",
      "25/05/05 15:34:32 WARN scheduler.DAGScheduler: Broadcasting large task binary with size 44.6 MiB\n",
      "25/05/05 15:34:50 WARN scheduler.DAGScheduler: Broadcasting large task binary with size 7.1 MiB\n",
      "25/05/05 15:34:53 WARN scheduler.DAGScheduler: Broadcasting large task binary with size 7.5 MiB\n",
      "25/05/05 15:34:56 WARN scheduler.DAGScheduler: Broadcasting large task binary with size 7.9 MiB\n",
      "25/05/05 15:35:00 WARN scheduler.DAGScheduler: Broadcasting large task binary with size 7.0 MiB\n",
      "25/05/05 15:35:03 WARN scheduler.DAGScheduler: Broadcasting large task binary with size 7.4 MiB\n",
      "25/05/05 15:35:06 WARN scheduler.DAGScheduler: Broadcasting large task binary with size 7.2 MiB\n",
      "25/05/05 15:35:09 WARN scheduler.DAGScheduler: Broadcasting large task binary with size 6.9 MiB\n",
      "25/05/05 15:35:11 WARN scheduler.DAGScheduler: Broadcasting large task binary with size 6.6 MiB\n",
      "25/05/05 15:35:14 WARN scheduler.DAGScheduler: Broadcasting large task binary with size 6.3 MiB\n",
      "25/05/05 15:35:16 WARN scheduler.DAGScheduler: Broadcasting large task binary with size 5.1 MiB\n",
      "25/05/05 15:35:18 WARN scheduler.DAGScheduler: Broadcasting large task binary with size 5.4 MiB\n",
      "25/05/05 15:35:20 WARN scheduler.DAGScheduler: Broadcasting large task binary with size 4.4 MiB\n",
      "25/05/05 15:35:22 WARN scheduler.DAGScheduler: Broadcasting large task binary with size 4.0 MiB\n",
      "25/05/05 15:35:23 WARN scheduler.DAGScheduler: Broadcasting large task binary with size 2.8 MiB\n",
      "25/05/05 15:35:24 WARN scheduler.DAGScheduler: Broadcasting large task binary with size 2.2 MiB\n",
      "25/05/05 15:35:24 WARN scheduler.DAGScheduler: Broadcasting large task binary with size 1642.7 KiB\n",
      "25/05/05 15:35:25 WARN scheduler.DAGScheduler: Broadcasting large task binary with size 1672.7 KiB\n",
      "25/05/05 15:35:28 WARN scheduler.DAGScheduler: Broadcasting large task binary with size 30.7 MiB\n",
      "25/05/05 15:35:44 WARN scheduler.DAGScheduler: Broadcasting large task binary with size 1092.7 KiB\n",
      "25/05/05 15:35:48 WARN scheduler.DAGScheduler: Broadcasting large task binary with size 1566.8 KiB\n",
      "25/05/05 15:35:54 WARN scheduler.DAGScheduler: Broadcasting large task binary with size 2.2 MiB\n",
      "25/05/05 15:36:01 WARN scheduler.DAGScheduler: Broadcasting large task binary with size 3.3 MiB\n",
      "25/05/05 15:36:11 WARN scheduler.DAGScheduler: Broadcasting large task binary with size 4.4 MiB\n",
      "25/05/05 15:36:23 WARN scheduler.DAGScheduler: Broadcasting large task binary with size 5.1 MiB\n",
      "25/05/05 15:36:34 WARN scheduler.DAGScheduler: Broadcasting large task binary with size 5.8 MiB\n",
      "25/05/05 15:36:45 WARN scheduler.DAGScheduler: Broadcasting large task binary with size 6.7 MiB\n",
      "25/05/05 15:36:57 WARN scheduler.DAGScheduler: Broadcasting large task binary with size 7.7 MiB\n",
      "25/05/05 15:37:07 WARN scheduler.DAGScheduler: Broadcasting large task binary with size 8.7 MiB\n",
      "25/05/05 15:37:19 WARN scheduler.DAGScheduler: Broadcasting large task binary with size 9.9 MiB\n",
      "25/05/05 15:37:30 WARN scheduler.DAGScheduler: Broadcasting large task binary with size 11.2 MiB\n",
      "25/05/05 15:37:41 WARN scheduler.DAGScheduler: Broadcasting large task binary with size 12.4 MiB\n",
      "25/05/05 15:37:53 WARN scheduler.DAGScheduler: Broadcasting large task binary with size 13.8 MiB\n",
      "25/05/05 15:38:05 WARN scheduler.DAGScheduler: Broadcasting large task binary with size 15.5 MiB\n",
      "25/05/05 15:38:17 WARN scheduler.DAGScheduler: Broadcasting large task binary with size 16.8 MiB\n",
      "25/05/05 15:38:30 WARN scheduler.DAGScheduler: Broadcasting large task binary with size 18.3 MiB\n",
      "25/05/05 15:38:43 WARN scheduler.DAGScheduler: Broadcasting large task binary with size 19.8 MiB\n",
      "25/05/05 15:38:56 WARN scheduler.DAGScheduler: Broadcasting large task binary with size 21.2 MiB\n",
      "25/05/05 15:39:09 WARN scheduler.DAGScheduler: Broadcasting large task binary with size 22.6 MiB\n",
      "25/05/05 15:39:23 WARN scheduler.DAGScheduler: Broadcasting large task binary with size 24.3 MiB\n",
      "25/05/05 15:39:40 WARN scheduler.DAGScheduler: Broadcasting large task binary with size 25.7 MiB\n",
      "25/05/05 15:39:57 WARN scheduler.DAGScheduler: Broadcasting large task binary with size 27.0 MiB\n",
      "25/05/05 15:40:14 WARN scheduler.DAGScheduler: Broadcasting large task binary with size 28.5 MiB\n",
      "25/05/05 15:40:31 WARN scheduler.DAGScheduler: Broadcasting large task binary with size 30.0 MiB\n",
      "25/05/05 15:40:48 WARN scheduler.DAGScheduler: Broadcasting large task binary with size 31.4 MiB\n",
      "25/05/05 15:41:04 WARN scheduler.DAGScheduler: Broadcasting large task binary with size 6.5 MiB\n",
      "25/05/05 15:41:11 WARN scheduler.DAGScheduler: Broadcasting large task binary with size 6.8 MiB\n",
      "25/05/05 15:41:18 WARN scheduler.DAGScheduler: Broadcasting large task binary with size 7.7 MiB\n",
      "25/05/05 15:41:25 WARN scheduler.DAGScheduler: Broadcasting large task binary with size 8.6 MiB\n",
      "25/05/05 15:41:33 WARN scheduler.DAGScheduler: Broadcasting large task binary with size 8.9 MiB\n",
      "25/05/05 15:41:41 WARN scheduler.DAGScheduler: Broadcasting large task binary with size 9.8 MiB\n",
      "25/05/05 15:41:49 WARN scheduler.DAGScheduler: Broadcasting large task binary with size 10.7 MiB\n",
      "25/05/05 15:41:57 WARN scheduler.DAGScheduler: Broadcasting large task binary with size 11.0 MiB\n",
      "25/05/05 15:42:04 WARN scheduler.DAGScheduler: Broadcasting large task binary with size 11.2 MiB\n",
      "25/05/05 15:42:12 WARN scheduler.DAGScheduler: Broadcasting large task binary with size 12.1 MiB\n",
      "25/05/05 15:42:20 WARN scheduler.DAGScheduler: Broadcasting large task binary with size 12.9 MiB\n",
      "25/05/05 15:42:28 WARN scheduler.DAGScheduler: Broadcasting large task binary with size 13.1 MiB\n",
      "25/05/05 15:42:35 WARN scheduler.DAGScheduler: Broadcasting large task binary with size 12.5 MiB\n",
      "25/05/05 15:42:42 WARN scheduler.DAGScheduler: Broadcasting large task binary with size 13.3 MiB\n",
      "25/05/05 15:42:49 WARN scheduler.DAGScheduler: Broadcasting large task binary with size 13.3 MiB\n",
      "25/05/05 15:42:56 WARN scheduler.DAGScheduler: Broadcasting large task binary with size 13.9 MiB\n",
      "25/05/05 15:43:03 WARN scheduler.DAGScheduler: Broadcasting large task binary with size 14.0 MiB\n",
      "25/05/05 15:43:09 WARN scheduler.DAGScheduler: Broadcasting large task binary with size 13.3 MiB\n",
      "25/05/05 15:43:15 WARN scheduler.DAGScheduler: Broadcasting large task binary with size 13.8 MiB\n",
      "25/05/05 15:43:20 WARN scheduler.DAGScheduler: Broadcasting large task binary with size 13.7 MiB\n",
      "25/05/05 15:43:26 WARN scheduler.DAGScheduler: Broadcasting large task binary with size 9.3 MiB\n",
      "25/05/05 15:43:29 WARN scheduler.DAGScheduler: Broadcasting large task binary with size 2.9 MiB\n",
      "25/05/05 15:43:32 WARN scheduler.DAGScheduler: Broadcasting large task binary with size 30.4 MiB\n",
      "25/05/05 15:43:47 WARN scheduler.DAGScheduler: Broadcasting large task binary with size 1104.0 KiB\n",
      "25/05/05 15:43:50 WARN scheduler.DAGScheduler: Broadcasting large task binary with size 1512.9 KiB\n",
      "25/05/05 15:43:53 WARN scheduler.DAGScheduler: Broadcasting large task binary with size 2033.0 KiB\n",
      "25/05/05 15:43:56 WARN scheduler.DAGScheduler: Broadcasting large task binary with size 2.6 MiB\n",
      "25/05/05 15:44:00 WARN scheduler.DAGScheduler: Broadcasting large task binary with size 1780.8 KiB\n",
      "25/05/05 15:44:13 WARN scheduler.DAGScheduler: Broadcasting large task binary with size 1193.9 KiB\n",
      "25/05/05 15:44:16 WARN scheduler.DAGScheduler: Broadcasting large task binary with size 1583.2 KiB\n",
      "25/05/05 15:44:19 WARN scheduler.DAGScheduler: Broadcasting large task binary with size 2.0 MiB\n",
      "25/05/05 15:44:24 WARN scheduler.DAGScheduler: Broadcasting large task binary with size 2.6 MiB\n",
      "25/05/05 15:44:29 WARN scheduler.DAGScheduler: Broadcasting large task binary with size 1718.8 KiB\n",
      "25/05/05 15:44:38 WARN scheduler.DAGScheduler: Broadcasting large task binary with size 1104.0 KiB\n",
      "25/05/05 15:44:40 WARN scheduler.DAGScheduler: Broadcasting large task binary with size 1512.9 KiB\n",
      "25/05/05 15:44:43 WARN scheduler.DAGScheduler: Broadcasting large task binary with size 2033.0 KiB\n",
      "25/05/05 15:44:46 WARN scheduler.DAGScheduler: Broadcasting large task binary with size 2.6 MiB\n",
      "25/05/05 15:44:50 WARN scheduler.DAGScheduler: Broadcasting large task binary with size 3.3 MiB\n",
      "25/05/05 15:44:55 WARN scheduler.DAGScheduler: Broadcasting large task binary with size 4.1 MiB\n",
      "25/05/05 15:44:59 WARN scheduler.DAGScheduler: Broadcasting large task binary with size 5.0 MiB\n",
      "25/05/05 15:45:04 WARN scheduler.DAGScheduler: Broadcasting large task binary with size 5.8 MiB\n",
      "25/05/05 15:45:10 WARN scheduler.DAGScheduler: Broadcasting large task binary with size 6.7 MiB\n",
      "25/05/05 15:45:15 WARN scheduler.DAGScheduler: Broadcasting large task binary with size 7.5 MiB\n",
      "25/05/05 15:45:21 WARN scheduler.DAGScheduler: Broadcasting large task binary with size 8.4 MiB\n",
      "25/05/05 15:45:27 WARN scheduler.DAGScheduler: Broadcasting large task binary with size 9.2 MiB\n",
      "25/05/05 15:45:32 WARN scheduler.DAGScheduler: Broadcasting large task binary with size 10.0 MiB\n",
      "25/05/05 15:45:38 WARN scheduler.DAGScheduler: Broadcasting large task binary with size 10.8 MiB\n",
      "25/05/05 15:45:44 WARN scheduler.DAGScheduler: Broadcasting large task binary with size 6.9 MiB\n",
      "25/05/05 15:45:54 WARN scheduler.DAGScheduler: Broadcasting large task binary with size 1193.9 KiB\n",
      "25/05/05 15:45:57 WARN scheduler.DAGScheduler: Broadcasting large task binary with size 1583.2 KiB\n",
      "25/05/05 15:46:00 WARN scheduler.DAGScheduler: Broadcasting large task binary with size 2.0 MiB\n",
      "25/05/05 15:46:05 WARN scheduler.DAGScheduler: Broadcasting large task binary with size 2.6 MiB\n",
      "25/05/05 15:46:10 WARN scheduler.DAGScheduler: Broadcasting large task binary with size 3.3 MiB\n",
      "25/05/05 15:46:16 WARN scheduler.DAGScheduler: Broadcasting large task binary with size 4.0 MiB\n",
      "25/05/05 15:46:21 WARN scheduler.DAGScheduler: Broadcasting large task binary with size 4.8 MiB\n",
      "25/05/05 15:46:28 WARN scheduler.DAGScheduler: Broadcasting large task binary with size 5.7 MiB\n",
      "25/05/05 15:46:34 WARN scheduler.DAGScheduler: Broadcasting large task binary with size 6.5 MiB\n",
      "25/05/05 15:46:41 WARN scheduler.DAGScheduler: Broadcasting large task binary with size 7.3 MiB\n",
      "25/05/05 15:46:48 WARN scheduler.DAGScheduler: Broadcasting large task binary with size 8.2 MiB\n",
      "25/05/05 15:46:55 WARN scheduler.DAGScheduler: Broadcasting large task binary with size 9.0 MiB\n",
      "25/05/05 15:47:03 WARN scheduler.DAGScheduler: Broadcasting large task binary with size 9.8 MiB\n",
      "25/05/05 15:47:10 WARN scheduler.DAGScheduler: Broadcasting large task binary with size 10.7 MiB\n",
      "25/05/05 15:47:17 WARN scheduler.DAGScheduler: Broadcasting large task binary with size 6.7 MiB\n",
      "25/05/05 15:47:27 WARN scheduler.DAGScheduler: Broadcasting large task binary with size 1104.0 KiB\n",
      "25/05/05 15:47:29 WARN scheduler.DAGScheduler: Broadcasting large task binary with size 1512.9 KiB\n",
      "25/05/05 15:47:32 WARN scheduler.DAGScheduler: Broadcasting large task binary with size 2033.0 KiB\n",
      "25/05/05 15:47:35 WARN scheduler.DAGScheduler: Broadcasting large task binary with size 2.6 MiB\n",
      "25/05/05 15:47:39 WARN scheduler.DAGScheduler: Broadcasting large task binary with size 3.3 MiB\n",
      "25/05/05 15:47:44 WARN scheduler.DAGScheduler: Broadcasting large task binary with size 4.1 MiB\n",
      "25/05/05 15:47:49 WARN scheduler.DAGScheduler: Broadcasting large task binary with size 5.0 MiB\n",
      "25/05/05 15:47:54 WARN scheduler.DAGScheduler: Broadcasting large task binary with size 5.8 MiB\n",
      "25/05/05 15:47:59 WARN scheduler.DAGScheduler: Broadcasting large task binary with size 6.7 MiB\n",
      "25/05/05 15:48:05 WARN scheduler.DAGScheduler: Broadcasting large task binary with size 7.5 MiB\n",
      "25/05/05 15:48:10 WARN scheduler.DAGScheduler: Broadcasting large task binary with size 8.4 MiB\n",
      "25/05/05 15:48:16 WARN scheduler.DAGScheduler: Broadcasting large task binary with size 9.2 MiB\n",
      "25/05/05 15:48:22 WARN scheduler.DAGScheduler: Broadcasting large task binary with size 10.0 MiB\n",
      "25/05/05 15:48:27 WARN scheduler.DAGScheduler: Broadcasting large task binary with size 10.8 MiB\n",
      "25/05/05 15:48:33 WARN scheduler.DAGScheduler: Broadcasting large task binary with size 11.6 MiB\n",
      "25/05/05 15:48:39 WARN scheduler.DAGScheduler: Broadcasting large task binary with size 12.4 MiB\n",
      "25/05/05 15:48:45 WARN scheduler.DAGScheduler: Broadcasting large task binary with size 13.2 MiB\n",
      "25/05/05 15:48:51 WARN scheduler.DAGScheduler: Broadcasting large task binary with size 13.9 MiB\n",
      "25/05/05 15:48:57 WARN scheduler.DAGScheduler: Broadcasting large task binary with size 14.7 MiB\n",
      "25/05/05 15:49:03 WARN scheduler.DAGScheduler: Broadcasting large task binary with size 15.4 MiB\n",
      "25/05/05 15:49:09 WARN scheduler.DAGScheduler: Broadcasting large task binary with size 16.1 MiB\n",
      "25/05/05 15:49:15 WARN scheduler.DAGScheduler: Broadcasting large task binary with size 16.7 MiB\n",
      "25/05/05 15:49:21 WARN scheduler.DAGScheduler: Broadcasting large task binary with size 17.4 MiB\n",
      "25/05/05 15:49:27 WARN scheduler.DAGScheduler: Broadcasting large task binary with size 18.1 MiB\n",
      "25/05/05 15:49:33 WARN scheduler.DAGScheduler: Broadcasting large task binary with size 11.3 MiB\n",
      "25/05/05 15:49:43 WARN scheduler.DAGScheduler: Broadcasting large task binary with size 1193.9 KiB\n",
      "25/05/05 15:49:46 WARN scheduler.DAGScheduler: Broadcasting large task binary with size 1583.2 KiB\n",
      "25/05/05 15:49:50 WARN scheduler.DAGScheduler: Broadcasting large task binary with size 2.0 MiB\n",
      "25/05/05 15:49:54 WARN scheduler.DAGScheduler: Broadcasting large task binary with size 2.6 MiB\n",
      "25/05/05 15:49:59 WARN scheduler.DAGScheduler: Broadcasting large task binary with size 3.3 MiB\n",
      "25/05/05 15:50:05 WARN scheduler.DAGScheduler: Broadcasting large task binary with size 4.0 MiB\n",
      "25/05/05 15:50:11 WARN scheduler.DAGScheduler: Broadcasting large task binary with size 4.8 MiB\n",
      "25/05/05 15:50:18 WARN scheduler.DAGScheduler: Broadcasting large task binary with size 5.7 MiB\n",
      "25/05/05 15:50:25 WARN scheduler.DAGScheduler: Broadcasting large task binary with size 6.5 MiB\n",
      "25/05/05 15:50:32 WARN scheduler.DAGScheduler: Broadcasting large task binary with size 7.3 MiB\n",
      "25/05/05 15:50:39 WARN scheduler.DAGScheduler: Broadcasting large task binary with size 8.2 MiB\n",
      "25/05/05 15:50:46 WARN scheduler.DAGScheduler: Broadcasting large task binary with size 9.0 MiB\n",
      "25/05/05 15:50:53 WARN scheduler.DAGScheduler: Broadcasting large task binary with size 9.8 MiB\n",
      "25/05/05 15:51:00 WARN scheduler.DAGScheduler: Broadcasting large task binary with size 10.7 MiB\n",
      "25/05/05 15:51:07 WARN scheduler.DAGScheduler: Broadcasting large task binary with size 11.4 MiB\n",
      "25/05/05 15:51:15 WARN scheduler.DAGScheduler: Broadcasting large task binary with size 12.2 MiB\n",
      "25/05/05 15:51:22 WARN scheduler.DAGScheduler: Broadcasting large task binary with size 13.0 MiB\n",
      "25/05/05 15:51:29 WARN scheduler.DAGScheduler: Broadcasting large task binary with size 13.7 MiB\n",
      "25/05/05 15:51:36 WARN scheduler.DAGScheduler: Broadcasting large task binary with size 14.4 MiB\n",
      "25/05/05 15:51:43 WARN scheduler.DAGScheduler: Broadcasting large task binary with size 15.1 MiB\n",
      "25/05/05 15:51:50 WARN scheduler.DAGScheduler: Broadcasting large task binary with size 15.8 MiB\n",
      "25/05/05 15:51:58 WARN scheduler.DAGScheduler: Broadcasting large task binary with size 16.4 MiB\n",
      "25/05/05 15:52:05 WARN scheduler.DAGScheduler: Broadcasting large task binary with size 17.1 MiB\n",
      "25/05/05 15:52:12 WARN scheduler.DAGScheduler: Broadcasting large task binary with size 17.7 MiB\n",
      "25/05/05 15:52:19 WARN scheduler.DAGScheduler: Broadcasting large task binary with size 11.0 MiB\n",
      "25/05/05 15:52:29 WARN scheduler.DAGScheduler: Broadcasting large task binary with size 1084.8 KiB\n",
      "25/05/05 15:52:32 WARN scheduler.DAGScheduler: Broadcasting large task binary with size 1565.0 KiB\n",
      "25/05/05 15:52:36 WARN scheduler.DAGScheduler: Broadcasting large task binary with size 2.2 MiB\n",
      "25/05/05 15:52:41 WARN scheduler.DAGScheduler: Broadcasting large task binary with size 3.1 MiB\n",
      "25/05/05 15:52:47 WARN scheduler.DAGScheduler: Broadcasting large task binary with size 4.2 MiB\n",
      "25/05/05 15:52:54 WARN scheduler.DAGScheduler: Broadcasting large task binary with size 2.9 MiB\n",
      "25/05/05 15:53:05 WARN scheduler.DAGScheduler: Broadcasting large task binary with size 1191.6 KiB\n",
      "25/05/05 15:53:09 WARN scheduler.DAGScheduler: Broadcasting large task binary with size 1654.7 KiB\n",
      "25/05/05 15:53:14 WARN scheduler.DAGScheduler: Broadcasting large task binary with size 2.3 MiB\n",
      "25/05/05 15:53:20 WARN scheduler.DAGScheduler: Broadcasting large task binary with size 3.1 MiB\n",
      "25/05/05 15:53:27 WARN scheduler.DAGScheduler: Broadcasting large task binary with size 4.1 MiB\n",
      "25/05/05 15:53:36 WARN scheduler.DAGScheduler: Broadcasting large task binary with size 2.7 MiB\n",
      "25/05/05 15:53:45 WARN scheduler.DAGScheduler: Broadcasting large task binary with size 1084.8 KiB\n",
      "25/05/05 15:53:48 WARN scheduler.DAGScheduler: Broadcasting large task binary with size 1565.0 KiB\n",
      "25/05/05 15:53:52 WARN scheduler.DAGScheduler: Broadcasting large task binary with size 2.2 MiB\n",
      "25/05/05 15:53:57 WARN scheduler.DAGScheduler: Broadcasting large task binary with size 3.1 MiB\n",
      "25/05/05 15:54:03 WARN scheduler.DAGScheduler: Broadcasting large task binary with size 4.2 MiB\n",
      "25/05/05 15:54:10 WARN scheduler.DAGScheduler: Broadcasting large task binary with size 5.4 MiB\n",
      "25/05/05 15:54:19 WARN scheduler.DAGScheduler: Broadcasting large task binary with size 6.7 MiB\n",
      "25/05/05 15:54:27 WARN scheduler.DAGScheduler: Broadcasting large task binary with size 8.1 MiB\n",
      "25/05/05 15:54:36 WARN scheduler.DAGScheduler: Broadcasting large task binary with size 9.5 MiB\n",
      "25/05/05 15:54:45 WARN scheduler.DAGScheduler: Broadcasting large task binary with size 10.9 MiB\n",
      "25/05/05 15:54:55 WARN scheduler.DAGScheduler: Broadcasting large task binary with size 12.4 MiB\n",
      "25/05/05 15:55:04 WARN scheduler.DAGScheduler: Broadcasting large task binary with size 13.8 MiB\n",
      "25/05/05 15:55:15 WARN scheduler.DAGScheduler: Broadcasting large task binary with size 15.2 MiB\n",
      "25/05/05 15:55:24 WARN scheduler.DAGScheduler: Broadcasting large task binary with size 16.5 MiB\n",
      "25/05/05 15:55:34 WARN scheduler.DAGScheduler: Broadcasting large task binary with size 17.9 MiB\n",
      "25/05/05 15:55:44 WARN scheduler.DAGScheduler: Broadcasting large task binary with size 11.4 MiB\n",
      "25/05/05 15:55:55 WARN scheduler.DAGScheduler: Broadcasting large task binary with size 1191.6 KiB\n",
      "25/05/05 15:55:59 WARN scheduler.DAGScheduler: Broadcasting large task binary with size 1654.7 KiB\n",
      "25/05/05 15:56:04 WARN scheduler.DAGScheduler: Broadcasting large task binary with size 2.3 MiB\n",
      "25/05/05 15:56:10 WARN scheduler.DAGScheduler: Broadcasting large task binary with size 3.1 MiB\n",
      "25/05/05 15:56:17 WARN scheduler.DAGScheduler: Broadcasting large task binary with size 4.1 MiB\n",
      "25/05/05 15:56:26 WARN scheduler.DAGScheduler: Broadcasting large task binary with size 5.2 MiB\n",
      "25/05/05 15:56:36 WARN scheduler.DAGScheduler: Broadcasting large task binary with size 6.5 MiB\n",
      "25/05/05 15:56:47 WARN scheduler.DAGScheduler: Broadcasting large task binary with size 7.7 MiB\n",
      "25/05/05 15:56:58 WARN scheduler.DAGScheduler: Broadcasting large task binary with size 8.9 MiB\n",
      "25/05/05 15:57:09 WARN scheduler.DAGScheduler: Broadcasting large task binary with size 10.3 MiB\n",
      "25/05/05 15:57:22 WARN scheduler.DAGScheduler: Broadcasting large task binary with size 11.6 MiB\n",
      "25/05/05 15:57:33 WARN scheduler.DAGScheduler: Broadcasting large task binary with size 12.7 MiB\n",
      "25/05/05 15:57:45 WARN scheduler.DAGScheduler: Broadcasting large task binary with size 14.1 MiB\n",
      "25/05/05 15:57:57 WARN scheduler.DAGScheduler: Broadcasting large task binary with size 15.6 MiB\n",
      "25/05/05 15:58:09 WARN scheduler.DAGScheduler: Broadcasting large task binary with size 17.1 MiB\n",
      "25/05/05 15:58:21 WARN scheduler.DAGScheduler: Broadcasting large task binary with size 1531.1 KiB\n",
      "25/05/05 15:58:22 WARN scheduler.DAGScheduler: Broadcasting large task binary with size 1623.6 KiB\n",
      "25/05/05 15:58:22 WARN scheduler.DAGScheduler: Broadcasting large task binary with size 1324.7 KiB\n",
      "25/05/05 15:58:23 WARN scheduler.DAGScheduler: Broadcasting large task binary with size 1410.2 KiB\n",
      "25/05/05 15:58:24 WARN scheduler.DAGScheduler: Broadcasting large task binary with size 1486.4 KiB\n",
      "25/05/05 15:58:25 WARN scheduler.DAGScheduler: Broadcasting large task binary with size 1553.5 KiB\n",
      "25/05/05 15:58:25 WARN scheduler.DAGScheduler: Broadcasting large task binary with size 1219.3 KiB\n",
      "25/05/05 15:58:26 WARN scheduler.DAGScheduler: Broadcasting large task binary with size 1254.9 KiB\n",
      "25/05/05 15:58:27 WARN scheduler.DAGScheduler: Broadcasting large task binary with size 11.3 MiB\n",
      "25/05/05 15:58:38 WARN scheduler.DAGScheduler: Broadcasting large task binary with size 1084.8 KiB\n",
      "25/05/05 15:58:41 WARN scheduler.DAGScheduler: Broadcasting large task binary with size 1565.0 KiB\n",
      "25/05/05 15:58:44 WARN scheduler.DAGScheduler: Broadcasting large task binary with size 2.2 MiB\n",
      "25/05/05 15:58:49 WARN scheduler.DAGScheduler: Broadcasting large task binary with size 3.1 MiB\n",
      "25/05/05 15:58:55 WARN scheduler.DAGScheduler: Broadcasting large task binary with size 4.2 MiB\n",
      "25/05/05 15:59:02 WARN scheduler.DAGScheduler: Broadcasting large task binary with size 5.4 MiB\n",
      "25/05/05 15:59:10 WARN scheduler.DAGScheduler: Broadcasting large task binary with size 6.7 MiB\n",
      "25/05/05 15:59:19 WARN scheduler.DAGScheduler: Broadcasting large task binary with size 8.1 MiB\n",
      "25/05/05 15:59:27 WARN scheduler.DAGScheduler: Broadcasting large task binary with size 9.5 MiB\n",
      "25/05/05 15:59:36 WARN scheduler.DAGScheduler: Broadcasting large task binary with size 10.9 MiB\n",
      "25/05/05 15:59:45 WARN scheduler.DAGScheduler: Broadcasting large task binary with size 12.4 MiB\n",
      "25/05/05 15:59:55 WARN scheduler.DAGScheduler: Broadcasting large task binary with size 13.8 MiB\n",
      "25/05/05 16:00:04 WARN scheduler.DAGScheduler: Broadcasting large task binary with size 15.2 MiB\n",
      "25/05/05 16:00:14 WARN scheduler.DAGScheduler: Broadcasting large task binary with size 16.5 MiB\n",
      "25/05/05 16:00:24 WARN scheduler.DAGScheduler: Broadcasting large task binary with size 17.9 MiB\n",
      "25/05/05 16:00:34 WARN scheduler.DAGScheduler: Broadcasting large task binary with size 19.2 MiB\n",
      "25/05/05 16:00:44 WARN scheduler.DAGScheduler: Broadcasting large task binary with size 20.4 MiB\n",
      "25/05/05 16:00:54 WARN scheduler.DAGScheduler: Broadcasting large task binary with size 21.7 MiB\n",
      "25/05/05 16:01:04 WARN scheduler.DAGScheduler: Broadcasting large task binary with size 22.9 MiB\n",
      "25/05/05 16:01:14 WARN scheduler.DAGScheduler: Broadcasting large task binary with size 24.0 MiB\n",
      "25/05/05 16:01:24 WARN scheduler.DAGScheduler: Broadcasting large task binary with size 25.2 MiB\n",
      "25/05/05 16:01:35 WARN scheduler.DAGScheduler: Broadcasting large task binary with size 26.3 MiB\n",
      "25/05/05 16:01:45 WARN scheduler.DAGScheduler: Broadcasting large task binary with size 27.4 MiB\n",
      "25/05/05 16:01:55 WARN scheduler.DAGScheduler: Broadcasting large task binary with size 28.4 MiB\n",
      "25/05/05 16:02:06 WARN scheduler.DAGScheduler: Broadcasting large task binary with size 29.5 MiB\n",
      "25/05/05 16:02:17 WARN scheduler.DAGScheduler: Broadcasting large task binary with size 18.5 MiB\n",
      "25/05/05 16:02:29 WARN scheduler.DAGScheduler: Broadcasting large task binary with size 1191.6 KiB\n",
      "25/05/05 16:02:32 WARN scheduler.DAGScheduler: Broadcasting large task binary with size 1654.7 KiB\n",
      "25/05/05 16:02:37 WARN scheduler.DAGScheduler: Broadcasting large task binary with size 2.3 MiB\n",
      "25/05/05 16:02:43 WARN scheduler.DAGScheduler: Broadcasting large task binary with size 3.1 MiB\n",
      "25/05/05 16:02:51 WARN scheduler.DAGScheduler: Broadcasting large task binary with size 4.1 MiB\n",
      "25/05/05 16:02:59 WARN scheduler.DAGScheduler: Broadcasting large task binary with size 5.2 MiB\n",
      "25/05/05 16:03:10 WARN scheduler.DAGScheduler: Broadcasting large task binary with size 6.5 MiB\n",
      "25/05/05 16:03:21 WARN scheduler.DAGScheduler: Broadcasting large task binary with size 7.7 MiB\n",
      "25/05/05 16:03:32 WARN scheduler.DAGScheduler: Broadcasting large task binary with size 8.9 MiB\n",
      "25/05/05 16:03:43 WARN scheduler.DAGScheduler: Broadcasting large task binary with size 10.3 MiB\n",
      "25/05/05 16:03:54 WARN scheduler.DAGScheduler: Broadcasting large task binary with size 11.6 MiB\n",
      "25/05/05 16:04:06 WARN scheduler.DAGScheduler: Broadcasting large task binary with size 12.7 MiB\n",
      "25/05/05 16:04:18 WARN scheduler.DAGScheduler: Broadcasting large task binary with size 14.1 MiB\n",
      "25/05/05 16:04:30 WARN scheduler.DAGScheduler: Broadcasting large task binary with size 15.6 MiB\n",
      "25/05/05 16:04:42 WARN scheduler.DAGScheduler: Broadcasting large task binary with size 17.1 MiB\n",
      "25/05/05 16:04:55 WARN scheduler.DAGScheduler: Broadcasting large task binary with size 18.6 MiB\n",
      "25/05/05 16:05:12 WARN scheduler.DAGScheduler: Broadcasting large task binary with size 19.9 MiB\n",
      "25/05/05 16:05:29 WARN scheduler.DAGScheduler: Broadcasting large task binary with size 21.2 MiB\n",
      "25/05/05 16:05:46 WARN scheduler.DAGScheduler: Broadcasting large task binary with size 22.4 MiB\n",
      "25/05/05 16:05:59 WARN scheduler.DAGScheduler: Broadcasting large task binary with size 23.7 MiB\n",
      "25/05/05 16:06:16 WARN scheduler.DAGScheduler: Broadcasting large task binary with size 24.9 MiB\n",
      "25/05/05 16:06:32 WARN scheduler.DAGScheduler: Broadcasting large task binary with size 26.1 MiB\n",
      "25/05/05 16:06:46 WARN scheduler.DAGScheduler: Broadcasting large task binary with size 27.3 MiB\n",
      "25/05/05 16:06:59 WARN scheduler.DAGScheduler: Broadcasting large task binary with size 28.5 MiB\n",
      "25/05/05 16:07:13 WARN scheduler.DAGScheduler: Broadcasting large task binary with size 29.6 MiB\n",
      "25/05/05 16:07:24 WARN scheduler.DAGScheduler: Broadcasting large task binary with size 2.6 MiB\n",
      "25/05/05 16:07:25 WARN scheduler.DAGScheduler: Broadcasting large task binary with size 2.0 MiB\n",
      "25/05/05 16:07:26 WARN scheduler.DAGScheduler: Broadcasting large task binary with size 2.1 MiB\n",
      "25/05/05 16:07:27 WARN scheduler.DAGScheduler: Broadcasting large task binary with size 2.2 MiB\n",
      "25/05/05 16:07:27 WARN scheduler.DAGScheduler: Broadcasting large task binary with size 2.2 MiB\n",
      "25/05/05 16:07:28 WARN scheduler.DAGScheduler: Broadcasting large task binary with size 2.3 MiB\n",
      "25/05/05 16:07:29 WARN scheduler.DAGScheduler: Broadcasting large task binary with size 1698.9 KiB\n",
      "25/05/05 16:07:29 WARN scheduler.DAGScheduler: Broadcasting large task binary with size 1134.5 KiB\n",
      "25/05/05 16:07:29 WARN scheduler.DAGScheduler: Broadcasting large task binary with size 1148.8 KiB\n",
      "25/05/05 16:07:31 WARN scheduler.DAGScheduler: Broadcasting large task binary with size 18.8 MiB\n",
      "25/05/05 16:07:46 WARN scheduler.DAGScheduler: Broadcasting large task binary with size 1464.2 KiB\n",
      "25/05/05 16:07:51 WARN scheduler.DAGScheduler: Broadcasting large task binary with size 2.2 MiB\n",
      "25/05/05 16:07:57 WARN scheduler.DAGScheduler: Broadcasting large task binary with size 3.2 MiB\n",
      "25/05/05 16:08:05 WARN scheduler.DAGScheduler: Broadcasting large task binary with size 4.6 MiB\n",
      "25/05/05 16:08:16 WARN scheduler.DAGScheduler: Broadcasting large task binary with size 6.2 MiB\n",
      "25/05/05 16:08:30 WARN scheduler.DAGScheduler: Broadcasting large task binary with size 4.3 MiB\n",
      "25/05/05 16:08:42 WARN scheduler.DAGScheduler: Broadcasting large task binary with size 1093.8 KiB\n",
      "25/05/05 16:08:46 WARN scheduler.DAGScheduler: Broadcasting large task binary with size 1563.7 KiB\n",
      "25/05/05 16:08:51 WARN scheduler.DAGScheduler: Broadcasting large task binary with size 2.2 MiB\n",
      "25/05/05 16:08:59 WARN scheduler.DAGScheduler: Broadcasting large task binary with size 3.3 MiB\n",
      "25/05/05 16:09:09 WARN scheduler.DAGScheduler: Broadcasting large task binary with size 4.3 MiB\n",
      "25/05/05 16:09:21 WARN scheduler.DAGScheduler: Broadcasting large task binary with size 5.0 MiB\n",
      "25/05/05 16:09:31 WARN scheduler.DAGScheduler: Broadcasting large task binary with size 1657.5 KiB\n",
      "25/05/05 16:09:35 WARN scheduler.DAGScheduler: Broadcasting large task binary with size 4.2 MiB\n",
      "25/05/05 16:09:49 WARN scheduler.DAGScheduler: Broadcasting large task binary with size 1464.2 KiB\n",
      "25/05/05 16:09:54 WARN scheduler.DAGScheduler: Broadcasting large task binary with size 2.2 MiB\n",
      "25/05/05 16:10:00 WARN scheduler.DAGScheduler: Broadcasting large task binary with size 3.2 MiB\n",
      "25/05/05 16:10:09 WARN scheduler.DAGScheduler: Broadcasting large task binary with size 4.6 MiB\n",
      "25/05/05 16:10:19 WARN scheduler.DAGScheduler: Broadcasting large task binary with size 6.2 MiB\n",
      "25/05/05 16:10:33 WARN scheduler.DAGScheduler: Broadcasting large task binary with size 7.8 MiB\n",
      "25/05/05 16:10:49 WARN scheduler.DAGScheduler: Broadcasting large task binary with size 9.1 MiB\n",
      "25/05/05 16:11:06 WARN scheduler.DAGScheduler: Broadcasting large task binary with size 10.7 MiB\n",
      "25/05/05 16:11:23 WARN scheduler.DAGScheduler: Broadcasting large task binary with size 12.3 MiB\n",
      "25/05/05 16:11:39 WARN scheduler.DAGScheduler: Broadcasting large task binary with size 14.4 MiB\n",
      "25/05/05 16:11:56 WARN scheduler.DAGScheduler: Broadcasting large task binary with size 16.5 MiB\n",
      "25/05/05 16:12:14 WARN scheduler.DAGScheduler: Broadcasting large task binary with size 18.4 MiB\n",
      "25/05/05 16:12:32 WARN scheduler.DAGScheduler: Broadcasting large task binary with size 20.7 MiB\n",
      "25/05/05 16:12:50 WARN scheduler.DAGScheduler: Broadcasting large task binary with size 22.8 MiB\n",
      "25/05/05 16:13:09 WARN scheduler.DAGScheduler: Broadcasting large task binary with size 24.8 MiB\n",
      "25/05/05 16:13:26 WARN scheduler.DAGScheduler: Broadcasting large task binary with size 3.1 MiB\n",
      "25/05/05 16:13:29 WARN scheduler.DAGScheduler: Broadcasting large task binary with size 3.1 MiB\n",
      "25/05/05 16:13:31 WARN scheduler.DAGScheduler: Broadcasting large task binary with size 3.2 MiB\n",
      "25/05/05 16:13:33 WARN scheduler.DAGScheduler: Broadcasting large task binary with size 3.6 MiB\n",
      "25/05/05 16:13:36 WARN scheduler.DAGScheduler: Broadcasting large task binary with size 4.0 MiB\n",
      "25/05/05 16:13:38 WARN scheduler.DAGScheduler: Broadcasting large task binary with size 3.3 MiB\n",
      "25/05/05 16:13:40 WARN scheduler.DAGScheduler: Broadcasting large task binary with size 3.6 MiB\n",
      "25/05/05 16:13:42 WARN scheduler.DAGScheduler: Broadcasting large task binary with size 3.5 MiB\n",
      "25/05/05 16:13:44 WARN scheduler.DAGScheduler: Broadcasting large task binary with size 3.3 MiB\n",
      "25/05/05 16:13:46 WARN scheduler.DAGScheduler: Broadcasting large task binary with size 2.1 MiB\n",
      "25/05/05 16:13:48 WARN scheduler.DAGScheduler: Broadcasting large task binary with size 18.3 MiB\n",
      "25/05/05 16:14:02 WARN scheduler.DAGScheduler: Broadcasting large task binary with size 1093.8 KiB\n",
      "25/05/05 16:14:06 WARN scheduler.DAGScheduler: Broadcasting large task binary with size 1563.7 KiB\n",
      "25/05/05 16:14:12 WARN scheduler.DAGScheduler: Broadcasting large task binary with size 2.2 MiB\n",
      "25/05/05 16:14:20 WARN scheduler.DAGScheduler: Broadcasting large task binary with size 3.3 MiB\n",
      "25/05/05 16:14:30 WARN scheduler.DAGScheduler: Broadcasting large task binary with size 4.3 MiB\n",
      "25/05/05 16:14:41 WARN scheduler.DAGScheduler: Broadcasting large task binary with size 5.0 MiB\n",
      "25/05/05 16:14:52 WARN scheduler.DAGScheduler: Broadcasting large task binary with size 5.7 MiB\n",
      "25/05/05 16:15:03 WARN scheduler.DAGScheduler: Broadcasting large task binary with size 6.6 MiB\n",
      "25/05/05 16:15:14 WARN scheduler.DAGScheduler: Broadcasting large task binary with size 7.5 MiB\n",
      "25/05/05 16:15:25 WARN scheduler.DAGScheduler: Broadcasting large task binary with size 8.7 MiB\n",
      "25/05/05 16:15:37 WARN scheduler.DAGScheduler: Broadcasting large task binary with size 9.9 MiB\n",
      "25/05/05 16:15:48 WARN scheduler.DAGScheduler: Broadcasting large task binary with size 11.2 MiB\n",
      "25/05/05 16:15:59 WARN scheduler.DAGScheduler: Broadcasting large task binary with size 12.6 MiB\n",
      "25/05/05 16:16:11 WARN scheduler.DAGScheduler: Broadcasting large task binary with size 14.1 MiB\n",
      "25/05/05 16:16:23 WARN scheduler.DAGScheduler: Broadcasting large task binary with size 15.6 MiB\n",
      "25/05/05 16:16:35 WARN scheduler.DAGScheduler: Broadcasting large task binary with size 16.9 MiB\n",
      "25/05/05 16:16:47 WARN scheduler.DAGScheduler: Broadcasting large task binary with size 4.1 MiB\n",
      "25/05/05 16:16:53 WARN scheduler.DAGScheduler: Broadcasting large task binary with size 4.9 MiB\n",
      "25/05/05 16:17:00 WARN scheduler.DAGScheduler: Broadcasting large task binary with size 5.8 MiB\n",
      "25/05/05 16:17:07 WARN scheduler.DAGScheduler: Broadcasting large task binary with size 6.3 MiB\n",
      "25/05/05 16:17:15 WARN scheduler.DAGScheduler: Broadcasting large task binary with size 7.2 MiB\n",
      "25/05/05 16:17:22 WARN scheduler.DAGScheduler: Broadcasting large task binary with size 7.8 MiB\n",
      "25/05/05 16:17:30 WARN scheduler.DAGScheduler: Broadcasting large task binary with size 8.7 MiB\n",
      "25/05/05 16:17:37 WARN scheduler.DAGScheduler: Broadcasting large task binary with size 9.5 MiB\n",
      "25/05/05 16:17:45 WARN scheduler.DAGScheduler: Broadcasting large task binary with size 9.3 MiB\n",
      "25/05/05 16:17:52 WARN scheduler.DAGScheduler: Broadcasting large task binary with size 8.3 MiB\n",
      "25/05/05 16:17:57 WARN scheduler.DAGScheduler: Broadcasting large task binary with size 6.1 MiB\n",
      "25/05/05 16:18:01 WARN scheduler.DAGScheduler: Broadcasting large task binary with size 2.1 MiB\n",
      "25/05/05 16:18:04 WARN scheduler.DAGScheduler: Broadcasting large task binary with size 17.8 MiB\n",
      "25/05/05 16:18:19 WARN scheduler.DAGScheduler: Broadcasting large task binary with size 1464.2 KiB\n",
      "25/05/05 16:18:24 WARN scheduler.DAGScheduler: Broadcasting large task binary with size 2.2 MiB\n",
      "25/05/05 16:18:30 WARN scheduler.DAGScheduler: Broadcasting large task binary with size 3.2 MiB\n",
      "25/05/05 16:18:38 WARN scheduler.DAGScheduler: Broadcasting large task binary with size 4.6 MiB\n",
      "25/05/05 16:18:48 WARN scheduler.DAGScheduler: Broadcasting large task binary with size 6.2 MiB\n",
      "25/05/05 16:19:04 WARN scheduler.DAGScheduler: Broadcasting large task binary with size 7.8 MiB\n",
      "25/05/05 16:19:20 WARN scheduler.DAGScheduler: Broadcasting large task binary with size 9.1 MiB\n",
      "25/05/05 16:19:37 WARN scheduler.DAGScheduler: Broadcasting large task binary with size 10.7 MiB\n",
      "25/05/05 16:19:53 WARN scheduler.DAGScheduler: Broadcasting large task binary with size 12.3 MiB\n",
      "25/05/05 16:20:10 WARN scheduler.DAGScheduler: Broadcasting large task binary with size 14.4 MiB\n",
      "25/05/05 16:20:27 WARN scheduler.DAGScheduler: Broadcasting large task binary with size 16.5 MiB\n",
      "25/05/05 16:20:44 WARN scheduler.DAGScheduler: Broadcasting large task binary with size 18.4 MiB\n",
      "25/05/05 16:21:02 WARN scheduler.DAGScheduler: Broadcasting large task binary with size 20.7 MiB\n",
      "25/05/05 16:21:20 WARN scheduler.DAGScheduler: Broadcasting large task binary with size 22.8 MiB\n",
      "25/05/05 16:21:39 WARN scheduler.DAGScheduler: Broadcasting large task binary with size 24.8 MiB\n",
      "25/05/05 16:21:59 WARN scheduler.DAGScheduler: Broadcasting large task binary with size 26.9 MiB\n",
      "25/05/05 16:22:19 WARN scheduler.DAGScheduler: Broadcasting large task binary with size 29.0 MiB\n",
      "25/05/05 16:22:38 WARN scheduler.DAGScheduler: Broadcasting large task binary with size 31.1 MiB\n",
      "25/05/05 16:22:59 WARN scheduler.DAGScheduler: Broadcasting large task binary with size 33.2 MiB\n",
      "25/05/05 16:23:20 WARN scheduler.DAGScheduler: Broadcasting large task binary with size 35.2 MiB\n",
      "25/05/05 16:23:41 WARN scheduler.DAGScheduler: Broadcasting large task binary with size 37.1 MiB\n",
      "25/05/05 16:24:02 WARN scheduler.DAGScheduler: Broadcasting large task binary with size 38.9 MiB\n",
      "25/05/05 16:24:24 WARN scheduler.DAGScheduler: Broadcasting large task binary with size 40.8 MiB\n",
      "25/05/05 16:24:46 WARN scheduler.DAGScheduler: Broadcasting large task binary with size 42.6 MiB\n",
      "25/05/05 16:25:09 WARN scheduler.DAGScheduler: Broadcasting large task binary with size 44.3 MiB\n",
      "25/05/05 16:25:29 WARN scheduler.DAGScheduler: Broadcasting large task binary with size 6.8 MiB\n",
      "25/05/05 16:25:32 WARN scheduler.DAGScheduler: Broadcasting large task binary with size 6.7 MiB\n",
      "25/05/05 16:25:35 WARN scheduler.DAGScheduler: Broadcasting large task binary with size 6.5 MiB\n",
      "25/05/05 16:25:37 WARN scheduler.DAGScheduler: Broadcasting large task binary with size 6.8 MiB\n",
      "25/05/05 16:25:40 WARN scheduler.DAGScheduler: Broadcasting large task binary with size 7.2 MiB\n",
      "25/05/05 16:25:43 WARN scheduler.DAGScheduler: Broadcasting large task binary with size 5.7 MiB\n",
      "25/05/05 16:25:45 WARN scheduler.DAGScheduler: Broadcasting large task binary with size 6.0 MiB\n",
      "25/05/05 16:25:47 WARN scheduler.DAGScheduler: Broadcasting large task binary with size 5.6 MiB\n",
      "25/05/05 16:25:49 WARN scheduler.DAGScheduler: Broadcasting large task binary with size 5.2 MiB\n",
      "25/05/05 16:25:51 WARN scheduler.DAGScheduler: Broadcasting large task binary with size 4.9 MiB\n",
      "25/05/05 16:25:53 WARN scheduler.DAGScheduler: Broadcasting large task binary with size 3.8 MiB\n",
      "25/05/05 16:25:54 WARN scheduler.DAGScheduler: Broadcasting large task binary with size 2.7 MiB\n",
      "25/05/05 16:25:55 WARN scheduler.DAGScheduler: Broadcasting large task binary with size 2.8 MiB\n",
      "25/05/05 16:25:56 WARN scheduler.DAGScheduler: Broadcasting large task binary with size 1735.6 KiB\n",
      "25/05/05 16:25:56 WARN scheduler.DAGScheduler: Broadcasting large task binary with size 1035.2 KiB\n",
      "25/05/05 16:25:59 WARN scheduler.DAGScheduler: Broadcasting large task binary with size 30.0 MiB\n",
      "25/05/05 16:26:15 WARN scheduler.DAGScheduler: Broadcasting large task binary with size 1093.8 KiB\n",
      "25/05/05 16:26:19 WARN scheduler.DAGScheduler: Broadcasting large task binary with size 1563.7 KiB\n",
      "25/05/05 16:26:25 WARN scheduler.DAGScheduler: Broadcasting large task binary with size 2.2 MiB\n",
      "25/05/05 16:26:33 WARN scheduler.DAGScheduler: Broadcasting large task binary with size 3.3 MiB\n",
      "25/05/05 16:26:43 WARN scheduler.DAGScheduler: Broadcasting large task binary with size 4.3 MiB\n",
      "25/05/05 16:26:54 WARN scheduler.DAGScheduler: Broadcasting large task binary with size 5.0 MiB\n",
      "25/05/05 16:27:05 WARN scheduler.DAGScheduler: Broadcasting large task binary with size 5.7 MiB\n",
      "25/05/05 16:27:16 WARN scheduler.DAGScheduler: Broadcasting large task binary with size 6.6 MiB\n",
      "25/05/05 16:27:27 WARN scheduler.DAGScheduler: Broadcasting large task binary with size 7.5 MiB\n",
      "25/05/05 16:27:38 WARN scheduler.DAGScheduler: Broadcasting large task binary with size 8.7 MiB\n",
      "25/05/05 16:27:49 WARN scheduler.DAGScheduler: Broadcasting large task binary with size 9.9 MiB\n",
      "25/05/05 16:28:00 WARN scheduler.DAGScheduler: Broadcasting large task binary with size 11.2 MiB\n",
      "25/05/05 16:28:12 WARN scheduler.DAGScheduler: Broadcasting large task binary with size 12.6 MiB\n",
      "25/05/05 16:28:23 WARN scheduler.DAGScheduler: Broadcasting large task binary with size 14.1 MiB\n",
      "25/05/05 16:28:35 WARN scheduler.DAGScheduler: Broadcasting large task binary with size 15.6 MiB\n",
      "25/05/05 16:28:52 WARN scheduler.DAGScheduler: Broadcasting large task binary with size 16.9 MiB\n",
      "25/05/05 16:29:09 WARN scheduler.DAGScheduler: Broadcasting large task binary with size 18.5 MiB\n",
      "25/05/05 16:29:25 WARN scheduler.DAGScheduler: Broadcasting large task binary with size 20.0 MiB\n",
      "25/05/05 16:29:38 WARN scheduler.DAGScheduler: Broadcasting large task binary with size 21.5 MiB\n",
      "25/05/05 16:29:55 WARN scheduler.DAGScheduler: Broadcasting large task binary with size 22.9 MiB\n",
      "25/05/05 16:30:12 WARN scheduler.DAGScheduler: Broadcasting large task binary with size 24.4 MiB\n",
      "25/05/05 16:30:30 WARN scheduler.DAGScheduler: Broadcasting large task binary with size 25.9 MiB\n",
      "25/05/05 16:30:47 WARN scheduler.DAGScheduler: Broadcasting large task binary with size 27.3 MiB\n",
      "25/05/05 16:31:04 WARN scheduler.DAGScheduler: Broadcasting large task binary with size 28.7 MiB\n",
      "25/05/05 16:31:22 WARN scheduler.DAGScheduler: Broadcasting large task binary with size 30.0 MiB\n",
      "25/05/05 16:31:40 WARN scheduler.DAGScheduler: Broadcasting large task binary with size 31.4 MiB\n",
      "25/05/05 16:31:58 WARN scheduler.DAGScheduler: Broadcasting large task binary with size 6.7 MiB\n",
      "25/05/05 16:32:05 WARN scheduler.DAGScheduler: Broadcasting large task binary with size 7.5 MiB\n",
      "25/05/05 16:32:12 WARN scheduler.DAGScheduler: Broadcasting large task binary with size 8.4 MiB\n",
      "25/05/05 16:32:20 WARN scheduler.DAGScheduler: Broadcasting large task binary with size 8.7 MiB\n",
      "25/05/05 16:32:28 WARN scheduler.DAGScheduler: Broadcasting large task binary with size 9.5 MiB\n",
      "25/05/05 16:32:36 WARN scheduler.DAGScheduler: Broadcasting large task binary with size 9.8 MiB\n",
      "25/05/05 16:32:43 WARN scheduler.DAGScheduler: Broadcasting large task binary with size 10.6 MiB\n",
      "25/05/05 16:32:51 WARN scheduler.DAGScheduler: Broadcasting large task binary with size 11.5 MiB\n",
      "25/05/05 16:32:58 WARN scheduler.DAGScheduler: Broadcasting large task binary with size 11.1 MiB\n",
      "25/05/05 16:33:06 WARN scheduler.DAGScheduler: Broadcasting large task binary with size 11.3 MiB\n",
      "25/05/05 16:33:13 WARN scheduler.DAGScheduler: Broadcasting large task binary with size 12.0 MiB\n",
      "25/05/05 16:33:20 WARN scheduler.DAGScheduler: Broadcasting large task binary with size 11.6 MiB\n",
      "25/05/05 16:33:27 WARN scheduler.DAGScheduler: Broadcasting large task binary with size 11.3 MiB\n",
      "25/05/05 16:33:33 WARN scheduler.DAGScheduler: Broadcasting large task binary with size 12.0 MiB\n",
      "25/05/05 16:33:40 WARN scheduler.DAGScheduler: Broadcasting large task binary with size 12.0 MiB\n",
      "25/05/05 16:33:46 WARN scheduler.DAGScheduler: Broadcasting large task binary with size 12.0 MiB\n",
      "25/05/05 16:33:51 WARN scheduler.DAGScheduler: Broadcasting large task binary with size 12.0 MiB\n",
      "25/05/05 16:33:57 WARN scheduler.DAGScheduler: Broadcasting large task binary with size 11.9 MiB\n",
      "25/05/05 16:34:03 WARN scheduler.DAGScheduler: Broadcasting large task binary with size 12.4 MiB\n",
      "25/05/05 16:34:08 WARN scheduler.DAGScheduler: Broadcasting large task binary with size 12.3 MiB\n",
      "25/05/05 16:34:13 WARN scheduler.DAGScheduler: Broadcasting large task binary with size 10.5 MiB\n",
      "25/05/05 16:34:17 WARN scheduler.DAGScheduler: Broadcasting large task binary with size 3.4 MiB\n",
      "25/05/05 16:34:21 WARN scheduler.DAGScheduler: Broadcasting large task binary with size 29.6 MiB\n",
      "25/05/05 16:34:37 WARN scheduler.DAGScheduler: Broadcasting large task binary with size 1106.4 KiB\n",
      "25/05/05 16:34:39 WARN scheduler.DAGScheduler: Broadcasting large task binary with size 1527.0 KiB\n",
      "25/05/05 16:34:42 WARN scheduler.DAGScheduler: Broadcasting large task binary with size 2.0 MiB\n",
      "25/05/05 16:34:46 WARN scheduler.DAGScheduler: Broadcasting large task binary with size 2.7 MiB\n",
      "25/05/05 16:34:50 WARN scheduler.DAGScheduler: Broadcasting large task binary with size 1808.8 KiB\n",
      "25/05/05 16:35:02 WARN scheduler.DAGScheduler: Broadcasting large task binary with size 1213.7 KiB\n",
      "25/05/05 16:35:05 WARN scheduler.DAGScheduler: Broadcasting large task binary with size 1627.0 KiB\n",
      "25/05/05 16:35:08 WARN scheduler.DAGScheduler: Broadcasting large task binary with size 2.1 MiB\n",
      "25/05/05 16:35:13 WARN scheduler.DAGScheduler: Broadcasting large task binary with size 2.7 MiB\n",
      "25/05/05 16:35:19 WARN scheduler.DAGScheduler: Broadcasting large task binary with size 1777.7 KiB\n",
      "25/05/05 16:35:28 WARN scheduler.DAGScheduler: Broadcasting large task binary with size 1106.4 KiB\n",
      "25/05/05 16:35:30 WARN scheduler.DAGScheduler: Broadcasting large task binary with size 1527.0 KiB\n",
      "25/05/05 16:35:33 WARN scheduler.DAGScheduler: Broadcasting large task binary with size 2.0 MiB\n",
      "25/05/05 16:35:37 WARN scheduler.DAGScheduler: Broadcasting large task binary with size 2.7 MiB\n",
      "25/05/05 16:35:41 WARN scheduler.DAGScheduler: Broadcasting large task binary with size 3.4 MiB\n",
      "25/05/05 16:35:45 WARN scheduler.DAGScheduler: Broadcasting large task binary with size 4.1 MiB\n",
      "25/05/05 16:35:50 WARN scheduler.DAGScheduler: Broadcasting large task binary with size 5.0 MiB\n",
      "25/05/05 16:35:55 WARN scheduler.DAGScheduler: Broadcasting large task binary with size 5.8 MiB\n",
      "25/05/05 16:36:00 WARN scheduler.DAGScheduler: Broadcasting large task binary with size 6.7 MiB\n",
      "25/05/05 16:36:06 WARN scheduler.DAGScheduler: Broadcasting large task binary with size 7.6 MiB\n",
      "25/05/05 16:36:12 WARN scheduler.DAGScheduler: Broadcasting large task binary with size 8.5 MiB\n",
      "25/05/05 16:36:18 WARN scheduler.DAGScheduler: Broadcasting large task binary with size 9.3 MiB\n",
      "25/05/05 16:36:24 WARN scheduler.DAGScheduler: Broadcasting large task binary with size 10.2 MiB\n",
      "25/05/05 16:36:30 WARN scheduler.DAGScheduler: Broadcasting large task binary with size 11.1 MiB\n",
      "25/05/05 16:36:36 WARN scheduler.DAGScheduler: Broadcasting large task binary with size 7.0 MiB\n",
      "25/05/05 16:36:46 WARN scheduler.DAGScheduler: Broadcasting large task binary with size 1213.7 KiB\n",
      "25/05/05 16:36:49 WARN scheduler.DAGScheduler: Broadcasting large task binary with size 1627.0 KiB\n",
      "25/05/05 16:36:53 WARN scheduler.DAGScheduler: Broadcasting large task binary with size 2.1 MiB\n",
      "25/05/05 16:36:57 WARN scheduler.DAGScheduler: Broadcasting large task binary with size 2.7 MiB\n",
      "25/05/05 16:37:02 WARN scheduler.DAGScheduler: Broadcasting large task binary with size 3.4 MiB\n",
      "25/05/05 16:37:09 WARN scheduler.DAGScheduler: Broadcasting large task binary with size 4.2 MiB\n",
      "25/05/05 16:37:15 WARN scheduler.DAGScheduler: Broadcasting large task binary with size 5.0 MiB\n",
      "25/05/05 16:37:21 WARN scheduler.DAGScheduler: Broadcasting large task binary with size 5.8 MiB\n",
      "25/05/05 16:37:28 WARN scheduler.DAGScheduler: Broadcasting large task binary with size 6.6 MiB\n",
      "25/05/05 16:37:35 WARN scheduler.DAGScheduler: Broadcasting large task binary with size 7.5 MiB\n",
      "25/05/05 16:37:42 WARN scheduler.DAGScheduler: Broadcasting large task binary with size 8.3 MiB\n",
      "25/05/05 16:37:50 WARN scheduler.DAGScheduler: Broadcasting large task binary with size 9.2 MiB\n",
      "25/05/05 16:37:57 WARN scheduler.DAGScheduler: Broadcasting large task binary with size 10.0 MiB\n",
      "25/05/05 16:38:05 WARN scheduler.DAGScheduler: Broadcasting large task binary with size 10.8 MiB\n",
      "25/05/05 16:38:13 WARN scheduler.DAGScheduler: Broadcasting large task binary with size 6.8 MiB\n",
      "25/05/05 16:38:22 WARN scheduler.DAGScheduler: Broadcasting large task binary with size 1106.4 KiB\n",
      "25/05/05 16:38:24 WARN scheduler.DAGScheduler: Broadcasting large task binary with size 1527.0 KiB\n",
      "25/05/05 16:38:27 WARN scheduler.DAGScheduler: Broadcasting large task binary with size 2.0 MiB\n",
      "25/05/05 16:38:31 WARN scheduler.DAGScheduler: Broadcasting large task binary with size 2.7 MiB\n",
      "25/05/05 16:38:35 WARN scheduler.DAGScheduler: Broadcasting large task binary with size 3.4 MiB\n",
      "25/05/05 16:38:39 WARN scheduler.DAGScheduler: Broadcasting large task binary with size 4.1 MiB\n",
      "25/05/05 16:38:44 WARN scheduler.DAGScheduler: Broadcasting large task binary with size 5.0 MiB\n",
      "25/05/05 16:38:49 WARN scheduler.DAGScheduler: Broadcasting large task binary with size 5.8 MiB\n",
      "25/05/05 16:38:55 WARN scheduler.DAGScheduler: Broadcasting large task binary with size 6.7 MiB\n",
      "25/05/05 16:39:00 WARN scheduler.DAGScheduler: Broadcasting large task binary with size 7.6 MiB\n",
      "25/05/05 16:39:06 WARN scheduler.DAGScheduler: Broadcasting large task binary with size 8.5 MiB\n",
      "25/05/05 16:39:11 WARN scheduler.DAGScheduler: Broadcasting large task binary with size 9.3 MiB\n",
      "25/05/05 16:39:17 WARN scheduler.DAGScheduler: Broadcasting large task binary with size 10.2 MiB\n",
      "25/05/05 16:39:23 WARN scheduler.DAGScheduler: Broadcasting large task binary with size 11.1 MiB\n",
      "25/05/05 16:39:29 WARN scheduler.DAGScheduler: Broadcasting large task binary with size 11.9 MiB\n",
      "25/05/05 16:39:35 WARN scheduler.DAGScheduler: Broadcasting large task binary with size 12.7 MiB\n",
      "25/05/05 16:39:41 WARN scheduler.DAGScheduler: Broadcasting large task binary with size 13.5 MiB\n",
      "25/05/05 16:39:47 WARN scheduler.DAGScheduler: Broadcasting large task binary with size 14.2 MiB\n",
      "25/05/05 16:39:53 WARN scheduler.DAGScheduler: Broadcasting large task binary with size 15.0 MiB\n",
      "25/05/05 16:39:59 WARN scheduler.DAGScheduler: Broadcasting large task binary with size 15.7 MiB\n",
      "25/05/05 16:40:05 WARN scheduler.DAGScheduler: Broadcasting large task binary with size 16.4 MiB\n",
      "25/05/05 16:40:12 WARN scheduler.DAGScheduler: Broadcasting large task binary with size 17.1 MiB\n",
      "25/05/05 16:40:18 WARN scheduler.DAGScheduler: Broadcasting large task binary with size 17.8 MiB\n",
      "25/05/05 16:40:24 WARN scheduler.DAGScheduler: Broadcasting large task binary with size 18.4 MiB\n",
      "25/05/05 16:40:31 WARN scheduler.DAGScheduler: Broadcasting large task binary with size 11.5 MiB\n",
      "25/05/05 16:40:41 WARN scheduler.DAGScheduler: Broadcasting large task binary with size 1213.7 KiB\n",
      "25/05/05 16:40:44 WARN scheduler.DAGScheduler: Broadcasting large task binary with size 1627.0 KiB\n",
      "25/05/05 16:40:48 WARN scheduler.DAGScheduler: Broadcasting large task binary with size 2.1 MiB\n",
      "25/05/05 16:40:53 WARN scheduler.DAGScheduler: Broadcasting large task binary with size 2.7 MiB\n",
      "25/05/05 16:40:58 WARN scheduler.DAGScheduler: Broadcasting large task binary with size 3.4 MiB\n",
      "25/05/05 16:41:04 WARN scheduler.DAGScheduler: Broadcasting large task binary with size 4.2 MiB\n",
      "25/05/05 16:41:10 WARN scheduler.DAGScheduler: Broadcasting large task binary with size 5.0 MiB\n",
      "25/05/05 16:41:17 WARN scheduler.DAGScheduler: Broadcasting large task binary with size 5.8 MiB\n",
      "25/05/05 16:41:24 WARN scheduler.DAGScheduler: Broadcasting large task binary with size 6.6 MiB\n",
      "25/05/05 16:41:31 WARN scheduler.DAGScheduler: Broadcasting large task binary with size 7.5 MiB\n",
      "25/05/05 16:41:38 WARN scheduler.DAGScheduler: Broadcasting large task binary with size 8.3 MiB\n",
      "25/05/05 16:41:46 WARN scheduler.DAGScheduler: Broadcasting large task binary with size 9.2 MiB\n",
      "25/05/05 16:41:53 WARN scheduler.DAGScheduler: Broadcasting large task binary with size 10.0 MiB\n",
      "25/05/05 16:42:01 WARN scheduler.DAGScheduler: Broadcasting large task binary with size 10.8 MiB\n",
      "25/05/05 16:42:09 WARN scheduler.DAGScheduler: Broadcasting large task binary with size 11.7 MiB\n",
      "25/05/05 16:42:17 WARN scheduler.DAGScheduler: Broadcasting large task binary with size 12.4 MiB\n",
      "25/05/05 16:42:25 WARN scheduler.DAGScheduler: Broadcasting large task binary with size 13.2 MiB\n",
      "25/05/05 16:42:32 WARN scheduler.DAGScheduler: Broadcasting large task binary with size 14.0 MiB\n",
      "25/05/05 16:42:39 WARN scheduler.DAGScheduler: Broadcasting large task binary with size 14.7 MiB\n",
      "25/05/05 16:42:46 WARN scheduler.DAGScheduler: Broadcasting large task binary with size 15.4 MiB\n",
      "25/05/05 16:42:54 WARN scheduler.DAGScheduler: Broadcasting large task binary with size 16.1 MiB\n",
      "25/05/05 16:43:02 WARN scheduler.DAGScheduler: Broadcasting large task binary with size 16.8 MiB\n",
      "25/05/05 16:43:10 WARN scheduler.DAGScheduler: Broadcasting large task binary with size 17.5 MiB\n",
      "25/05/05 16:43:18 WARN scheduler.DAGScheduler: Broadcasting large task binary with size 18.1 MiB\n",
      "25/05/05 16:43:25 WARN scheduler.DAGScheduler: Broadcasting large task binary with size 11.2 MiB\n",
      "25/05/05 16:43:36 WARN scheduler.DAGScheduler: Broadcasting large task binary with size 1083.9 KiB\n",
      "25/05/05 16:43:39 WARN scheduler.DAGScheduler: Broadcasting large task binary with size 1567.9 KiB\n",
      "25/05/05 16:43:44 WARN scheduler.DAGScheduler: Broadcasting large task binary with size 2.2 MiB\n",
      "25/05/05 16:43:49 WARN scheduler.DAGScheduler: Broadcasting large task binary with size 3.1 MiB\n",
      "25/05/05 16:43:55 WARN scheduler.DAGScheduler: Broadcasting large task binary with size 4.2 MiB\n",
      "25/05/05 16:44:03 WARN scheduler.DAGScheduler: Broadcasting large task binary with size 2.9 MiB\n",
      "25/05/05 16:44:15 WARN scheduler.DAGScheduler: Broadcasting large task binary with size 1187.4 KiB\n",
      "25/05/05 16:44:19 WARN scheduler.DAGScheduler: Broadcasting large task binary with size 1660.2 KiB\n",
      "25/05/05 16:44:24 WARN scheduler.DAGScheduler: Broadcasting large task binary with size 2.3 MiB\n",
      "25/05/05 16:44:31 WARN scheduler.DAGScheduler: Broadcasting large task binary with size 3.2 MiB\n",
      "25/05/05 16:44:39 WARN scheduler.DAGScheduler: Broadcasting large task binary with size 4.2 MiB\n",
      "25/05/05 16:44:49 WARN scheduler.DAGScheduler: Broadcasting large task binary with size 2.8 MiB\n",
      "25/05/05 16:44:59 WARN scheduler.DAGScheduler: Broadcasting large task binary with size 1083.9 KiB\n",
      "25/05/05 16:45:02 WARN scheduler.DAGScheduler: Broadcasting large task binary with size 1567.9 KiB\n",
      "25/05/05 16:45:06 WARN scheduler.DAGScheduler: Broadcasting large task binary with size 2.2 MiB\n",
      "25/05/05 16:45:12 WARN scheduler.DAGScheduler: Broadcasting large task binary with size 3.1 MiB\n",
      "25/05/05 16:45:19 WARN scheduler.DAGScheduler: Broadcasting large task binary with size 4.2 MiB\n",
      "25/05/05 16:45:26 WARN scheduler.DAGScheduler: Broadcasting large task binary with size 5.4 MiB\n",
      "25/05/05 16:45:35 WARN scheduler.DAGScheduler: Broadcasting large task binary with size 6.7 MiB\n",
      "25/05/05 16:45:44 WARN scheduler.DAGScheduler: Broadcasting large task binary with size 8.1 MiB\n",
      "25/05/05 16:45:54 WARN scheduler.DAGScheduler: Broadcasting large task binary with size 9.6 MiB\n",
      "25/05/05 16:46:04 WARN scheduler.DAGScheduler: Broadcasting large task binary with size 11.0 MiB\n",
      "25/05/05 16:46:15 WARN scheduler.DAGScheduler: Broadcasting large task binary with size 12.5 MiB\n",
      "25/05/05 16:46:25 WARN scheduler.DAGScheduler: Broadcasting large task binary with size 14.0 MiB\n",
      "25/05/05 16:46:36 WARN scheduler.DAGScheduler: Broadcasting large task binary with size 15.4 MiB\n",
      "25/05/05 16:46:47 WARN scheduler.DAGScheduler: Broadcasting large task binary with size 16.9 MiB\n",
      "25/05/05 16:46:58 WARN scheduler.DAGScheduler: Broadcasting large task binary with size 18.3 MiB\n",
      "25/05/05 16:47:08 WARN scheduler.DAGScheduler: Broadcasting large task binary with size 11.6 MiB\n",
      "25/05/05 16:47:20 WARN scheduler.DAGScheduler: Broadcasting large task binary with size 1187.4 KiB\n",
      "25/05/05 16:47:24 WARN scheduler.DAGScheduler: Broadcasting large task binary with size 1660.2 KiB\n",
      "25/05/05 16:47:29 WARN scheduler.DAGScheduler: Broadcasting large task binary with size 2.3 MiB\n",
      "25/05/05 16:47:35 WARN scheduler.DAGScheduler: Broadcasting large task binary with size 3.2 MiB\n",
      "25/05/05 16:47:43 WARN scheduler.DAGScheduler: Broadcasting large task binary with size 4.2 MiB\n",
      "25/05/05 16:47:53 WARN scheduler.DAGScheduler: Broadcasting large task binary with size 5.4 MiB\n",
      "25/05/05 16:48:03 WARN scheduler.DAGScheduler: Broadcasting large task binary with size 6.7 MiB\n",
      "25/05/05 16:48:14 WARN scheduler.DAGScheduler: Broadcasting large task binary with size 7.7 MiB\n",
      "25/05/05 16:48:25 WARN scheduler.DAGScheduler: Broadcasting large task binary with size 8.9 MiB\n",
      "25/05/05 16:48:37 WARN scheduler.DAGScheduler: Broadcasting large task binary with size 10.1 MiB\n",
      "25/05/05 16:48:48 WARN scheduler.DAGScheduler: Broadcasting large task binary with size 11.6 MiB\n",
      "25/05/05 16:49:00 WARN scheduler.DAGScheduler: Broadcasting large task binary with size 12.9 MiB\n",
      "25/05/05 16:49:13 WARN scheduler.DAGScheduler: Broadcasting large task binary with size 14.4 MiB\n",
      "25/05/05 16:49:25 WARN scheduler.DAGScheduler: Broadcasting large task binary with size 15.7 MiB\n",
      "25/05/05 16:49:38 WARN scheduler.DAGScheduler: Broadcasting large task binary with size 17.2 MiB\n",
      "25/05/05 16:49:49 WARN scheduler.DAGScheduler: Broadcasting large task binary with size 1776.3 KiB\n",
      "25/05/05 16:49:50 WARN scheduler.DAGScheduler: Broadcasting large task binary with size 1554.2 KiB\n",
      "25/05/05 16:49:51 WARN scheduler.DAGScheduler: Broadcasting large task binary with size 1667.1 KiB\n",
      "25/05/05 16:49:53 WARN scheduler.DAGScheduler: Broadcasting large task binary with size 1767.9 KiB\n",
      "25/05/05 16:49:53 WARN scheduler.DAGScheduler: Broadcasting large task binary with size 1479.0 KiB\n",
      "25/05/05 16:49:54 WARN scheduler.DAGScheduler: Broadcasting large task binary with size 1556.3 KiB\n",
      "25/05/05 16:49:55 WARN scheduler.DAGScheduler: Broadcasting large task binary with size 1621.9 KiB\n",
      "25/05/05 16:49:56 WARN scheduler.DAGScheduler: Broadcasting large task binary with size 1291.2 KiB\n",
      "25/05/05 16:49:57 WARN scheduler.DAGScheduler: Broadcasting large task binary with size 11.4 MiB\n",
      "25/05/05 16:50:08 WARN scheduler.DAGScheduler: Broadcasting large task binary with size 1083.9 KiB\n",
      "25/05/05 16:50:12 WARN scheduler.DAGScheduler: Broadcasting large task binary with size 1567.9 KiB\n",
      "25/05/05 16:50:16 WARN scheduler.DAGScheduler: Broadcasting large task binary with size 2.2 MiB\n",
      "25/05/05 16:50:21 WARN scheduler.DAGScheduler: Broadcasting large task binary with size 3.1 MiB\n",
      "25/05/05 16:50:27 WARN scheduler.DAGScheduler: Broadcasting large task binary with size 4.2 MiB\n",
      "25/05/05 16:50:35 WARN scheduler.DAGScheduler: Broadcasting large task binary with size 5.4 MiB\n",
      "25/05/05 16:50:43 WARN scheduler.DAGScheduler: Broadcasting large task binary with size 6.7 MiB\n",
      "25/05/05 16:50:52 WARN scheduler.DAGScheduler: Broadcasting large task binary with size 8.1 MiB\n",
      "25/05/05 16:51:01 WARN scheduler.DAGScheduler: Broadcasting large task binary with size 9.6 MiB\n",
      "25/05/05 16:51:10 WARN scheduler.DAGScheduler: Broadcasting large task binary with size 11.0 MiB\n",
      "25/05/05 16:51:20 WARN scheduler.DAGScheduler: Broadcasting large task binary with size 12.5 MiB\n",
      "25/05/05 16:51:30 WARN scheduler.DAGScheduler: Broadcasting large task binary with size 14.0 MiB\n",
      "25/05/05 16:51:41 WARN scheduler.DAGScheduler: Broadcasting large task binary with size 15.4 MiB\n",
      "25/05/05 16:51:51 WARN scheduler.DAGScheduler: Broadcasting large task binary with size 16.9 MiB\n",
      "25/05/05 16:52:02 WARN scheduler.DAGScheduler: Broadcasting large task binary with size 18.3 MiB\n",
      "25/05/05 16:52:13 WARN scheduler.DAGScheduler: Broadcasting large task binary with size 19.7 MiB\n",
      "25/05/05 16:52:23 WARN scheduler.DAGScheduler: Broadcasting large task binary with size 21.0 MiB\n",
      "25/05/05 16:52:34 WARN scheduler.DAGScheduler: Broadcasting large task binary with size 22.3 MiB\n",
      "25/05/05 16:52:45 WARN scheduler.DAGScheduler: Broadcasting large task binary with size 23.6 MiB\n",
      "25/05/05 16:52:56 WARN scheduler.DAGScheduler: Broadcasting large task binary with size 24.8 MiB\n",
      "25/05/05 16:53:07 WARN scheduler.DAGScheduler: Broadcasting large task binary with size 26.0 MiB\n",
      "25/05/05 16:53:18 WARN scheduler.DAGScheduler: Broadcasting large task binary with size 27.2 MiB\n",
      "25/05/05 16:53:29 WARN scheduler.DAGScheduler: Broadcasting large task binary with size 28.4 MiB\n",
      "25/05/05 16:53:40 WARN scheduler.DAGScheduler: Broadcasting large task binary with size 29.5 MiB\n",
      "25/05/05 16:53:51 WARN scheduler.DAGScheduler: Broadcasting large task binary with size 30.6 MiB\n",
      "25/05/05 16:54:02 WARN scheduler.DAGScheduler: Broadcasting large task binary with size 19.2 MiB\n",
      "25/05/05 16:54:15 WARN scheduler.DAGScheduler: Broadcasting large task binary with size 1187.4 KiB\n",
      "25/05/05 16:54:19 WARN scheduler.DAGScheduler: Broadcasting large task binary with size 1660.2 KiB\n",
      "25/05/05 16:54:24 WARN scheduler.DAGScheduler: Broadcasting large task binary with size 2.3 MiB\n",
      "25/05/05 16:54:30 WARN scheduler.DAGScheduler: Broadcasting large task binary with size 3.2 MiB\n",
      "25/05/05 16:54:38 WARN scheduler.DAGScheduler: Broadcasting large task binary with size 4.2 MiB\n",
      "25/05/05 16:54:47 WARN scheduler.DAGScheduler: Broadcasting large task binary with size 5.4 MiB\n",
      "25/05/05 16:54:57 WARN scheduler.DAGScheduler: Broadcasting large task binary with size 6.7 MiB\n",
      "25/05/05 16:55:08 WARN scheduler.DAGScheduler: Broadcasting large task binary with size 7.7 MiB\n",
      "25/05/05 16:55:20 WARN scheduler.DAGScheduler: Broadcasting large task binary with size 8.9 MiB\n",
      "25/05/05 16:55:31 WARN scheduler.DAGScheduler: Broadcasting large task binary with size 10.1 MiB\n",
      "25/05/05 16:55:43 WARN scheduler.DAGScheduler: Broadcasting large task binary with size 11.6 MiB\n",
      "25/05/05 16:55:54 WARN scheduler.DAGScheduler: Broadcasting large task binary with size 12.9 MiB\n",
      "25/05/05 16:56:07 WARN scheduler.DAGScheduler: Broadcasting large task binary with size 14.4 MiB\n",
      "25/05/05 16:56:20 WARN scheduler.DAGScheduler: Broadcasting large task binary with size 15.7 MiB\n",
      "25/05/05 16:56:32 WARN scheduler.DAGScheduler: Broadcasting large task binary with size 17.2 MiB\n",
      "25/05/05 16:56:45 WARN scheduler.DAGScheduler: Broadcasting large task binary with size 18.7 MiB\n",
      "25/05/05 16:57:00 WARN scheduler.DAGScheduler: Broadcasting large task binary with size 20.0 MiB\n",
      "25/05/05 16:57:14 WARN scheduler.DAGScheduler: Broadcasting large task binary with size 21.3 MiB\n",
      "25/05/05 16:57:31 WARN scheduler.DAGScheduler: Broadcasting large task binary with size 22.6 MiB\n",
      "25/05/05 16:57:47 WARN scheduler.DAGScheduler: Broadcasting large task binary with size 23.8 MiB\n",
      "25/05/05 16:58:04 WARN scheduler.DAGScheduler: Broadcasting large task binary with size 25.1 MiB\n",
      "25/05/05 16:58:21 WARN scheduler.DAGScheduler: Broadcasting large task binary with size 26.3 MiB\n",
      "25/05/05 16:58:36 WARN scheduler.DAGScheduler: Broadcasting large task binary with size 27.5 MiB\n",
      "25/05/05 16:58:52 WARN scheduler.DAGScheduler: Broadcasting large task binary with size 28.6 MiB\n",
      "25/05/05 16:59:09 WARN scheduler.DAGScheduler: Broadcasting large task binary with size 29.8 MiB\n",
      "25/05/05 16:59:21 WARN scheduler.DAGScheduler: Broadcasting large task binary with size 3.0 MiB\n",
      "25/05/05 16:59:22 WARN scheduler.DAGScheduler: Broadcasting large task binary with size 2.6 MiB\n",
      "25/05/05 16:59:23 WARN scheduler.DAGScheduler: Broadcasting large task binary with size 2.7 MiB\n",
      "25/05/05 16:59:25 WARN scheduler.DAGScheduler: Broadcasting large task binary with size 2.8 MiB\n",
      "25/05/05 16:59:26 WARN scheduler.DAGScheduler: Broadcasting large task binary with size 2.2 MiB\n",
      "25/05/05 16:59:26 WARN scheduler.DAGScheduler: Broadcasting large task binary with size 2.3 MiB\n",
      "25/05/05 16:59:27 WARN scheduler.DAGScheduler: Broadcasting large task binary with size 2.4 MiB\n",
      "25/05/05 16:59:28 WARN scheduler.DAGScheduler: Broadcasting large task binary with size 1832.3 KiB\n",
      "25/05/05 16:59:28 WARN scheduler.DAGScheduler: Broadcasting large task binary with size 1178.7 KiB\n",
      "25/05/05 16:59:30 WARN scheduler.DAGScheduler: Broadcasting large task binary with size 19.0 MiB\n",
      "25/05/05 16:59:46 WARN scheduler.DAGScheduler: Broadcasting large task binary with size 1465.1 KiB\n",
      "25/05/05 16:59:51 WARN scheduler.DAGScheduler: Broadcasting large task binary with size 2.2 MiB\n",
      "25/05/05 16:59:57 WARN scheduler.DAGScheduler: Broadcasting large task binary with size 3.3 MiB\n",
      "25/05/05 17:00:05 WARN scheduler.DAGScheduler: Broadcasting large task binary with size 4.7 MiB\n",
      "25/05/05 17:00:17 WARN scheduler.DAGScheduler: Broadcasting large task binary with size 6.4 MiB\n",
      "25/05/05 17:00:33 WARN scheduler.DAGScheduler: Broadcasting large task binary with size 4.4 MiB\n",
      "25/05/05 17:00:45 WARN scheduler.DAGScheduler: Broadcasting large task binary with size 1095.2 KiB\n",
      "25/05/05 17:00:49 WARN scheduler.DAGScheduler: Broadcasting large task binary with size 1568.0 KiB\n",
      "25/05/05 17:00:55 WARN scheduler.DAGScheduler: Broadcasting large task binary with size 2.3 MiB\n",
      "25/05/05 17:01:03 WARN scheduler.DAGScheduler: Broadcasting large task binary with size 3.3 MiB\n",
      "25/05/05 17:01:15 WARN scheduler.DAGScheduler: Broadcasting large task binary with size 4.2 MiB\n",
      "25/05/05 17:01:26 WARN scheduler.DAGScheduler: Broadcasting large task binary with size 4.9 MiB\n",
      "25/05/05 17:01:37 WARN scheduler.DAGScheduler: Broadcasting large task binary with size 2010.0 KiB\n",
      "25/05/05 17:01:41 WARN scheduler.DAGScheduler: Broadcasting large task binary with size 1337.9 KiB\n",
      "25/05/05 17:01:43 WARN scheduler.DAGScheduler: Broadcasting large task binary with size 4.4 MiB\n",
      "25/05/05 17:01:57 WARN scheduler.DAGScheduler: Broadcasting large task binary with size 1465.1 KiB\n",
      "25/05/05 17:02:02 WARN scheduler.DAGScheduler: Broadcasting large task binary with size 2.2 MiB\n",
      "25/05/05 17:02:09 WARN scheduler.DAGScheduler: Broadcasting large task binary with size 3.3 MiB\n",
      "25/05/05 17:02:18 WARN scheduler.DAGScheduler: Broadcasting large task binary with size 4.7 MiB\n",
      "25/05/05 17:02:28 WARN scheduler.DAGScheduler: Broadcasting large task binary with size 6.4 MiB\n",
      "25/05/05 17:02:45 WARN scheduler.DAGScheduler: Broadcasting large task binary with size 7.8 MiB\n",
      "25/05/05 17:03:02 WARN scheduler.DAGScheduler: Broadcasting large task binary with size 9.2 MiB\n",
      "25/05/05 17:03:19 WARN scheduler.DAGScheduler: Broadcasting large task binary with size 10.8 MiB\n",
      "25/05/05 17:03:36 WARN scheduler.DAGScheduler: Broadcasting large task binary with size 12.6 MiB\n",
      "25/05/05 17:03:53 WARN scheduler.DAGScheduler: Broadcasting large task binary with size 14.5 MiB\n",
      "25/05/05 17:04:11 WARN scheduler.DAGScheduler: Broadcasting large task binary with size 16.4 MiB\n",
      "25/05/05 17:04:29 WARN scheduler.DAGScheduler: Broadcasting large task binary with size 18.5 MiB\n",
      "25/05/05 17:04:47 WARN scheduler.DAGScheduler: Broadcasting large task binary with size 20.3 MiB\n",
      "25/05/05 17:05:06 WARN scheduler.DAGScheduler: Broadcasting large task binary with size 22.4 MiB\n",
      "25/05/05 17:05:24 WARN scheduler.DAGScheduler: Broadcasting large task binary with size 24.6 MiB\n",
      "25/05/05 17:05:41 WARN scheduler.DAGScheduler: Broadcasting large task binary with size 2.6 MiB\n",
      "25/05/05 17:05:44 WARN scheduler.DAGScheduler: Broadcasting large task binary with size 3.0 MiB\n",
      "25/05/05 17:05:47 WARN scheduler.DAGScheduler: Broadcasting large task binary with size 3.4 MiB\n",
      "25/05/05 17:05:49 WARN scheduler.DAGScheduler: Broadcasting large task binary with size 3.4 MiB\n",
      "25/05/05 17:05:52 WARN scheduler.DAGScheduler: Broadcasting large task binary with size 3.8 MiB\n",
      "25/05/05 17:05:54 WARN scheduler.DAGScheduler: Broadcasting large task binary with size 4.2 MiB\n",
      "25/05/05 17:05:57 WARN scheduler.DAGScheduler: Broadcasting large task binary with size 4.6 MiB\n",
      "25/05/05 17:06:00 WARN scheduler.DAGScheduler: Broadcasting large task binary with size 4.2 MiB\n",
      "25/05/05 17:06:02 WARN scheduler.DAGScheduler: Broadcasting large task binary with size 4.1 MiB\n",
      "25/05/05 17:06:04 WARN scheduler.DAGScheduler: Broadcasting large task binary with size 2.7 MiB\n",
      "25/05/05 17:06:07 WARN scheduler.DAGScheduler: Broadcasting large task binary with size 18.6 MiB\n",
      "25/05/05 17:06:21 WARN scheduler.DAGScheduler: Broadcasting large task binary with size 1095.2 KiB\n",
      "25/05/05 17:06:25 WARN scheduler.DAGScheduler: Broadcasting large task binary with size 1568.0 KiB\n",
      "25/05/05 17:06:31 WARN scheduler.DAGScheduler: Broadcasting large task binary with size 2.3 MiB\n",
      "25/05/05 17:06:39 WARN scheduler.DAGScheduler: Broadcasting large task binary with size 3.3 MiB\n",
      "25/05/05 17:06:50 WARN scheduler.DAGScheduler: Broadcasting large task binary with size 4.2 MiB\n",
      "25/05/05 17:07:01 WARN scheduler.DAGScheduler: Broadcasting large task binary with size 4.9 MiB\n",
      "25/05/05 17:07:13 WARN scheduler.DAGScheduler: Broadcasting large task binary with size 5.7 MiB\n",
      "25/05/05 17:07:24 WARN scheduler.DAGScheduler: Broadcasting large task binary with size 6.6 MiB\n",
      "25/05/05 17:07:35 WARN scheduler.DAGScheduler: Broadcasting large task binary with size 7.8 MiB\n",
      "25/05/05 17:07:46 WARN scheduler.DAGScheduler: Broadcasting large task binary with size 9.0 MiB\n",
      "25/05/05 17:07:58 WARN scheduler.DAGScheduler: Broadcasting large task binary with size 10.3 MiB\n",
      "25/05/05 17:08:09 WARN scheduler.DAGScheduler: Broadcasting large task binary with size 11.6 MiB\n",
      "25/05/05 17:08:22 WARN scheduler.DAGScheduler: Broadcasting large task binary with size 13.1 MiB\n",
      "25/05/05 17:08:34 WARN scheduler.DAGScheduler: Broadcasting large task binary with size 14.4 MiB\n",
      "25/05/05 17:08:46 WARN scheduler.DAGScheduler: Broadcasting large task binary with size 16.0 MiB\n",
      "25/05/05 17:08:59 WARN scheduler.DAGScheduler: Broadcasting large task binary with size 17.4 MiB\n",
      "25/05/05 17:09:11 WARN scheduler.DAGScheduler: Broadcasting large task binary with size 3.8 MiB\n",
      "25/05/05 17:09:17 WARN scheduler.DAGScheduler: Broadcasting large task binary with size 4.6 MiB\n",
      "25/05/05 17:09:25 WARN scheduler.DAGScheduler: Broadcasting large task binary with size 5.5 MiB\n",
      "25/05/05 17:09:32 WARN scheduler.DAGScheduler: Broadcasting large task binary with size 6.1 MiB\n",
      "25/05/05 17:09:40 WARN scheduler.DAGScheduler: Broadcasting large task binary with size 7.0 MiB\n",
      "25/05/05 17:09:48 WARN scheduler.DAGScheduler: Broadcasting large task binary with size 8.0 MiB\n",
      "25/05/05 17:09:57 WARN scheduler.DAGScheduler: Broadcasting large task binary with size 8.6 MiB\n",
      "25/05/05 17:10:05 WARN scheduler.DAGScheduler: Broadcasting large task binary with size 9.1 MiB\n",
      "25/05/05 17:10:14 WARN scheduler.DAGScheduler: Broadcasting large task binary with size 9.7 MiB\n",
      "25/05/05 17:10:22 WARN scheduler.DAGScheduler: Broadcasting large task binary with size 9.8 MiB\n",
      "25/05/05 17:10:29 WARN scheduler.DAGScheduler: Broadcasting large task binary with size 8.3 MiB\n",
      "25/05/05 17:10:35 WARN scheduler.DAGScheduler: Broadcasting large task binary with size 4.4 MiB\n",
      "25/05/05 17:10:39 WARN scheduler.DAGScheduler: Broadcasting large task binary with size 18.4 MiB\n",
      "25/05/05 17:10:55 WARN scheduler.DAGScheduler: Broadcasting large task binary with size 1465.1 KiB\n",
      "25/05/05 17:10:59 WARN scheduler.DAGScheduler: Broadcasting large task binary with size 2.2 MiB\n",
      "25/05/05 17:11:06 WARN scheduler.DAGScheduler: Broadcasting large task binary with size 3.3 MiB\n",
      "25/05/05 17:11:15 WARN scheduler.DAGScheduler: Broadcasting large task binary with size 4.7 MiB\n",
      "25/05/05 17:11:26 WARN scheduler.DAGScheduler: Broadcasting large task binary with size 6.4 MiB\n",
      "25/05/05 17:11:42 WARN scheduler.DAGScheduler: Broadcasting large task binary with size 7.8 MiB\n",
      "25/05/05 17:11:59 WARN scheduler.DAGScheduler: Broadcasting large task binary with size 9.2 MiB\n",
      "25/05/05 17:12:16 WARN scheduler.DAGScheduler: Broadcasting large task binary with size 10.8 MiB\n",
      "25/05/05 17:12:33 WARN scheduler.DAGScheduler: Broadcasting large task binary with size 12.6 MiB\n",
      "25/05/05 17:12:50 WARN scheduler.DAGScheduler: Broadcasting large task binary with size 14.5 MiB\n",
      "25/05/05 17:13:08 WARN scheduler.DAGScheduler: Broadcasting large task binary with size 16.4 MiB\n",
      "25/05/05 17:13:26 WARN scheduler.DAGScheduler: Broadcasting large task binary with size 18.5 MiB\n",
      "25/05/05 17:13:44 WARN scheduler.DAGScheduler: Broadcasting large task binary with size 20.3 MiB\n",
      "25/05/05 17:14:02 WARN scheduler.DAGScheduler: Broadcasting large task binary with size 22.4 MiB\n",
      "25/05/05 17:14:22 WARN scheduler.DAGScheduler: Broadcasting large task binary with size 24.6 MiB\n",
      "25/05/05 17:14:41 WARN scheduler.DAGScheduler: Broadcasting large task binary with size 26.6 MiB\n",
      "25/05/05 17:15:01 WARN scheduler.DAGScheduler: Broadcasting large task binary with size 28.9 MiB\n",
      "25/05/05 17:15:22 WARN scheduler.DAGScheduler: Broadcasting large task binary with size 30.9 MiB\n",
      "25/05/05 17:15:43 WARN scheduler.DAGScheduler: Broadcasting large task binary with size 32.9 MiB\n",
      "25/05/05 17:16:04 WARN scheduler.DAGScheduler: Broadcasting large task binary with size 35.0 MiB\n",
      "25/05/05 17:16:25 WARN scheduler.DAGScheduler: Broadcasting large task binary with size 37.0 MiB\n",
      "25/05/05 17:16:48 WARN scheduler.DAGScheduler: Broadcasting large task binary with size 39.1 MiB\n",
      "25/05/05 17:17:10 WARN scheduler.DAGScheduler: Broadcasting large task binary with size 41.1 MiB\n",
      "25/05/05 17:17:33 WARN scheduler.DAGScheduler: Broadcasting large task binary with size 43.0 MiB\n",
      "25/05/05 17:17:57 WARN scheduler.DAGScheduler: Broadcasting large task binary with size 44.8 MiB\n",
      "25/05/05 17:18:17 WARN scheduler.DAGScheduler: Broadcasting large task binary with size 5.7 MiB\n",
      "25/05/05 17:18:20 WARN scheduler.DAGScheduler: Broadcasting large task binary with size 6.0 MiB\n",
      "25/05/05 17:18:23 WARN scheduler.DAGScheduler: Broadcasting large task binary with size 6.4 MiB\n",
      "25/05/05 17:18:26 WARN scheduler.DAGScheduler: Broadcasting large task binary with size 6.2 MiB\n",
      "25/05/05 17:18:29 WARN scheduler.DAGScheduler: Broadcasting large task binary with size 6.6 MiB\n",
      "25/05/05 17:18:32 WARN scheduler.DAGScheduler: Broadcasting large task binary with size 6.9 MiB\n",
      "25/05/05 17:18:34 WARN scheduler.DAGScheduler: Broadcasting large task binary with size 7.2 MiB\n",
      "25/05/05 17:18:37 WARN scheduler.DAGScheduler: Broadcasting large task binary with size 6.3 MiB\n",
      "25/05/05 17:18:39 WARN scheduler.DAGScheduler: Broadcasting large task binary with size 6.0 MiB\n",
      "25/05/05 17:18:42 WARN scheduler.DAGScheduler: Broadcasting large task binary with size 6.3 MiB\n",
      "25/05/05 17:18:44 WARN scheduler.DAGScheduler: Broadcasting large task binary with size 4.7 MiB\n",
      "25/05/05 17:18:45 WARN scheduler.DAGScheduler: Broadcasting large task binary with size 4.3 MiB\n",
      "25/05/05 17:18:46 WARN scheduler.DAGScheduler: Broadcasting large task binary with size 3.8 MiB\n",
      "25/05/05 17:18:48 WARN scheduler.DAGScheduler: Broadcasting large task binary with size 3.9 MiB\n",
      "25/05/05 17:18:49 WARN scheduler.DAGScheduler: Broadcasting large task binary with size 3.4 MiB\n",
      "25/05/05 17:18:49 WARN scheduler.DAGScheduler: Broadcasting large task binary with size 2.3 MiB\n",
      "25/05/05 17:18:50 WARN scheduler.DAGScheduler: Broadcasting large task binary with size 1020.3 KiB\n",
      "25/05/05 17:18:53 WARN scheduler.DAGScheduler: Broadcasting large task binary with size 30.7 MiB\n",
      "25/05/05 17:19:09 WARN scheduler.DAGScheduler: Broadcasting large task binary with size 1095.2 KiB\n",
      "25/05/05 17:19:13 WARN scheduler.DAGScheduler: Broadcasting large task binary with size 1568.0 KiB\n",
      "25/05/05 17:19:20 WARN scheduler.DAGScheduler: Broadcasting large task binary with size 2.3 MiB\n",
      "25/05/05 17:19:28 WARN scheduler.DAGScheduler: Broadcasting large task binary with size 3.3 MiB\n",
      "25/05/05 17:19:39 WARN scheduler.DAGScheduler: Broadcasting large task binary with size 4.2 MiB\n",
      "25/05/05 17:19:50 WARN scheduler.DAGScheduler: Broadcasting large task binary with size 4.9 MiB\n",
      "25/05/05 17:20:02 WARN scheduler.DAGScheduler: Broadcasting large task binary with size 5.7 MiB\n",
      "25/05/05 17:20:13 WARN scheduler.DAGScheduler: Broadcasting large task binary with size 6.6 MiB\n",
      "25/05/05 17:20:25 WARN scheduler.DAGScheduler: Broadcasting large task binary with size 7.8 MiB\n",
      "25/05/05 17:20:36 WARN scheduler.DAGScheduler: Broadcasting large task binary with size 9.0 MiB\n",
      "25/05/05 17:20:48 WARN scheduler.DAGScheduler: Broadcasting large task binary with size 10.3 MiB\n",
      "25/05/05 17:20:59 WARN scheduler.DAGScheduler: Broadcasting large task binary with size 11.6 MiB\n",
      "25/05/05 17:21:11 WARN scheduler.DAGScheduler: Broadcasting large task binary with size 13.1 MiB\n",
      "25/05/05 17:21:23 WARN scheduler.DAGScheduler: Broadcasting large task binary with size 14.4 MiB\n",
      "25/05/05 17:21:35 WARN scheduler.DAGScheduler: Broadcasting large task binary with size 16.0 MiB\n",
      "25/05/05 17:21:48 WARN scheduler.DAGScheduler: Broadcasting large task binary with size 17.4 MiB\n",
      "25/05/05 17:22:05 WARN scheduler.DAGScheduler: Broadcasting large task binary with size 18.8 MiB\n",
      "25/05/05 17:22:22 WARN scheduler.DAGScheduler: Broadcasting large task binary with size 20.2 MiB\n",
      "25/05/05 17:22:37 WARN scheduler.DAGScheduler: Broadcasting large task binary with size 21.6 MiB\n",
      "[Stage 3159:================================>                       (4 + 1) / 7]\r"
     ]
    },
    {
     "ename": "KeyboardInterrupt",
     "evalue": "",
     "output_type": "error",
     "traceback": [
      "\u001b[0;31m---------------------------------------------------------------------------\u001b[0m",
      "\u001b[0;31mIndexError\u001b[0m                                Traceback (most recent call last)",
      "File \u001b[0;32m/opt/miniconda/envs/2024/lib/python3.12/multiprocessing/pool.py:856\u001b[0m, in \u001b[0;36mIMapIterator.next\u001b[0;34m(self, timeout)\u001b[0m\n\u001b[1;32m    855\u001b[0m \u001b[38;5;28;01mtry\u001b[39;00m:\n\u001b[0;32m--> 856\u001b[0m     item \u001b[38;5;241m=\u001b[39m \u001b[38;5;28mself\u001b[39m\u001b[38;5;241m.\u001b[39m_items\u001b[38;5;241m.\u001b[39mpopleft()\n\u001b[1;32m    857\u001b[0m \u001b[38;5;28;01mexcept\u001b[39;00m \u001b[38;5;167;01mIndexError\u001b[39;00m:\n",
      "\u001b[0;31mIndexError\u001b[0m: pop from an empty deque",
      "\nDuring handling of the above exception, another exception occurred:\n",
      "\u001b[0;31mKeyboardInterrupt\u001b[0m                         Traceback (most recent call last)",
      "Cell \u001b[0;32mIn[44], line 28\u001b[0m\n\u001b[1;32m     20\u001b[0m cross_val \u001b[38;5;241m=\u001b[39m CrossValidator(\n\u001b[1;32m     21\u001b[0m     estimator\u001b[38;5;241m=\u001b[39mrf,\n\u001b[1;32m     22\u001b[0m     estimatorParamMaps\u001b[38;5;241m=\u001b[39mparam_grid,\n\u001b[1;32m     23\u001b[0m     evaluator\u001b[38;5;241m=\u001b[39mevaluator,\n\u001b[1;32m     24\u001b[0m     numFolds\u001b[38;5;241m=\u001b[39m\u001b[38;5;241m3\u001b[39m\n\u001b[1;32m     25\u001b[0m )\n\u001b[1;32m     27\u001b[0m \u001b[38;5;66;03m# Обучение\u001b[39;00m\n\u001b[0;32m---> 28\u001b[0m cv_model \u001b[38;5;241m=\u001b[39m cross_val\u001b[38;5;241m.\u001b[39mfit(train_df)\n\u001b[1;32m     30\u001b[0m \u001b[38;5;66;03m# Лучшее сочетание гиперпараметров\u001b[39;00m\n\u001b[1;32m     31\u001b[0m best_age_rfc_model \u001b[38;5;241m=\u001b[39m cv_model\u001b[38;5;241m.\u001b[39mbestModel\n",
      "File \u001b[0;32m/opt/spark-3.4.3/python/pyspark/ml/base.py:205\u001b[0m, in \u001b[0;36mEstimator.fit\u001b[0;34m(self, dataset, params)\u001b[0m\n\u001b[1;32m    203\u001b[0m         \u001b[38;5;28;01mreturn\u001b[39;00m \u001b[38;5;28mself\u001b[39m\u001b[38;5;241m.\u001b[39mcopy(params)\u001b[38;5;241m.\u001b[39m_fit(dataset)\n\u001b[1;32m    204\u001b[0m     \u001b[38;5;28;01melse\u001b[39;00m:\n\u001b[0;32m--> 205\u001b[0m         \u001b[38;5;28;01mreturn\u001b[39;00m \u001b[38;5;28mself\u001b[39m\u001b[38;5;241m.\u001b[39m_fit(dataset)\n\u001b[1;32m    206\u001b[0m \u001b[38;5;28;01melse\u001b[39;00m:\n\u001b[1;32m    207\u001b[0m     \u001b[38;5;28;01mraise\u001b[39;00m \u001b[38;5;167;01mTypeError\u001b[39;00m(\n\u001b[1;32m    208\u001b[0m         \u001b[38;5;124m\"\u001b[39m\u001b[38;5;124mParams must be either a param map or a list/tuple of param maps, \u001b[39m\u001b[38;5;124m\"\u001b[39m\n\u001b[1;32m    209\u001b[0m         \u001b[38;5;124m\"\u001b[39m\u001b[38;5;124mbut got \u001b[39m\u001b[38;5;132;01m%s\u001b[39;00m\u001b[38;5;124m.\u001b[39m\u001b[38;5;124m\"\u001b[39m \u001b[38;5;241m%\u001b[39m \u001b[38;5;28mtype\u001b[39m(params)\n\u001b[1;32m    210\u001b[0m     )\n",
      "File \u001b[0;32m/opt/spark-3.4.3/python/pyspark/ml/tuning.py:847\u001b[0m, in \u001b[0;36mCrossValidator._fit\u001b[0;34m(self, dataset)\u001b[0m\n\u001b[1;32m    841\u001b[0m train \u001b[38;5;241m=\u001b[39m datasets[i][\u001b[38;5;241m0\u001b[39m]\u001b[38;5;241m.\u001b[39mcache()\n\u001b[1;32m    843\u001b[0m tasks \u001b[38;5;241m=\u001b[39m \u001b[38;5;28mmap\u001b[39m(\n\u001b[1;32m    844\u001b[0m     inheritable_thread_target,\n\u001b[1;32m    845\u001b[0m     _parallelFitTasks(est, train, eva, validation, epm, collectSubModelsParam),\n\u001b[1;32m    846\u001b[0m )\n\u001b[0;32m--> 847\u001b[0m \u001b[38;5;28;01mfor\u001b[39;00m j, metric, subModel \u001b[38;5;129;01min\u001b[39;00m pool\u001b[38;5;241m.\u001b[39mimap_unordered(\u001b[38;5;28;01mlambda\u001b[39;00m f: f(), tasks):\n\u001b[1;32m    848\u001b[0m     metrics_all[i][j] \u001b[38;5;241m=\u001b[39m metric\n\u001b[1;32m    849\u001b[0m     \u001b[38;5;28;01mif\u001b[39;00m collectSubModelsParam:\n",
      "File \u001b[0;32m/opt/miniconda/envs/2024/lib/python3.12/multiprocessing/pool.py:861\u001b[0m, in \u001b[0;36mIMapIterator.next\u001b[0;34m(self, timeout)\u001b[0m\n\u001b[1;32m    859\u001b[0m     \u001b[38;5;28mself\u001b[39m\u001b[38;5;241m.\u001b[39m_pool \u001b[38;5;241m=\u001b[39m \u001b[38;5;28;01mNone\u001b[39;00m\n\u001b[1;32m    860\u001b[0m     \u001b[38;5;28;01mraise\u001b[39;00m \u001b[38;5;167;01mStopIteration\u001b[39;00m \u001b[38;5;28;01mfrom\u001b[39;00m \u001b[38;5;28;01mNone\u001b[39;00m\n\u001b[0;32m--> 861\u001b[0m \u001b[38;5;28mself\u001b[39m\u001b[38;5;241m.\u001b[39m_cond\u001b[38;5;241m.\u001b[39mwait(timeout)\n\u001b[1;32m    862\u001b[0m \u001b[38;5;28;01mtry\u001b[39;00m:\n\u001b[1;32m    863\u001b[0m     item \u001b[38;5;241m=\u001b[39m \u001b[38;5;28mself\u001b[39m\u001b[38;5;241m.\u001b[39m_items\u001b[38;5;241m.\u001b[39mpopleft()\n",
      "File \u001b[0;32m/opt/miniconda/envs/2024/lib/python3.12/threading.py:355\u001b[0m, in \u001b[0;36mCondition.wait\u001b[0;34m(self, timeout)\u001b[0m\n\u001b[1;32m    353\u001b[0m \u001b[38;5;28;01mtry\u001b[39;00m:    \u001b[38;5;66;03m# restore state no matter what (e.g., KeyboardInterrupt)\u001b[39;00m\n\u001b[1;32m    354\u001b[0m     \u001b[38;5;28;01mif\u001b[39;00m timeout \u001b[38;5;129;01mis\u001b[39;00m \u001b[38;5;28;01mNone\u001b[39;00m:\n\u001b[0;32m--> 355\u001b[0m         waiter\u001b[38;5;241m.\u001b[39macquire()\n\u001b[1;32m    356\u001b[0m         gotit \u001b[38;5;241m=\u001b[39m \u001b[38;5;28;01mTrue\u001b[39;00m\n\u001b[1;32m    357\u001b[0m     \u001b[38;5;28;01melse\u001b[39;00m:\n",
      "\u001b[0;31mKeyboardInterrupt\u001b[0m: "
     ]
    },
    {
     "name": "stderr",
     "output_type": "stream",
     "text": [
      "25/05/05 17:22:54 WARN scheduler.DAGScheduler: Broadcasting large task binary with size 23.0 MiB\n",
      "25/05/05 17:23:11 WARN scheduler.DAGScheduler: Broadcasting large task binary with size 24.5 MiB\n",
      "[Stage 3164:================>                                       (2 + 2) / 7]\r"
     ]
    }
   ],
   "source": [
    "# from pyspark.ml.tuning import ParamGridBuilder, CrossValidator\n",
    "# from pyspark.ml.evaluation import MulticlassClassificationEvaluator\n",
    "\n",
    "# # Определим нашу модель\n",
    "# rf = RandomForestClassifier(labelCol=\"target_age\", featuresCol=\"features\")\n",
    "\n",
    "# # Сетка гиперпараметров\n",
    "# param_grid = (\n",
    "#     ParamGridBuilder()\n",
    "#     .addGrid(rf.numTrees, [30, 50, 80])\n",
    "#     .addGrid(rf.maxDepth, [10, 20, 30])\n",
    "#     .addGrid(rf.maxBins, [32, 64])  # 32 - стандартное значение maxBins\n",
    "#     .build()\n",
    "# )\n",
    "\n",
    "# # Оценка метрик\n",
    "# evaluator = MulticlassClassificationEvaluator(labelCol=\"target_age\", predictionCol=\"prediction\", metricName=\"accuracy\")\n",
    "\n",
    "# # Кросс-валидация\n",
    "# cross_val = CrossValidator(\n",
    "#     estimator=rf,\n",
    "#     estimatorParamMaps=param_grid,\n",
    "#     evaluator=evaluator,\n",
    "#     numFolds=3\n",
    "# )\n",
    "\n",
    "# # Обучение\n",
    "# cv_model = cross_val.fit(train_df)\n",
    "\n",
    "# # Лучшее сочетание гиперпараметров\n",
    "# best_age_rfc_model = cv_model.bestModel\n",
    "# print(best_age_rfc_model.extractParamMap())\n",
    "\n",
    "# # Оценка метрик с лучшими параметрами\n",
    "# predictions = best_age_rfc_model.transform(test_df)\n",
    "# test_accuracy = evaluator.evaluate(predictions)\n",
    "# print(f\"Test Accuracy: {test_accuracy:.4f}\")"
   ]
  },
  {
   "cell_type": "code",
   "execution_count": null,
   "id": "77826bc7-d55a-439e-b41e-29e1e002d6a7",
   "metadata": {},
   "outputs": [],
   "source": []
  },
  {
   "cell_type": "markdown",
   "id": "8ae5bd69-d8ed-4b6e-8df2-129ca17f4867",
   "metadata": {},
   "source": [
    "##### Сохранение моделей в HDFS + тестовый инференс"
   ]
  },
  {
   "cell_type": "code",
   "execution_count": 64,
   "id": "70c7573b-e7f3-4d5a-bb9d-28405921470d",
   "metadata": {},
   "outputs": [],
   "source": [
    "gen_model.save('lab04_model_gender_rf_v2')\n",
    "\n",
    "# age_model_2.save('lab04_model_age_rf_v0')\n",
    "age_model_2.save('lab04_model_age_rf_v2')"
   ]
  },
  {
   "cell_type": "code",
   "execution_count": 65,
   "id": "d0399430-2da2-44b7-afde-22f6f887e893",
   "metadata": {},
   "outputs": [
    {
     "name": "stdout",
     "output_type": "stream",
     "text": [
      "Found 11 items\n",
      "drwx------   - maksim.burdasov maksim.burdasov          0 2025-05-05 18:28 .Trash\n",
      "drwxr-xr-x   - maksim.burdasov maksim.burdasov          0 2025-05-05 17:23 .sparkStaging\n",
      "drwxr-xr-x   - maksim.burdasov maksim.burdasov          0 2025-04-22 13:00 lab03.csv\n",
      "drwxr-xr-x   - maksim.burdasov maksim.burdasov          0 2025-05-05 14:33 lab04_model_age_rf_v0\n",
      "drwxr-xr-x   - maksim.burdasov maksim.burdasov          0 2025-05-05 17:34 lab04_model_age_rf_v1\n",
      "drwxr-xr-x   - maksim.burdasov maksim.burdasov          0 2025-05-05 18:39 lab04_model_age_rf_v2\n",
      "drwxr-xr-x   - maksim.burdasov maksim.burdasov          0 2025-05-05 17:34 lab04_model_gender_rf_v1\n",
      "drwxr-xr-x   - maksim.burdasov maksim.burdasov          0 2025-05-05 18:39 lab04_model_gender_rf_v2\n",
      "drwxr-xr-x   - maksim.burdasov maksim.burdasov          0 2025-05-05 12:39 lab04_two_models_dataset.parquet\n",
      "drwxr-xr-x   - maksim.burdasov maksim.burdasov          0 2025-05-05 18:34 lab04_two_models_dataset_v1.parquet\n",
      "drwxr-xr-x   - maksim.burdasov maksim.burdasov          0 2025-04-22 11:57 models\n"
     ]
    }
   ],
   "source": [
    "!hdfs dfs -ls"
   ]
  },
  {
   "cell_type": "code",
   "execution_count": 15,
   "id": "cc70a2c9-518e-45ab-a3d2-49714be562dc",
   "metadata": {},
   "outputs": [],
   "source": [
    "# Вывести полный путь до личной папки\n",
    "# !echo $(hdfs getconf -confKey fs.defaultFS)/user/$USER\n",
    "# >>> hdfs://spark-master-1.newprolab.com:8020/user/maksim.burdasov"
   ]
  },
  {
   "cell_type": "code",
   "execution_count": 66,
   "id": "43002a8b-59c6-49c1-96fe-d6f8556292f7",
   "metadata": {},
   "outputs": [
    {
     "name": "stderr",
     "output_type": "stream",
     "text": [
      "[Stage 274:================================================>        (6 + 1) / 7]\r"
     ]
    },
    {
     "name": "stdout",
     "output_type": "stream",
     "text": [
      "Accuracy = 0.4359\n"
     ]
    },
    {
     "name": "stderr",
     "output_type": "stream",
     "text": [
      "                                                                                \r"
     ]
    }
   ],
   "source": [
    "### Тестовый инференс\n",
    "\n",
    "from pyspark.ml.classification import RandomForestClassificationModel\n",
    "# from pyspark.ml.evaluation import MulticlassClassificationEvaluator\n",
    "\n",
    "my_folder = \"hdfs://spark-master-1.newprolab.com:8020/user/maksim.burdasov/\"\n",
    "model_name = \"lab04_model_age_rf_v2\"\n",
    "\n",
    "# Загрузка модели\n",
    "loaded_model = RandomForestClassificationModel.load(my_folder + model_name)\n",
    "\n",
    "test_preds = loaded_model.transform(test_df)\n",
    "\n",
    "# Оценка метрик\n",
    "test_evaluator = MulticlassClassificationEvaluator(labelCol=\"target_age\", predictionCol=\"prediction\", metricName=\"accuracy\")\n",
    "\n",
    "test_accuracy = test_evaluator.evaluate(test_preds)\n",
    "print(f\"Accuracy = {test_accuracy:.4f}\")"
   ]
  },
  {
   "cell_type": "code",
   "execution_count": 43,
   "id": "f44b9c66-a2b7-4168-b5d4-e9639513cdab",
   "metadata": {},
   "outputs": [
    {
     "name": "stdout",
     "output_type": "stream",
     "text": [
      "+--------------------+-------------+----------+--------------------+--------------------+----------+\n",
      "|            features|target_gender|target_age|       rawPrediction|         probability|prediction|\n",
      "+--------------------+-------------+----------+--------------------+--------------------+----------+\n",
      "|(1032,[0,1,2,3,4,...|            1|         3|[1.78290559466698...|[0.08914527973334...|       1.0|\n",
      "|(1032,[0,1,2,3,4,...|            1|         3|[2.16707246261565...|[0.10835362313078...|       1.0|\n",
      "|(1032,[0,1,2,3,5,...|            0|         2|[1.49032865192912...|[0.07451643259645...|       1.0|\n",
      "+--------------------+-------------+----------+--------------------+--------------------+----------+\n",
      "only showing top 3 rows\n",
      "\n"
     ]
    }
   ],
   "source": [
    "test_preds.show(3)"
   ]
  },
  {
   "cell_type": "markdown",
   "id": "d5f1a34c-f32b-41f4-9a21-494c94d57765",
   "metadata": {
    "jp-MarkdownHeadingCollapsed": true
   },
   "source": [
    "#### Классификатор предсказания мульти-таргета"
   ]
  },
  {
   "cell_type": "code",
   "execution_count": 20,
   "id": "9767b695-a4bc-4529-9912-5c6b5075e1ce",
   "metadata": {},
   "outputs": [
    {
     "name": "stderr",
     "output_type": "stream",
     "text": [
      "                                                                                \r"
     ]
    }
   ],
   "source": [
    "### Обучение модели для мультитаргета\n",
    "\n",
    "dtc_multi = DecisionTreeClassifier(featuresCol=\"features\", labelCol=\"label\")\n",
    "multi_model = dtc_multi.fit(train_df)"
   ]
  },
  {
   "cell_type": "code",
   "execution_count": 21,
   "id": "c0538834-810f-487a-93c9-95447070b63a",
   "metadata": {},
   "outputs": [
    {
     "name": "stderr",
     "output_type": "stream",
     "text": [
      "[Stage 156:====================================================>(198 + 1) / 200]\r"
     ]
    },
    {
     "name": "stdout",
     "output_type": "stream",
     "text": [
      "Accuracy = 0.2377\n"
     ]
    },
    {
     "name": "stderr",
     "output_type": "stream",
     "text": [
      "                                                                                \r"
     ]
    }
   ],
   "source": [
    "### Оценка метрик классификации для мультитаргета\n",
    "\n",
    "multi_preds = multi_model.transform(test_df)\n",
    "\n",
    "multi_mc_evaluator = MulticlassClassificationEvaluator(\n",
    "    labelCol=\"label\",\n",
    "    predictionCol=\"prediction\",\n",
    "    metricName=\"accuracy\"\n",
    ")\n",
    "accuracy = multi_mc_evaluator.evaluate(multi_preds)\n",
    "print(f\"Accuracy = {accuracy:.4f}\")"
   ]
  },
  {
   "cell_type": "code",
   "execution_count": 26,
   "id": "87049421-f636-4b5b-8054-dea43fb2dde5",
   "metadata": {
    "scrolled": true
   },
   "outputs": [],
   "source": [
    "# ### Подбор гиперпараметров (требует много времени + упало с ошибкой)\n",
    "\n",
    "# # from pyspark.ml.classification import DecisionTreeClassifier\n",
    "# # from pyspark.ml.evaluation import MulticlassClassificationEvaluator\n",
    "# from pyspark.ml.tuning import CrossValidator, ParamGridBuilder\n",
    "\n",
    "# dt = DecisionTreeClassifier(labelCol=\"label\", featuresCol=\"features\")\n",
    "\n",
    "# paramGrid = (\n",
    "#     ParamGridBuilder()\n",
    "#     .addGrid(dt.maxDepth, [3, 5, 10])\n",
    "#     .addGrid(dt.maxBins, [20, 30])\n",
    "#     .build()\n",
    "# )\n",
    "\n",
    "# evaluator = MulticlassClassificationEvaluator(labelCol=\"label\", predictionCol=\"prediction\", metricName=\"accuracy\")\n",
    "\n",
    "# crossval = CrossValidator(\n",
    "#     estimator=dt,\n",
    "#     estimatorParamMaps=paramGrid,\n",
    "#     evaluator=evaluator,\n",
    "#     numFolds=5\n",
    "# )\n",
    "\n",
    "# cvModel = crossval.fit(train_df)"
   ]
  },
  {
   "cell_type": "code",
   "execution_count": null,
   "id": "cb6e41a7-0eba-4cb0-90d7-4c33c5c77dea",
   "metadata": {},
   "outputs": [],
   "source": [
    "# # Лучшие параметры\n",
    "# best_params = cvModel.bestModel.extractParamMap()\n",
    "# for param, value in best_params.items():\n",
    "#     print(f\"{param.name}: {value}\")"
   ]
  },
  {
   "cell_type": "code",
   "execution_count": 28,
   "id": "91268027-c612-4af9-b723-dc8da4959527",
   "metadata": {},
   "outputs": [],
   "source": [
    "# ### Точность\n",
    "# predictions = cvModel.transform(test_df)\n",
    "# print(\"Accuracy: \", evaluator.evaluate(predictions))"
   ]
  },
  {
   "cell_type": "code",
   "execution_count": 27,
   "id": "44abe534-41b2-47b4-9ee1-5daf928804bf",
   "metadata": {},
   "outputs": [],
   "source": [
    "# # Сохранение модели\n",
    "\n",
    "# model.write().overwrite().save(\"lab04_data/model_multi_dt_best\")"
   ]
  },
  {
   "cell_type": "markdown",
   "id": "1f956929-e909-46fa-a3e6-2ee2141138f6",
   "metadata": {},
   "source": [
    "### Остановка контекста"
   ]
  },
  {
   "cell_type": "code",
   "execution_count": 49,
   "id": "cb64b31c-eaa2-4459-ba8c-3b2d3af75b2c",
   "metadata": {},
   "outputs": [],
   "source": [
    "spark.stop()"
   ]
  }
 ],
 "metadata": {
  "kernelspec": {
   "display_name": "Python 3 (ipykernel)",
   "language": "python",
   "name": "python3"
  },
  "language_info": {
   "codemirror_mode": {
    "name": "ipython",
    "version": 3
   },
   "file_extension": ".py",
   "mimetype": "text/x-python",
   "name": "python",
   "nbconvert_exporter": "python",
   "pygments_lexer": "ipython3",
   "version": "3.12.4"
  }
 },
 "nbformat": 4,
 "nbformat_minor": 5
}
