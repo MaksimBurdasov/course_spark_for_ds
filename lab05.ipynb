{
 "cells": [
  {
   "cell_type": "markdown",
   "id": "3a72f93e-fc17-4439-aaec-e134b2c551f8",
   "metadata": {},
   "source": [
    "### Настройка рабочего места"
   ]
  },
  {
   "cell_type": "code",
   "execution_count": 1,
   "id": "65210f9e-4c22-4922-8c27-fb3e6425cc97",
   "metadata": {},
   "outputs": [],
   "source": [
    "import org.apache.spark.sql.SparkSession\n",
    "import org.apache.spark.sql.functions._\n",
    "\n",
    "import org.apache.spark.ml.feature.{VectorAssembler, StringIndexer, OneHotEncoder, StandardScaler}\n",
    "import org.apache.spark.ml.{Pipeline, PipelineModel}\n",
    "import org.apache.spark.ml.classification.{RandomForestClassifier, LogisticRegression, GBTClassifier}\n",
    "import org.apache.spark.ml.evaluation.BinaryClassificationEvaluator\n",
    "import org.apache.spark.ml.tuning.{ParamGridBuilder, CrossValidator}"
   ]
  },
  {
   "cell_type": "code",
   "execution_count": 2,
   "id": "9ed33ee4-81a6-4244-923b-e86d4fd36553",
   "metadata": {},
   "outputs": [
    {
     "data": {
      "text/plain": [
       "spark = org.apache.spark.sql.SparkSession@db466c0\n"
      ]
     },
     "metadata": {},
     "output_type": "display_data",
     "source": "user"
    },
    {
     "data": {
      "text/plain": [
       "org.apache.spark.sql.SparkSession@db466c0"
      ]
     },
     "execution_count": 2,
     "metadata": {},
     "output_type": "execute_result"
    }
   ],
   "source": [
    "// Spark сессия\n",
    "val spark = SparkSession.builder()\n",
    "  .appName(\"maxb_lab05\")\n",
    "  .config(\"spark.executor.memory\", \"16g\")\n",
    "  .config(\"spark.driver.memory\", \"8g\")\n",
    "  .config(\"spark.executor.instances\", \"20\")\n",
    "  .config(\"spark.executor.cores\", \"10\")\n",
    "  .getOrCreate()"
   ]
  },
  {
   "cell_type": "code",
   "execution_count": 3,
   "id": "ba5d9815-6077-48a7-b0a2-343c654f1d0d",
   "metadata": {},
   "outputs": [
    {
     "data": {
      "text/plain": [
       "org.apache.spark.sql.SparkSession@db466c0"
      ]
     },
     "execution_count": 3,
     "metadata": {},
     "output_type": "execute_result"
    }
   ],
   "source": [
    "spark"
   ]
  },
  {
   "cell_type": "markdown",
   "id": "31e40856-1feb-4767-b8f4-d21eb2737aa4",
   "metadata": {},
   "source": [
    "### Загрузка данных"
   ]
  },
  {
   "cell_type": "code",
   "execution_count": 14,
   "id": "99d0fa61-00ac-4859-986b-634562356ba8",
   "metadata": {
    "scrolled": true
   },
   "outputs": [
    {
     "name": "stdout",
     "output_type": "stream",
     "text": [
      "-RECORD 0---------------------------------\n",
      " _c0                         | 333149     \n",
      " ID                          | 479990     \n",
      " CR_PROD_CNT_IL              | 0          \n",
      " AMOUNT_RUB_CLO_PRC          | 0.0        \n",
      " PRC_ACCEPTS_A_EMAIL_LINK    | 0.0        \n",
      " APP_REGISTR_RGN_CODE        | null       \n",
      " PRC_ACCEPTS_A_POS           | 0.0        \n",
      " PRC_ACCEPTS_A_TK            | 0.0        \n",
      " TURNOVER_DYNAMIC_IL_1M      | 0.0        \n",
      " CNT_TRAN_AUT_TENDENCY1M     | null       \n",
      " SUM_TRAN_AUT_TENDENCY1M     | null       \n",
      " AMOUNT_RUB_SUP_PRC          | 0.0        \n",
      " PRC_ACCEPTS_A_AMOBILE       | 0.0        \n",
      " SUM_TRAN_AUT_TENDENCY3M     | null       \n",
      " CLNT_TRUST_RELATION         | null       \n",
      " PRC_ACCEPTS_TK              | 0.0        \n",
      " PRC_ACCEPTS_A_MTP           | 0.0        \n",
      " REST_DYNAMIC_FDEP_1M        | 0.0        \n",
      " CNT_TRAN_AUT_TENDENCY3M     | null       \n",
      " CNT_ACCEPTS_TK              | 0.0        \n",
      " APP_MARITAL_STATUS          | null       \n",
      " REST_DYNAMIC_SAVE_3M        | 0.0        \n",
      " CR_PROD_CNT_VCU             | 0          \n",
      " REST_AVG_CUR                | 19069.6... \n",
      " CNT_TRAN_MED_TENDENCY1M     | null       \n",
      " APP_KIND_OF_PROP_HABITATION | null       \n",
      " CLNT_JOB_POSITION_TYPE      | null       \n",
      " AMOUNT_RUB_NAS_PRC          | 0.0        \n",
      " CLNT_JOB_POSITION           | null       \n",
      " APP_DRIVING_LICENSE         | null       \n",
      " TRANS_COUNT_SUP_PRC         | 0.0        \n",
      " APP_EDUCATION               | null       \n",
      " CNT_TRAN_CLO_TENDENCY1M     | null       \n",
      " SUM_TRAN_MED_TENDENCY1M     | null       \n",
      " PRC_ACCEPTS_A_ATM           | 0.0        \n",
      " PRC_ACCEPTS_MTP             | 0.0        \n",
      " TRANS_COUNT_NAS_PRC         | 0.0        \n",
      " APP_TRAVEL_PASS             | null       \n",
      " CNT_ACCEPTS_MTP             | 0.0        \n",
      " CR_PROD_CNT_TOVR            | 1          \n",
      " APP_CAR                     | null       \n",
      " CR_PROD_CNT_PIL             | 0          \n",
      " SUM_TRAN_CLO_TENDENCY1M     | null       \n",
      " APP_POSITION_TYPE           | null       \n",
      " TURNOVER_CC                 | 0.0        \n",
      " TRANS_COUNT_ATM_PRC         | 0.98181... \n",
      " AMOUNT_RUB_ATM_PRC          | 0.92647... \n",
      " TURNOVER_PAYM               | 0.0        \n",
      " AGE                         | 324        \n",
      " CNT_TRAN_MED_TENDENCY3M     | null       \n",
      " CR_PROD_CNT_CC              | 0          \n",
      " SUM_TRAN_MED_TENDENCY3M     | null       \n",
      " REST_DYNAMIC_FDEP_3M        | 0.0        \n",
      " REST_DYNAMIC_IL_1M          | 0.0        \n",
      " APP_EMP_TYPE                | null       \n",
      " SUM_TRAN_CLO_TENDENCY3M     | null       \n",
      " LDEAL_TENOR_MAX             | null       \n",
      " LDEAL_YQZ_CHRG              | null       \n",
      " CR_PROD_CNT_CCFP            | 0          \n",
      " DEAL_YQZ_IR_MAX             | null       \n",
      " LDEAL_YQZ_COM               | null       \n",
      " DEAL_YQZ_IR_MIN             | null       \n",
      " CNT_TRAN_CLO_TENDENCY3M     | null       \n",
      " REST_DYNAMIC_CUR_1M         | 0.13932... \n",
      " REST_AVG_PAYM               | 0.0        \n",
      " LDEAL_TENOR_MIN             | null       \n",
      " LDEAL_AMT_MONTH             | null       \n",
      " APP_COMP_TYPE               | null       \n",
      " LDEAL_GRACE_DAYS_PCT_MED    | 0.0        \n",
      " REST_DYNAMIC_CUR_3M         | 0.24404... \n",
      " CNT_TRAN_SUP_TENDENCY3M     | null       \n",
      " TURNOVER_DYNAMIC_CUR_1M     | 0.14429... \n",
      " REST_DYNAMIC_PAYM_3M        | 0.0        \n",
      " SUM_TRAN_SUP_TENDENCY3M     | null       \n",
      " REST_DYNAMIC_IL_3M          | 0.0        \n",
      " CNT_TRAN_ATM_TENDENCY3M     | 0.35185... \n",
      " CNT_TRAN_ATM_TENDENCY1M     | 0.16666... \n",
      " TURNOVER_DYNAMIC_IL_3M      | 0.0        \n",
      " SUM_TRAN_ATM_TENDENCY3M     | 0.32932... \n",
      " DEAL_GRACE_DAYS_ACC_S1X1    | 0.0        \n",
      " AVG_PCT_MONTH_TO_PCLOSE     | null       \n",
      " DEAL_YWZ_IR_MIN             | 45.0       \n",
      " SUM_TRAN_SUP_TENDENCY1M     | null       \n",
      " DEAL_YWZ_IR_MAX             | 45.0       \n",
      " SUM_TRAN_ATM_TENDENCY1M     | 0.16790... \n",
      " REST_DYNAMIC_PAYM_1M        | 0.0        \n",
      " CNT_TRAN_SUP_TENDENCY1M     | null       \n",
      " DEAL_GRACE_DAYS_ACC_AVG     | 0.0        \n",
      " TURNOVER_DYNAMIC_CUR_3M     | 0.30374... \n",
      " PACK                        | 102        \n",
      " MAX_PCLOSE_DATE             | null       \n",
      " LDEAL_YQZ_PC                | null       \n",
      " CLNT_SETUP_TENOR            | 5.48000... \n",
      " DEAL_GRACE_DAYS_ACC_MAX     | 0.0        \n",
      " TURNOVER_DYNAMIC_PAYM_3M    | 0.0        \n",
      " LDEAL_DELINQ_PER_MAXYQZ     | null       \n",
      " TURNOVER_DYNAMIC_PAYM_1M    | 0.0        \n",
      " CLNT_SALARY_VALUE           | null       \n",
      " TRANS_AMOUNT_TENDENCY3M     | 0.30510... \n",
      " MED_DEBT_PRC_YQZ            | null       \n",
      " TRANS_CNT_TENDENCY3M        | 0.34545... \n",
      " LDEAL_USED_AMT_AVG_YQZ      | null       \n",
      " REST_DYNAMIC_CC_1M          | 0.0        \n",
      " LDEAL_USED_AMT_AVG_YWZ      | 1.0        \n",
      " TURNOVER_DYNAMIC_CC_1M      | 0.0        \n",
      " AVG_PCT_DEBT_TO_DEAL_AMT    | null       \n",
      " LDEAL_ACT_DAYS_ACC_PCT_AVG  | 0.00352... \n",
      " REST_DYNAMIC_CC_3M          | 0.0        \n",
      " MED_DEBT_PRC_YWZ            | 0.0        \n",
      " LDEAL_ACT_DAYS_PCT_TR3      | 0.0        \n",
      " LDEAL_ACT_DAYS_PCT_AAVG     | 0.0        \n",
      " LDEAL_DELINQ_PER_MAXYWZ     | 0.0        \n",
      " TURNOVER_DYNAMIC_CC_3M      | 0.0        \n",
      " LDEAL_ACT_DAYS_PCT_TR       | 0.0        \n",
      " LDEAL_ACT_DAYS_PCT_TR4      | 0.0        \n",
      " LDEAL_ACT_DAYS_PCT_CURR     | 0.0        \n",
      " TARGET                      | 0          \n",
      "only showing top 1 row\n",
      "\n"
     ]
    },
    {
     "data": {
      "text/plain": [
       "lastException = null\n",
       "df = [_c0: int, ID: int ... 115 more fields]\n"
      ]
     },
     "metadata": {},
     "output_type": "display_data",
     "source": "user"
    },
    {
     "data": {
      "text/plain": [
       "[_c0: int, ID: int ... 115 more fields]"
      ]
     },
     "execution_count": 14,
     "metadata": {},
     "output_type": "execute_result"
    }
   ],
   "source": [
    "// Тренировочные данные\n",
    "val df = spark.read\n",
    "  .option(\"header\", \"true\")\n",
    "  .option(\"inferSchema\", \"true\")\n",
    "  .csv(\"/labs/slaba05/lab05_train.csv\")\n",
    "\n",
    "df.show(numRows=1, truncate=10, vertical=true)"
   ]
  },
  {
   "cell_type": "markdown",
   "id": "2d58eb98-3de7-4970-8aa4-d0177601401b",
   "metadata": {},
   "source": [
    "### Удалить колонки с большим количеством пропусков"
   ]
  },
  {
   "cell_type": "code",
   "execution_count": 6,
   "id": "c084794c-a62b-4bd3-9e2d-3f2c417c906d",
   "metadata": {},
   "outputs": [
    {
     "data": {
      "text/plain": [
       "totalRows = 320764\n",
       "columnNames = Array(_c0, ID, CR_PROD_CNT_IL, AMOUNT_RUB_CLO_PRC, PRC_ACCEPTS_A_EMAIL_LINK, APP_REGISTR_RGN_CODE, PRC_ACCEPTS_A_POS, PRC_ACCEPTS_A_TK, TURNOVER_DYNAMIC_IL_1M, CNT_TRAN_AUT_TENDENCY1M, SUM_TRAN_AUT_TENDENCY1M, AMOUNT_RUB_SUP_PRC, PRC_ACCEPTS_A_AMOBILE, SUM_TRAN_AUT_TENDENCY3M, CLNT_TRUST_RELATION, PRC_ACCEPTS_TK, PRC_ACCEPTS_A_MTP, REST_DYNAMIC_FDEP_1M, CNT_TRAN_AUT_TENDENCY3M, CNT_ACCEPTS_TK, APP_MARITAL_STATUS, REST_DYNAMIC_SAVE_3M, CR_PROD_CNT_VCU, REST_AVG_CUR, CNT_TRAN_MED_TENDENCY1M, APP_KIND_OF_PROP_HABITATION, CLNT_JOB_POSITION_TYPE, AMOUNT_RUB_NAS_PRC, CLNT_JOB_POSITION, APP_DRIVING_LICENSE, TRANS_COUNT_SUP_PRC, APP_EDUCATION, CNT_TRAN_CLO_TENDENCY1M, SUM_TRAN_MED_TENDENCY1M, PRC_ACCEPTS_A_ATM, PRC_ACCEPTS_MTP, TRANS_COUNT_N...\n"
      ]
     },
     "metadata": {},
     "output_type": "display_data",
     "source": "user"
    },
    {
     "data": {
      "text/plain": [
       "Array(_c0, ID, CR_PROD_CNT_IL, AMOUNT_RUB_CLO_PRC, PRC_ACCEPTS_A_EMAIL_LINK, APP_REGISTR_RGN_CODE, PRC_ACCEPTS_A_POS, PRC_ACCEPTS_A_TK, TURNOVER_DYNAMIC_IL_1M, CNT_TRAN_AUT_TENDENCY1M, SUM_TRAN_AUT_TENDENCY1M, AMOUNT_RUB_SUP_PRC, PRC_ACCEPTS_A_AMOBILE, SUM_TRAN_AUT_TENDENCY3M, CLNT_TRUST_RELATION, PRC_ACCEPTS_TK, PRC_ACCEPTS_A_MTP, REST_DYNAMIC_FDEP_1M, CNT_TRAN_AUT_TENDENCY3M, CNT_ACCEPTS_TK, APP_MARITAL_STATUS, REST_DYNAMIC_SAVE_3M, CR_PROD_CNT_VCU, REST_AVG_CUR, CNT_TRAN_MED_TENDENCY1M, APP_KIND_OF_PROP_HABITATION, CLNT_JOB_POSITION_TYPE, AMOUNT_RUB_NAS_PRC, CLNT_JOB_POSITION, APP_DRIVING_LICENSE, TRANS_COUNT_SUP_PRC, APP_EDUCATION, CNT_TRAN_CLO_TENDENCY1M, SUM_TRAN_MED_TENDENCY1M, PRC_ACCEPTS_A_ATM, PRC_ACCEPTS_MTP, TRANS_COUNT_N..."
      ]
     },
     "execution_count": 6,
     "metadata": {},
     "output_type": "execute_result"
    }
   ],
   "source": [
    "val totalRows = df.count()\n",
    "\n",
    "val columnNames = df.columns\n",
    "\n",
    "// Процент заполнения каждого столбца\n",
    "val nullPercentages = columnNames.map { column =>\n",
    "  val countEmpty = df.filter(col(column).isNull).count()\n",
    "  (column, countEmpty  * 100.0 / totalRows.toDouble)\n",
    "}.toMap\n",
    "\n",
    "// Столбцы, удовлетворяющие условию < 90% пропусков\n",
    "val filteredColumns = columnNames.filter(c => nullPercentages.getOrElse(c, 0.0) < 90.0)\n",
    "\n",
    "// Датафрейм с очищенным набором столбцов\n",
    "val cleanedDf = df.select(filteredColumns.map(col(_)):_*)"
   ]
  },
  {
   "cell_type": "code",
   "execution_count": null,
   "id": "e36c48f0-127f-41d3-8663-a5521e464014",
   "metadata": {},
   "outputs": [],
   "source": []
  },
  {
   "cell_type": "markdown",
   "id": "73e0212a-4b0c-4568-bd26-602a7e78d553",
   "metadata": {},
   "source": [
    "### Заполнение пропусков"
   ]
  },
  {
   "cell_type": "code",
   "execution_count": 7,
   "id": "3e619236-ab9c-4dcc-bc09-e2401d8e1e67",
   "metadata": {
    "scrolled": true
   },
   "outputs": [
    {
     "data": {
      "text/plain": [
       "columnsToFill = List(CR_PROD_CNT_IL, AMOUNT_RUB_CLO_PRC, TURNOVER_DYNAMIC_IL_1M, AMOUNT_RUB_SUP_PRC, REST_DYNAMIC_FDEP_1M, REST_DYNAMIC_SAVE_3M, CR_PROD_CNT_VCU, REST_AVG_CUR, AMOUNT_RUB_NAS_PRC, TRANS_COUNT_SUP_PRC, TRANS_COUNT_NAS_PRC, CR_PROD_CNT_TOVR, CR_PROD_CNT_PIL, TURNOVER_CC, TRANS_COUNT_ATM_PRC, AMOUNT_RUB_ATM_PRC, TURNOVER_PAYM, AGE, CR_PROD_CNT_CC, REST_DYNAMIC_FDEP_3M, REST_DYNAMIC_IL_1M, CR_PROD_CNT_CCFP, REST_DYNAMIC_CUR_1M, REST_AVG_PAYM, LDEAL_GRACE_DAYS_PCT_MED, REST_DYNAMIC_CUR_3M, CNT_TRAN_SUP_TENDENCY3M, TURNOVER_DYNAMIC_CUR_1M, REST_DYNAMIC_PAYM_3M, SUM_TRAN_SUP_TENDENCY3M, REST_DYNAMIC_IL_3M, CNT_TRAN_ATM_TENDENCY3M, CNT_TRAN_ATM_TENDENCY1M, TURNOVER_DYNAMIC_IL_3M, SUM_TRAN_ATM_TENDENCY3M, SUM_TRAN_ATM_TENDENCY1M, REST_DYNAMIC_PAYM_1M, TURNOVER_DYNAMI...\n"
      ]
     },
     "metadata": {},
     "output_type": "display_data",
     "source": "user"
    },
    {
     "data": {
      "text/plain": [
       "List(CR_PROD_CNT_IL, AMOUNT_RUB_CLO_PRC, TURNOVER_DYNAMIC_IL_1M, AMOUNT_RUB_SUP_PRC, REST_DYNAMIC_FDEP_1M, REST_DYNAMIC_SAVE_3M, CR_PROD_CNT_VCU, REST_AVG_CUR, AMOUNT_RUB_NAS_PRC, TRANS_COUNT_SUP_PRC, TRANS_COUNT_NAS_PRC, CR_PROD_CNT_TOVR, CR_PROD_CNT_PIL, TURNOVER_CC, TRANS_COUNT_ATM_PRC, AMOUNT_RUB_ATM_PRC, TURNOVER_PAYM, AGE, CR_PROD_CNT_CC, REST_DYNAMIC_FDEP_3M, REST_DYNAMIC_IL_1M, CR_PROD_CNT_CCFP, REST_DYNAMIC_CUR_1M, REST_AVG_PAYM, LDEAL_GRACE_DAYS_PCT_MED, REST_DYNAMIC_CUR_3M, CNT_TRAN_SUP_TENDENCY3M, TURNOVER_DYNAMIC_CUR_1M, REST_DYNAMIC_PAYM_3M, SUM_TRAN_SUP_TENDENCY3M, REST_DYNAMIC_IL_3M, CNT_TRAN_ATM_TENDENCY3M, CNT_TRAN_ATM_TENDENCY1M, TURNOVER_DYNAMIC_IL_3M, SUM_TRAN_ATM_TENDENCY3M, SUM_TRAN_ATM_TENDENCY1M, REST_DYNAMIC_PAYM_1M, TURNOVER_DYNAMI..."
      ]
     },
     "execution_count": 7,
     "metadata": {},
     "output_type": "execute_result"
    }
   ],
   "source": [
    "/* Заполление числовых колонок средними значениями */\n",
    "\n",
    "// Перечень числовых колонок\n",
    "val columnsToFill = Seq(\n",
    "    \"CR_PROD_CNT_IL\",\n",
    "    \"AMOUNT_RUB_CLO_PRC\",\n",
    "    \"TURNOVER_DYNAMIC_IL_1M\",\n",
    "    \"AMOUNT_RUB_SUP_PRC\",\n",
    "    \"REST_DYNAMIC_FDEP_1M\",\n",
    "    \"REST_DYNAMIC_SAVE_3M\",\n",
    "    \"CR_PROD_CNT_VCU\",\n",
    "    \"REST_AVG_CUR\",\n",
    "    \"AMOUNT_RUB_NAS_PRC\",\n",
    "    \"TRANS_COUNT_SUP_PRC\",\n",
    "    \"TRANS_COUNT_NAS_PRC\",\n",
    "    \"CR_PROD_CNT_TOVR\",\n",
    "    \"CR_PROD_CNT_PIL\",\n",
    "    \"TURNOVER_CC\",\n",
    "    \"TRANS_COUNT_ATM_PRC\",\n",
    "    \"AMOUNT_RUB_ATM_PRC\",\n",
    "    \"TURNOVER_PAYM\",\n",
    "    \"AGE\",\n",
    "    \"CR_PROD_CNT_CC\",\n",
    "    \"REST_DYNAMIC_FDEP_3M\",\n",
    "    \"REST_DYNAMIC_IL_1M\",\n",
    "    \"CR_PROD_CNT_CCFP\",\n",
    "    \"REST_DYNAMIC_CUR_1M\",\n",
    "    \"REST_AVG_PAYM\",\n",
    "    \"LDEAL_GRACE_DAYS_PCT_MED\",\n",
    "    \"REST_DYNAMIC_CUR_3M\",\n",
    "    \"CNT_TRAN_SUP_TENDENCY3M\",\n",
    "    \"TURNOVER_DYNAMIC_CUR_1M\",\n",
    "    \"REST_DYNAMIC_PAYM_3M\",\n",
    "    \"SUM_TRAN_SUP_TENDENCY3M\",\n",
    "    \"REST_DYNAMIC_IL_3M\",\n",
    "    \"CNT_TRAN_ATM_TENDENCY3M\",\n",
    "    \"CNT_TRAN_ATM_TENDENCY1M\",\n",
    "    \"TURNOVER_DYNAMIC_IL_3M\",\n",
    "    \"SUM_TRAN_ATM_TENDENCY3M\",\n",
    "    \"SUM_TRAN_ATM_TENDENCY1M\",\n",
    "    \"REST_DYNAMIC_PAYM_1M\",\n",
    "    \"TURNOVER_DYNAMIC_CUR_3M\",\n",
    "    \"CLNT_SETUP_TENOR\",\n",
    "    \"TURNOVER_DYNAMIC_PAYM_3M\",\n",
    "    \"TURNOVER_DYNAMIC_PAYM_1M\",\n",
    "    \"TRANS_AMOUNT_TENDENCY3M\",\n",
    "    \"TRANS_CNT_TENDENCY3M\",\n",
    "    \"REST_DYNAMIC_CC_1M\",\n",
    "    \"TURNOVER_DYNAMIC_CC_1M\",\n",
    "    \"REST_DYNAMIC_CC_3M\",\n",
    "    \"TURNOVER_DYNAMIC_CC_3M\"\n",
    ")\n",
    "\n",
    "// // Вычисляем средние\n",
    "// val means = df.select(columnsToFill.map(avg(_)): _*).first()\n",
    "val means = cleanedDf.select(columnsToFill.map(avg(_)): _*).first()\n",
    "\n",
    "// Создаем map с средними значениями\n",
    "val meanValues = columnsToFill.zipWithIndex.map {\n",
    "  case (colName, idx) => (colName, means.getDouble(idx))\n",
    "}.toMap\n",
    "\n",
    "// Заполняем пропуски\n",
    "val df2 = columnsToFill.foldLeft(cleanedDf) { (df, colName) =>\n",
    "  df.withColumn(colName, coalesce(col(colName), lit(meanValues(colName))))\n",
    "}\n",
    "\n",
    "// df2.show(numRows=1, truncate=10, vertical=true)"
   ]
  },
  {
   "cell_type": "code",
   "execution_count": 8,
   "id": "ab93c2e9-c8d0-4f1a-960e-0496f382a81a",
   "metadata": {},
   "outputs": [
    {
     "data": {
      "text/plain": [
       "df3 = [_c0: int, ID: int ... 100 more fields]\n"
      ]
     },
     "metadata": {},
     "output_type": "display_data",
     "source": "user"
    },
    {
     "data": {
      "text/plain": [
       "[_c0: int, ID: int ... 100 more fields]"
      ]
     },
     "execution_count": 8,
     "metadata": {},
     "output_type": "execute_result"
    }
   ],
   "source": [
    "// Заполнение пропусков в текстовых колонках\n",
    "val df3 = df2.na.fill(\"missing\", Seq(\n",
    "    \"CLNT_TRUST_RELATION\",\n",
    "    \"APP_MARITAL_STATUS\",\n",
    "    \"APP_KIND_OF_PROP_HABITATION\",\n",
    "    \"CLNT_JOB_POSITION_TYPE\",\n",
    "    \"CLNT_JOB_POSITION\",\n",
    "    \"APP_DRIVING_LICENSE\",\n",
    "    \"APP_EDUCATION\",\n",
    "    \"APP_TRAVEL_PASS\",\n",
    "    \"APP_CAR\",\n",
    "    \"APP_POSITION_TYPE\",\n",
    "    \"APP_EMP_TYPE\",\n",
    "    \"APP_COMP_TYPE\",\n",
    "    \"PACK\"\n",
    "))"
   ]
  },
  {
   "cell_type": "code",
   "execution_count": 9,
   "id": "0ba75d12-0172-40fc-9d19-89d16eeb33d9",
   "metadata": {
    "scrolled": true
   },
   "outputs": [
    {
     "data": {
      "text/plain": [
       "df4 = [_c0: int, ID: int ... 100 more fields]\n"
      ]
     },
     "metadata": {},
     "output_type": "display_data",
     "source": "user"
    },
    {
     "data": {
      "text/plain": [
       "[_c0: int, ID: int ... 100 more fields]"
      ]
     },
     "execution_count": 9,
     "metadata": {},
     "output_type": "execute_result"
    }
   ],
   "source": [
    "//Заполнить все оставшиеся null значением 0\n",
    "val df4 = df3.na.fill(0)\n",
    "\n",
    "//data_4.show(numRows = 20, truncate = 10, vertical=true)"
   ]
  },
  {
   "cell_type": "code",
   "execution_count": 10,
   "id": "6155a979-df75-4902-b125-0e5eb06a27cb",
   "metadata": {},
   "outputs": [
    {
     "data": {
      "text/plain": [
       "classWeights = Map(1 -> 3.82321455880104E-5, 0 -> 3.394340954760224E-6)\n",
       "balancedData = [_c0: int, ID: int ... 101 more fields]\n"
      ]
     },
     "metadata": {},
     "output_type": "display_data",
     "source": "user"
    },
    {
     "data": {
      "text/plain": [
       "[_c0: int, ID: int ... 101 more fields]"
      ]
     },
     "execution_count": 10,
     "metadata": {},
     "output_type": "execute_result"
    }
   ],
   "source": [
    "// Вычисляем веса классов\n",
    "val classWeights = df4\n",
    "  .groupBy(\"TARGET\")\n",
    "  .count()\n",
    "  .withColumn(\"weight\", lit(1.0) / col(\"count\"))\n",
    "  .collect()\n",
    "  .map(row => (row.getInt(0), row.getDouble(2)))\n",
    "  .toMap\n",
    "\n",
    "// Добавляем веса в данные\n",
    "val balancedData = df4.withColumn(\"classWeight\", \n",
    "  when(col(\"TARGET\") === 0, classWeights(0))\n",
    "    .otherwise(classWeights(1)))"
   ]
  },
  {
   "cell_type": "code",
   "execution_count": 11,
   "id": "205823ea-882c-4742-9cf1-b859f5060865",
   "metadata": {},
   "outputs": [
    {
     "data": {
      "text/plain": [
       "trainingData = [_c0: int, ID: int ... 101 more fields]\n",
       "testData = [_c0: int, ID: int ... 101 more fields]\n"
      ]
     },
     "metadata": {},
     "output_type": "display_data",
     "source": "user"
    },
    {
     "data": {
      "text/plain": [
       "[_c0: int, ID: int ... 101 more fields]"
      ]
     },
     "execution_count": 11,
     "metadata": {},
     "output_type": "execute_result"
    }
   ],
   "source": [
    "// Разделение на train и test\n",
    "val Array(trainingData, testData) = balancedData.randomSplit(Array(0.8, 0.2), seed=42)"
   ]
  },
  {
   "cell_type": "code",
   "execution_count": 15,
   "id": "b03caffc-dd4f-4da8-9c65-5511827975af",
   "metadata": {},
   "outputs": [
    {
     "data": {
      "text/plain": [
       "categoricalCols = Array(CLNT_TRUST_RELATION, APP_MARITAL_STATUS, APP_KIND_OF_PROP_HABITATION, CLNT_JOB_POSITION_TYPE, APP_DRIVING_LICENSE, APP_EDUCATION, APP_TRAVEL_PASS, APP_CAR, APP_POSITION_TYPE, APP_EMP_TYPE, APP_COMP_TYPE, PACK)\n",
       "numericCols = Array(_c0, CR_PROD_CNT_IL, AMOUNT_RUB_CLO_PRC, PRC_ACCEPTS_A_EMAIL_LINK, APP_REGISTR_RGN_CODE, PRC_ACCEPTS_A_POS, PRC_ACCEPTS_A_TK, TURNOVER_DYNAMIC_IL_1M, CNT_TRAN_AUT_TENDENCY1M, SUM_TRAN_AUT_TENDENCY1M, AMOUNT_RUB_SUP_PRC, PRC_ACCEPTS_A_AMOBILE, SUM_TRAN_AUT_TENDENCY3M, PRC_ACCEPTS_TK, PRC_ACCEPTS_A_MTP, REST_DYNAMIC_FDEP_1M, CNT_TRAN_AUT_TENDENCY3M, CNT_ACCEPTS_TK, REST_DYNAMIC_SAVE_3M, CR_PROD_CNT_VCU, REST_AVG_CUR, CNT_TRAN_MED_TENDENCY1M, AMOUNT_RUB_NAS_PRC, TRANS_COUNT_SUP_PRC, CNT_TRAN_CLO_TENDENCY1M, SUM...\n"
      ]
     },
     "metadata": {},
     "output_type": "display_data",
     "source": "user"
    },
    {
     "data": {
      "text/plain": [
       "Array(_c0, CR_PROD_CNT_IL, AMOUNT_RUB_CLO_PRC, PRC_ACCEPTS_A_EMAIL_LINK, APP_REGISTR_RGN_CODE, PRC_ACCEPTS_A_POS, PRC_ACCEPTS_A_TK, TURNOVER_DYNAMIC_IL_1M, CNT_TRAN_AUT_TENDENCY1M, SUM_TRAN_AUT_TENDENCY1M, AMOUNT_RUB_SUP_PRC, PRC_ACCEPTS_A_AMOBILE, SUM_TRAN_AUT_TENDENCY3M, PRC_ACCEPTS_TK, PRC_ACCEPTS_A_MTP, REST_DYNAMIC_FDEP_1M, CNT_TRAN_AUT_TENDENCY3M, CNT_ACCEPTS_TK, REST_DYNAMIC_SAVE_3M, CR_PROD_CNT_VCU, REST_AVG_CUR, CNT_TRAN_MED_TENDENCY1M, AMOUNT_RUB_NAS_PRC, TRANS_COUNT_SUP_PRC, CNT_TRAN_CLO_TENDENCY1M, SUM..."
      ]
     },
     "execution_count": 15,
     "metadata": {},
     "output_type": "execute_result"
    }
   ],
   "source": [
    "// Категориальные признаки\n",
    "val categoricalCols = Array(\n",
    "    \"CLNT_TRUST_RELATION\",\n",
    "    \"APP_MARITAL_STATUS\",\n",
    "    \"APP_KIND_OF_PROP_HABITATION\",\n",
    "    \"CLNT_JOB_POSITION_TYPE\",\n",
    "    \"APP_DRIVING_LICENSE\",\n",
    "    \"APP_EDUCATION\",\n",
    "    \"APP_TRAVEL_PASS\",\n",
    "    \"APP_CAR\",\n",
    "    \"APP_POSITION_TYPE\",\n",
    "    \"APP_EMP_TYPE\",\n",
    "    \"APP_COMP_TYPE\",\n",
    "    \"PACK\"\n",
    ")\n",
    "\n",
    "// Числовые признаки\n",
    "val numericCols = Array(\n",
    "    \"_c0\",\n",
    "    \"CR_PROD_CNT_IL\",\n",
    "    \"AMOUNT_RUB_CLO_PRC\",\n",
    "    \"PRC_ACCEPTS_A_EMAIL_LINK\",\n",
    "    \"APP_REGISTR_RGN_CODE\",\n",
    "    \"PRC_ACCEPTS_A_POS\",\n",
    "    \"PRC_ACCEPTS_A_TK\",\n",
    "    \"TURNOVER_DYNAMIC_IL_1M\",\n",
    "    \"CNT_TRAN_AUT_TENDENCY1M\",\n",
    "    \"SUM_TRAN_AUT_TENDENCY1M\",\n",
    "    \"AMOUNT_RUB_SUP_PRC\",\n",
    "    \"PRC_ACCEPTS_A_AMOBILE\",\n",
    "    \"SUM_TRAN_AUT_TENDENCY3M\",\n",
    "    \"PRC_ACCEPTS_TK\",\n",
    "    \"PRC_ACCEPTS_A_MTP\",\n",
    "    \"REST_DYNAMIC_FDEP_1M\",\n",
    "    \"CNT_TRAN_AUT_TENDENCY3M\",\n",
    "    \"CNT_ACCEPTS_TK\",\n",
    "    \"REST_DYNAMIC_SAVE_3M\",\n",
    "    \"CR_PROD_CNT_VCU\",\n",
    "    \"REST_AVG_CUR\",\n",
    "    \"CNT_TRAN_MED_TENDENCY1M\",\n",
    "    \"AMOUNT_RUB_NAS_PRC\",\n",
    "    \"TRANS_COUNT_SUP_PRC\",\n",
    "    \"CNT_TRAN_CLO_TENDENCY1M\",\n",
    "    \"SUM_TRAN_MED_TENDENCY1M\",\n",
    "    \"PRC_ACCEPTS_A_ATM\",\n",
    "    \"PRC_ACCEPTS_MTP\",\n",
    "    \"TRANS_COUNT_NAS_PRC\",\n",
    "    \"CNT_ACCEPTS_MTP\",\n",
    "    \"CR_PROD_CNT_TOVR\",\n",
    "    \"CR_PROD_CNT_PIL\",\n",
    "    \"SUM_TRAN_CLO_TENDENCY1M\",\n",
    "    \"TURNOVER_CC\",\n",
    "    \"TRANS_COUNT_ATM_PRC\",\n",
    "    \"AMOUNT_RUB_ATM_PRC\",\n",
    "    \"TURNOVER_PAYM\",\n",
    "    \"AGE\",\n",
    "    \"CNT_TRAN_MED_TENDENCY3M\",\n",
    "    \"CR_PROD_CNT_CC\",\n",
    "    \"SUM_TRAN_MED_TENDENCY3M\",\n",
    "    \"REST_DYNAMIC_FDEP_3M\",\n",
    "    \"REST_DYNAMIC_IL_1M\",\n",
    "    \"SUM_TRAN_CLO_TENDENCY3M\",\n",
    "    // \"LDEAL_TENOR_MAX\",  // много пропусков\n",
    "    // \"LDEAL_YQZ_CHRG\",\n",
    "    \"CR_PROD_CNT_CCFP\",\n",
    "    // \"DEAL_YQZ_IR_MAX\",\n",
    "    // \"LDEAL_YQZ_COM\",\n",
    "    // \"DEAL_YQZ_IR_MIN\",\n",
    "    \"CNT_TRAN_CLO_TENDENCY3M\",\n",
    "    \"REST_DYNAMIC_CUR_1M\",\n",
    "    \"REST_AVG_PAYM\",\n",
    "    \"LDEAL_TENOR_MIN\",\n",
    "    // \"LDEAL_AMT_MONTH\",\n",
    "    \"LDEAL_GRACE_DAYS_PCT_MED\",\n",
    "    \"REST_DYNAMIC_CUR_3M\",\n",
    "    \"CNT_TRAN_SUP_TENDENCY3M\",\n",
    "    \"TURNOVER_DYNAMIC_CUR_1M\",\n",
    "    \"REST_DYNAMIC_PAYM_3M\",\n",
    "    \"SUM_TRAN_SUP_TENDENCY3M\",\n",
    "    \"REST_DYNAMIC_IL_3M\",\n",
    "    \"CNT_TRAN_ATM_TENDENCY3M\",\n",
    "    \"CNT_TRAN_ATM_TENDENCY1M\",\n",
    "    \"TURNOVER_DYNAMIC_IL_3M\",\n",
    "    \"SUM_TRAN_ATM_TENDENCY3M\",\n",
    "    \"DEAL_GRACE_DAYS_ACC_S1X1\",\n",
    "    // \"AVG_PCT_MONTH_TO_PCLOSE\",\n",
    "    \"DEAL_YWZ_IR_MIN\",\n",
    "    \"SUM_TRAN_SUP_TENDENCY1M\",\n",
    "    \"DEAL_YWZ_IR_MAX\",\n",
    "    \"SUM_TRAN_ATM_TENDENCY1M\",\n",
    "    \"REST_DYNAMIC_PAYM_1M\",\n",
    "    \"CNT_TRAN_SUP_TENDENCY1M\",\n",
    "    \"DEAL_GRACE_DAYS_ACC_AVG\",\n",
    "    \"TURNOVER_DYNAMIC_CUR_3M\",\n",
    "    // \"MAX_PCLOSE_DATE\",\n",
    "    // \"LDEAL_YQZ_PC\",\n",
    "    \"CLNT_SETUP_TENOR\",\n",
    "    \"DEAL_GRACE_DAYS_ACC_MAX\",\n",
    "    \"TURNOVER_DYNAMIC_PAYM_3M\",\n",
    "    // \"LDEAL_DELINQ_PER_MAXYQZ\",\n",
    "    \"TURNOVER_DYNAMIC_PAYM_1M\",\n",
    "    // \"CLNT_SALARY_VALUE\",\n",
    "    \"TRANS_AMOUNT_TENDENCY3M\",\n",
    "    // \"MED_DEBT_PRC_YQZ\",\n",
    "    \"TRANS_CNT_TENDENCY3M\",\n",
    "    // \"LDEAL_USED_AMT_AVG_YQZ\",\n",
    "    \"REST_DYNAMIC_CC_1M\",\n",
    "    \"LDEAL_USED_AMT_AVG_YWZ\",\n",
    "    \"TURNOVER_DYNAMIC_CC_1M\",\n",
    "    // \"AVG_PCT_DEBT_TO_DEAL_AMT\",\n",
    "    \"LDEAL_ACT_DAYS_ACC_PCT_AVG\",\n",
    "    \"REST_DYNAMIC_CC_3M\",\n",
    "    \"MED_DEBT_PRC_YWZ\",\n",
    "    \"LDEAL_ACT_DAYS_PCT_TR3\",\n",
    "    \"LDEAL_ACT_DAYS_PCT_AAVG\",\n",
    "    \"LDEAL_DELINQ_PER_MAXYWZ\",\n",
    "    \"TURNOVER_DYNAMIC_CC_3M\",\n",
    "    \"LDEAL_ACT_DAYS_PCT_TR\",\n",
    "    \"LDEAL_ACT_DAYS_PCT_TR4\",\n",
    "    \"LDEAL_ACT_DAYS_PCT_CURR\"\n",
    ")\n",
    "\n",
    "// Обработка категориальных признаков\n",
    "val indexers = categoricalCols.map(col =>\n",
    "  new StringIndexer()\n",
    "    .setInputCol(col)\n",
    "    .setOutputCol(col + \"_index\")\n",
    "    .setHandleInvalid(\"keep\")\n",
    ")\n",
    "\n",
    "val encoders = categoricalCols.map(col =>\n",
    "  new OneHotEncoder()\n",
    "    .setInputCol(col + \"_index\")\n",
    "    .setOutputCol(col + \"_encoded\")\n",
    ")\n",
    "\n",
    "// Сборка фичей\n",
    "val assembler = new VectorAssembler()\n",
    "  .setInputCols(numericCols ++ categoricalCols.map(_ + \"_encoded\"))\n",
    "  .setOutputCol(\"features\")\n",
    "\n",
    "// Нормализация\n",
    "val scaler = new StandardScaler()\n",
    "  .setInputCol(\"features\")\n",
    "  .setOutputCol(\"scaledFeatures\")\n",
    "  .setWithStd(true)\n",
    "  .setWithMean(true)\n",
    "  .setWithMean(true)"
   ]
  },
  {
   "cell_type": "markdown",
   "id": "c62cad22-3b8a-41ad-9d78-499a730c0db8",
   "metadata": {},
   "source": [
    "### Модель v1: RandomForestClassifier (ROC-AUC: 0.7936)"
   ]
  },
  {
   "cell_type": "code",
   "execution_count": 13,
   "id": "61263b1b-3899-4e2b-9462-ed9d0ac07edc",
   "metadata": {
    "scrolled": true
   },
   "outputs": [
    {
     "ename": "java.lang.IllegalArgumentException",
     "evalue": "LDEAL_TENOR_MIN does not exist. Available: _c0, ID, CR_PROD_CNT_IL, AMOUNT_RUB_CLO_PRC, PRC_ACCEPTS_A_EMAIL_LINK, APP_REGISTR_RGN_CODE, PRC_ACCEPTS_A_POS, PRC_ACCEPTS_A_TK, TURNOVER_DYNAMIC_IL_1M, CNT_TRAN_AUT_TENDENCY1M, SUM_TRAN_AUT_TENDENCY1M, AMOUNT_RUB_SUP_PRC, PRC_ACCEPTS_A_AMOBILE, SUM_TRAN_AUT_TENDENCY3M, CLNT_TRUST_RELATION, PRC_ACCEPTS_TK, PRC_ACCEPTS_A_MTP, REST_DYNAMIC_FDEP_1M, CNT_TRAN_AUT_TENDENCY3M, CNT_ACCEPTS_TK, APP_MARITAL_STATUS, REST_DYNAMIC_SAVE_3M, CR_PROD_CNT_VCU, REST_AVG_CUR, CNT_TRAN_MED_TENDENCY1M, APP_KIND_OF_PROP_HABITATION, CLNT_JOB_POSITION_TYPE, AMOUNT_RUB_NAS_PRC, CLNT_JOB_POSITION, APP_DRIVING_LICENSE, TRANS_COUNT_SUP_PRC, APP_EDUCATION, CNT_TRAN_CLO_TENDENCY1M, SUM_TRAN_MED_TENDENCY1M, PRC_ACCEPTS_A_ATM, PRC_ACCEPTS_MTP, TRANS_COUNT_NAS_PRC, APP_TRAVEL_PASS, CNT_ACCEPTS_MTP, CR_PROD_CNT_TOVR, APP_CAR, CR_PROD_CNT_PIL, SUM_TRAN_CLO_TENDENCY1M, APP_POSITION_TYPE, TURNOVER_CC, TRANS_COUNT_ATM_PRC, AMOUNT_RUB_ATM_PRC, TURNOVER_PAYM, AGE, CNT_TRAN_MED_TENDENCY3M, CR_PROD_CNT_CC, SUM_TRAN_MED_TENDENCY3M, REST_DYNAMIC_FDEP_3M, REST_DYNAMIC_IL_1M, APP_EMP_TYPE, SUM_TRAN_CLO_TENDENCY3M, CR_PROD_CNT_CCFP, CNT_TRAN_CLO_TENDENCY3M, REST_DYNAMIC_CUR_1M, REST_AVG_PAYM, APP_COMP_TYPE, LDEAL_GRACE_DAYS_PCT_MED, REST_DYNAMIC_CUR_3M, CNT_TRAN_SUP_TENDENCY3M, TURNOVER_DYNAMIC_CUR_1M, REST_DYNAMIC_PAYM_3M, SUM_TRAN_SUP_TENDENCY3M, REST_DYNAMIC_IL_3M, CNT_TRAN_ATM_TENDENCY3M, CNT_TRAN_ATM_TENDENCY1M, TURNOVER_DYNAMIC_IL_3M, SUM_TRAN_ATM_TENDENCY3M, DEAL_GRACE_DAYS_ACC_S1X1, DEAL_YWZ_IR_MIN, SUM_TRAN_SUP_TENDENCY1M, DEAL_YWZ_IR_MAX, SUM_TRAN_ATM_TENDENCY1M, REST_DYNAMIC_PAYM_1M, CNT_TRAN_SUP_TENDENCY1M, DEAL_GRACE_DAYS_ACC_AVG, TURNOVER_DYNAMIC_CUR_3M, PACK, CLNT_SETUP_TENOR, DEAL_GRACE_DAYS_ACC_MAX, TURNOVER_DYNAMIC_PAYM_3M, TURNOVER_DYNAMIC_PAYM_1M, TRANS_AMOUNT_TENDENCY3M, TRANS_CNT_TENDENCY3M, REST_DYNAMIC_CC_1M, LDEAL_USED_AMT_AVG_YWZ, TURNOVER_DYNAMIC_CC_1M, LDEAL_ACT_DAYS_ACC_PCT_AVG, REST_DYNAMIC_CC_3M, MED_DEBT_PRC_YWZ, LDEAL_ACT_DAYS_PCT_TR3, LDEAL_ACT_DAYS_PCT_AAVG, LDEAL_DELINQ_PER_MAXYWZ, TURNOVER_DYNAMIC_CC_3M, LDEAL_ACT_DAYS_PCT_TR, LDEAL_ACT_DAYS_PCT_TR4, LDEAL_ACT_DAYS_PCT_CURR, TARGET, classWeight, CLNT_TRUST_RELATION_index, APP_MARITAL_STATUS_index, APP_KIND_OF_PROP_HABITATION_index, CLNT_JOB_POSITION_TYPE_index, APP_DRIVING_LICENSE_index, APP_EDUCATION_index, APP_TRAVEL_PASS_index, APP_CAR_index, APP_POSITION_TYPE_index, APP_EMP_TYPE_index, APP_COMP_TYPE_index, PACK_index, CLNT_TRUST_RELATION_encoded, APP_MARITAL_STATUS_encoded, APP_KIND_OF_PROP_HABITATION_encoded, CLNT_JOB_POSITION_TYPE_encoded, APP_DRIVING_LICENSE_encoded, APP_EDUCATION_encoded, APP_TRAVEL_PASS_encoded, APP_CAR_encoded, APP_POSITION_TYPE_encoded, APP_EMP_TYPE_encoded, APP_COMP_TYPE_encoded, PACK_encoded",
     "output_type": "error",
     "traceback": [
      "java.lang.IllegalArgumentException: LDEAL_TENOR_MIN does not exist. Available: _c0, ID, CR_PROD_CNT_IL, AMOUNT_RUB_CLO_PRC, PRC_ACCEPTS_A_EMAIL_LINK, APP_REGISTR_RGN_CODE, PRC_ACCEPTS_A_POS, PRC_ACCEPTS_A_TK, TURNOVER_DYNAMIC_IL_1M, CNT_TRAN_AUT_TENDENCY1M, SUM_TRAN_AUT_TENDENCY1M, AMOUNT_RUB_SUP_PRC, PRC_ACCEPTS_A_AMOBILE, SUM_TRAN_AUT_TENDENCY3M, CLNT_TRUST_RELATION, PRC_ACCEPTS_TK, PRC_ACCEPTS_A_MTP, REST_DYNAMIC_FDEP_1M, CNT_TRAN_AUT_TENDENCY3M, CNT_ACCEPTS_TK, APP_MARITAL_STATUS, REST_DYNAMIC_SAVE_3M, CR_PROD_CNT_VCU, REST_AVG_CUR, CNT_TRAN_MED_TENDENCY1M, APP_KIND_OF_PROP_HABITATION, CLNT_JOB_POSITION_TYPE, AMOUNT_RUB_NAS_PRC, CLNT_JOB_POSITION, APP_DRIVING_LICENSE, TRANS_COUNT_SUP_PRC, APP_EDUCATION, CNT_TRAN_CLO_TENDENCY1M, SUM_TRAN_MED_TENDENCY1M, PRC_ACCEPTS_A_ATM, PRC_ACCEPTS_MTP, TRANS_COUNT_NAS_PRC, APP_TRAVEL_PASS, CNT_ACCEPTS_MTP, CR_PROD_CNT_TOVR, APP_CAR, CR_PROD_CNT_PIL, SUM_TRAN_CLO_TENDENCY1M, APP_POSITION_TYPE, TURNOVER_CC, TRANS_COUNT_ATM_PRC, AMOUNT_RUB_ATM_PRC, TURNOVER_PAYM, AGE, CNT_TRAN_MED_TENDENCY3M, CR_PROD_CNT_CC, SUM_TRAN_MED_TENDENCY3M, REST_DYNAMIC_FDEP_3M, REST_DYNAMIC_IL_1M, APP_EMP_TYPE, SUM_TRAN_CLO_TENDENCY3M, CR_PROD_CNT_CCFP, CNT_TRAN_CLO_TENDENCY3M, REST_DYNAMIC_CUR_1M, REST_AVG_PAYM, APP_COMP_TYPE, LDEAL_GRACE_DAYS_PCT_MED, REST_DYNAMIC_CUR_3M, CNT_TRAN_SUP_TENDENCY3M, TURNOVER_DYNAMIC_CUR_1M, REST_DYNAMIC_PAYM_3M, SUM_TRAN_SUP_TENDENCY3M, REST_DYNAMIC_IL_3M, CNT_TRAN_ATM_TENDENCY3M, CNT_TRAN_ATM_TENDENCY1M, TURNOVER_DYNAMIC_IL_3M, SUM_TRAN_ATM_TENDENCY3M, DEAL_GRACE_DAYS_ACC_S1X1, DEAL_YWZ_IR_MIN, SUM_TRAN_SUP_TENDENCY1M, DEAL_YWZ_IR_MAX, SUM_TRAN_ATM_TENDENCY1M, REST_DYNAMIC_PAYM_1M, CNT_TRAN_SUP_TENDENCY1M, DEAL_GRACE_DAYS_ACC_AVG, TURNOVER_DYNAMIC_CUR_3M, PACK, CLNT_SETUP_TENOR, DEAL_GRACE_DAYS_ACC_MAX, TURNOVER_DYNAMIC_PAYM_3M, TURNOVER_DYNAMIC_PAYM_1M, TRANS_AMOUNT_TENDENCY3M, TRANS_CNT_TENDENCY3M, REST_DYNAMIC_CC_1M, LDEAL_USED_AMT_AVG_YWZ, TURNOVER_DYNAMIC_CC_1M, LDEAL_ACT_DAYS_ACC_PCT_AVG, REST_DYNAMIC_CC_3M, MED_DEBT_PRC_YWZ, LDEAL_ACT_DAYS_PCT_TR3, LDEAL_ACT_DAYS_PCT_AAVG, LDEAL_DELINQ_PER_MAXYWZ, TURNOVER_DYNAMIC_CC_3M, LDEAL_ACT_DAYS_PCT_TR, LDEAL_ACT_DAYS_PCT_TR4, LDEAL_ACT_DAYS_PCT_CURR, TARGET, classWeight, CLNT_TRUST_RELATION_index, APP_MARITAL_STATUS_index, APP_KIND_OF_PROP_HABITATION_index, CLNT_JOB_POSITION_TYPE_index, APP_DRIVING_LICENSE_index, APP_EDUCATION_index, APP_TRAVEL_PASS_index, APP_CAR_index, APP_POSITION_TYPE_index, APP_EMP_TYPE_index, APP_COMP_TYPE_index, PACK_index, CLNT_TRUST_RELATION_encoded, APP_MARITAL_STATUS_encoded, APP_KIND_OF_PROP_HABITATION_encoded, CLNT_JOB_POSITION_TYPE_encoded, APP_DRIVING_LICENSE_encoded, APP_EDUCATION_encoded, APP_TRAVEL_PASS_encoded, APP_CAR_encoded, APP_POSITION_TYPE_encoded, APP_EMP_TYPE_encoded, APP_COMP_TYPE_encoded, PACK_encoded",
      "  at org.apache.spark.sql.types.StructType.$anonfun$apply$1(StructType.scala:285)",
      "  at scala.collection.immutable.HashMap$HashTrieMap.getOrElse0(HashMap.scala:596)",
      "  at scala.collection.immutable.HashMap.getOrElse(HashMap.scala:73)",
      "  at org.apache.spark.sql.types.StructType.apply(StructType.scala:284)",
      "  at org.apache.spark.ml.feature.VectorAssembler.$anonfun$transformSchema$1(VectorAssembler.scala:161)",
      "  at scala.collection.TraversableLike.$anonfun$flatMap$1(TraversableLike.scala:293)",
      "  at scala.collection.IndexedSeqOptimized.foreach(IndexedSeqOptimized.scala:36)",
      "  at scala.collection.IndexedSeqOptimized.foreach$(IndexedSeqOptimized.scala:33)",
      "  at scala.collection.mutable.ArrayOps$ofRef.foreach(ArrayOps.scala:198)",
      "  at scala.collection.TraversableLike.flatMap(TraversableLike.scala:293)",
      "  at scala.collection.TraversableLike.flatMap$(TraversableLike.scala:290)",
      "  at scala.collection.mutable.ArrayOps$ofRef.flatMap(ArrayOps.scala:198)",
      "  at org.apache.spark.ml.feature.VectorAssembler.transformSchema(VectorAssembler.scala:160)",
      "  at org.apache.spark.ml.Pipeline.$anonfun$transformSchema$4(Pipeline.scala:183)",
      "  at scala.collection.IndexedSeqOptimized.foldLeft(IndexedSeqOptimized.scala:60)",
      "  at scala.collection.IndexedSeqOptimized.foldLeft$(IndexedSeqOptimized.scala:68)",
      "  at scala.collection.mutable.ArrayOps$ofRef.foldLeft(ArrayOps.scala:198)",
      "  at org.apache.spark.ml.Pipeline.transformSchema(Pipeline.scala:183)",
      "  at org.apache.spark.ml.PipelineStage.transformSchema(Pipeline.scala:71)",
      "  at org.apache.spark.ml.Pipeline.$anonfun$fit$2(Pipeline.scala:134)",
      "  at org.apache.spark.ml.MLEvents.withFitEvent(events.scala:130)",
      "  at org.apache.spark.ml.MLEvents.withFitEvent$(events.scala:123)",
      "  at org.apache.spark.ml.util.Instrumentation.withFitEvent(Instrumentation.scala:42)",
      "  at org.apache.spark.ml.Pipeline.$anonfun$fit$1(Pipeline.scala:133)",
      "  at org.apache.spark.ml.util.Instrumentation$.$anonfun$instrumented$1(Instrumentation.scala:191)",
      "  at scala.util.Try$.apply(Try.scala:213)",
      "  at org.apache.spark.ml.util.Instrumentation$.instrumented(Instrumentation.scala:191)",
      "  at org.apache.spark.ml.Pipeline.fit(Pipeline.scala:133)",
      "  ... 42 elided"
     ]
    }
   ],
   "source": [
    "val rf = new RandomForestClassifier()\n",
    "  .setFeaturesCol(\"scaledFeatures\")\n",
    "  .setLabelCol(\"TARGET\")\n",
    "  .setWeightCol(\"classWeight\")\n",
    "  .setNumTrees(50)          // Количество деревьев\n",
    "  .setMaxDepth(10)          // Максимальная глубина\n",
    "  .setMinInstancesPerNode(5)// Минимальное количество образцов в узле\n",
    "  .setSubsamplingRate(0.5)  // Доля данных для построения каждого дерева\n",
    "\n",
    "// Создание пайплайна\n",
    "val pipeline = new Pipeline()\n",
    "  .setStages(indexers ++ encoders ++ Array(assembler, scaler, rf)) // или rf\n",
    "\n",
    "val trainingData_1 = trainingData.repartition(200, $\"ID\")\n",
    "trainingData_1.cache\n",
    "trainingData_1.count\n",
    "\n",
    "// Обучение модели\n",
    "val model = pipeline.fit(trainingData_1)\n",
    "\n",
    "trainingData_1.unpersist"
   ]
  },
  {
   "cell_type": "markdown",
   "id": "d1d38376-8894-41a8-93dd-b8aa3646fc4d",
   "metadata": {},
   "source": [
    "### Модель v2: GBTClassifier (ROC-AUC: 0.8267)"
   ]
  },
  {
   "cell_type": "code",
   "execution_count": 16,
   "id": "06928a07-69e0-45cd-86ee-c0e7f95d3127",
   "metadata": {
    "scrolled": true
   },
   "outputs": [
    {
     "ename": "java.lang.IllegalArgumentException",
     "evalue": "classWeight does not exist. Available: _c0, ID, CR_PROD_CNT_IL, AMOUNT_RUB_CLO_PRC, PRC_ACCEPTS_A_EMAIL_LINK, APP_REGISTR_RGN_CODE, PRC_ACCEPTS_A_POS, PRC_ACCEPTS_A_TK, TURNOVER_DYNAMIC_IL_1M, CNT_TRAN_AUT_TENDENCY1M, SUM_TRAN_AUT_TENDENCY1M, AMOUNT_RUB_SUP_PRC, PRC_ACCEPTS_A_AMOBILE, SUM_TRAN_AUT_TENDENCY3M, CLNT_TRUST_RELATION, PRC_ACCEPTS_TK, PRC_ACCEPTS_A_MTP, REST_DYNAMIC_FDEP_1M, CNT_TRAN_AUT_TENDENCY3M, CNT_ACCEPTS_TK, APP_MARITAL_STATUS, REST_DYNAMIC_SAVE_3M, CR_PROD_CNT_VCU, REST_AVG_CUR, CNT_TRAN_MED_TENDENCY1M, APP_KIND_OF_PROP_HABITATION, CLNT_JOB_POSITION_TYPE, AMOUNT_RUB_NAS_PRC, CLNT_JOB_POSITION, APP_DRIVING_LICENSE, TRANS_COUNT_SUP_PRC, APP_EDUCATION, CNT_TRAN_CLO_TENDENCY1M, SUM_TRAN_MED_TENDENCY1M, PRC_ACCEPTS_A_ATM, PRC_ACCEPTS_MTP, TRANS_COUNT_NAS_PRC, APP_TRAVEL_PASS, CNT_ACCEPTS_MTP, CR_PROD_CNT_TOVR, APP_CAR, CR_PROD_CNT_PIL, SUM_TRAN_CLO_TENDENCY1M, APP_POSITION_TYPE, TURNOVER_CC, TRANS_COUNT_ATM_PRC, AMOUNT_RUB_ATM_PRC, TURNOVER_PAYM, AGE, CNT_TRAN_MED_TENDENCY3M, CR_PROD_CNT_CC, SUM_TRAN_MED_TENDENCY3M, REST_DYNAMIC_FDEP_3M, REST_DYNAMIC_IL_1M, APP_EMP_TYPE, SUM_TRAN_CLO_TENDENCY3M, LDEAL_TENOR_MAX, LDEAL_YQZ_CHRG, CR_PROD_CNT_CCFP, DEAL_YQZ_IR_MAX, LDEAL_YQZ_COM, DEAL_YQZ_IR_MIN, CNT_TRAN_CLO_TENDENCY3M, REST_DYNAMIC_CUR_1M, REST_AVG_PAYM, LDEAL_TENOR_MIN, LDEAL_AMT_MONTH, APP_COMP_TYPE, LDEAL_GRACE_DAYS_PCT_MED, REST_DYNAMIC_CUR_3M, CNT_TRAN_SUP_TENDENCY3M, TURNOVER_DYNAMIC_CUR_1M, REST_DYNAMIC_PAYM_3M, SUM_TRAN_SUP_TENDENCY3M, REST_DYNAMIC_IL_3M, CNT_TRAN_ATM_TENDENCY3M, CNT_TRAN_ATM_TENDENCY1M, TURNOVER_DYNAMIC_IL_3M, SUM_TRAN_ATM_TENDENCY3M, DEAL_GRACE_DAYS_ACC_S1X1, AVG_PCT_MONTH_TO_PCLOSE, DEAL_YWZ_IR_MIN, SUM_TRAN_SUP_TENDENCY1M, DEAL_YWZ_IR_MAX, SUM_TRAN_ATM_TENDENCY1M, REST_DYNAMIC_PAYM_1M, CNT_TRAN_SUP_TENDENCY1M, DEAL_GRACE_DAYS_ACC_AVG, TURNOVER_DYNAMIC_CUR_3M, PACK, MAX_PCLOSE_DATE, LDEAL_YQZ_PC, CLNT_SETUP_TENOR, DEAL_GRACE_DAYS_ACC_MAX, TURNOVER_DYNAMIC_PAYM_3M, LDEAL_DELINQ_PER_MAXYQZ, TURNOVER_DYNAMIC_PAYM_1M, CLNT_SALARY_VALUE, TRANS_AMOUNT_TENDENCY3M, MED_DEBT_PRC_YQZ, TRANS_CNT_TENDENCY3M, LDEAL_USED_AMT_AVG_YQZ, REST_DYNAMIC_CC_1M, LDEAL_USED_AMT_AVG_YWZ, TURNOVER_DYNAMIC_CC_1M, AVG_PCT_DEBT_TO_DEAL_AMT, LDEAL_ACT_DAYS_ACC_PCT_AVG, REST_DYNAMIC_CC_3M, MED_DEBT_PRC_YWZ, LDEAL_ACT_DAYS_PCT_TR3, LDEAL_ACT_DAYS_PCT_AAVG, LDEAL_DELINQ_PER_MAXYWZ, TURNOVER_DYNAMIC_CC_3M, LDEAL_ACT_DAYS_PCT_TR, LDEAL_ACT_DAYS_PCT_TR4, LDEAL_ACT_DAYS_PCT_CURR, TARGET, CLNT_TRUST_RELATION_index, APP_MARITAL_STATUS_index, APP_KIND_OF_PROP_HABITATION_index, CLNT_JOB_POSITION_TYPE_index, APP_DRIVING_LICENSE_index, APP_EDUCATION_index, APP_TRAVEL_PASS_index, APP_CAR_index, APP_POSITION_TYPE_index, APP_EMP_TYPE_index, APP_COMP_TYPE_index, PACK_index, CLNT_TRUST_RELATION_encoded, APP_MARITAL_STATUS_encoded, APP_KIND_OF_PROP_HABITATION_encoded, CLNT_JOB_POSITION_TYPE_encoded, APP_DRIVING_LICENSE_encoded, APP_EDUCATION_encoded, APP_TRAVEL_PASS_encoded, APP_CAR_encoded, APP_POSITION_TYPE_encoded, APP_EMP_TYPE_encoded, APP_COMP_TYPE_encoded, PACK_encoded, features, scaledFeatures",
     "output_type": "error",
     "traceback": [
      "java.lang.IllegalArgumentException: classWeight does not exist. Available: _c0, ID, CR_PROD_CNT_IL, AMOUNT_RUB_CLO_PRC, PRC_ACCEPTS_A_EMAIL_LINK, APP_REGISTR_RGN_CODE, PRC_ACCEPTS_A_POS, PRC_ACCEPTS_A_TK, TURNOVER_DYNAMIC_IL_1M, CNT_TRAN_AUT_TENDENCY1M, SUM_TRAN_AUT_TENDENCY1M, AMOUNT_RUB_SUP_PRC, PRC_ACCEPTS_A_AMOBILE, SUM_TRAN_AUT_TENDENCY3M, CLNT_TRUST_RELATION, PRC_ACCEPTS_TK, PRC_ACCEPTS_A_MTP, REST_DYNAMIC_FDEP_1M, CNT_TRAN_AUT_TENDENCY3M, CNT_ACCEPTS_TK, APP_MARITAL_STATUS, REST_DYNAMIC_SAVE_3M, CR_PROD_CNT_VCU, REST_AVG_CUR, CNT_TRAN_MED_TENDENCY1M, APP_KIND_OF_PROP_HABITATION, CLNT_JOB_POSITION_TYPE, AMOUNT_RUB_NAS_PRC, CLNT_JOB_POSITION, APP_DRIVING_LICENSE, TRANS_COUNT_SUP_PRC, APP_EDUCATION, CNT_TRAN_CLO_TENDENCY1M, SUM_TRAN_MED_TENDENCY1M, PRC_ACCEPTS_A_ATM, PRC_ACCEPTS_MTP, TRANS_COUNT_NAS_PRC, APP_TRAVEL_PASS, CNT_ACCEPTS_MTP, CR_PROD_CNT_TOVR, APP_CAR, CR_PROD_CNT_PIL, SUM_TRAN_CLO_TENDENCY1M, APP_POSITION_TYPE, TURNOVER_CC, TRANS_COUNT_ATM_PRC, AMOUNT_RUB_ATM_PRC, TURNOVER_PAYM, AGE, CNT_TRAN_MED_TENDENCY3M, CR_PROD_CNT_CC, SUM_TRAN_MED_TENDENCY3M, REST_DYNAMIC_FDEP_3M, REST_DYNAMIC_IL_1M, APP_EMP_TYPE, SUM_TRAN_CLO_TENDENCY3M, LDEAL_TENOR_MAX, LDEAL_YQZ_CHRG, CR_PROD_CNT_CCFP, DEAL_YQZ_IR_MAX, LDEAL_YQZ_COM, DEAL_YQZ_IR_MIN, CNT_TRAN_CLO_TENDENCY3M, REST_DYNAMIC_CUR_1M, REST_AVG_PAYM, LDEAL_TENOR_MIN, LDEAL_AMT_MONTH, APP_COMP_TYPE, LDEAL_GRACE_DAYS_PCT_MED, REST_DYNAMIC_CUR_3M, CNT_TRAN_SUP_TENDENCY3M, TURNOVER_DYNAMIC_CUR_1M, REST_DYNAMIC_PAYM_3M, SUM_TRAN_SUP_TENDENCY3M, REST_DYNAMIC_IL_3M, CNT_TRAN_ATM_TENDENCY3M, CNT_TRAN_ATM_TENDENCY1M, TURNOVER_DYNAMIC_IL_3M, SUM_TRAN_ATM_TENDENCY3M, DEAL_GRACE_DAYS_ACC_S1X1, AVG_PCT_MONTH_TO_PCLOSE, DEAL_YWZ_IR_MIN, SUM_TRAN_SUP_TENDENCY1M, DEAL_YWZ_IR_MAX, SUM_TRAN_ATM_TENDENCY1M, REST_DYNAMIC_PAYM_1M, CNT_TRAN_SUP_TENDENCY1M, DEAL_GRACE_DAYS_ACC_AVG, TURNOVER_DYNAMIC_CUR_3M, PACK, MAX_PCLOSE_DATE, LDEAL_YQZ_PC, CLNT_SETUP_TENOR, DEAL_GRACE_DAYS_ACC_MAX, TURNOVER_DYNAMIC_PAYM_3M, LDEAL_DELINQ_PER_MAXYQZ, TURNOVER_DYNAMIC_PAYM_1M, CLNT_SALARY_VALUE, TRANS_AMOUNT_TENDENCY3M, MED_DEBT_PRC_YQZ, TRANS_CNT_TENDENCY3M, LDEAL_USED_AMT_AVG_YQZ, REST_DYNAMIC_CC_1M, LDEAL_USED_AMT_AVG_YWZ, TURNOVER_DYNAMIC_CC_1M, AVG_PCT_DEBT_TO_DEAL_AMT, LDEAL_ACT_DAYS_ACC_PCT_AVG, REST_DYNAMIC_CC_3M, MED_DEBT_PRC_YWZ, LDEAL_ACT_DAYS_PCT_TR3, LDEAL_ACT_DAYS_PCT_AAVG, LDEAL_DELINQ_PER_MAXYWZ, TURNOVER_DYNAMIC_CC_3M, LDEAL_ACT_DAYS_PCT_TR, LDEAL_ACT_DAYS_PCT_TR4, LDEAL_ACT_DAYS_PCT_CURR, TARGET, CLNT_TRUST_RELATION_index, APP_MARITAL_STATUS_index, APP_KIND_OF_PROP_HABITATION_index, CLNT_JOB_POSITION_TYPE_index, APP_DRIVING_LICENSE_index, APP_EDUCATION_index, APP_TRAVEL_PASS_index, APP_CAR_index, APP_POSITION_TYPE_index, APP_EMP_TYPE_index, APP_COMP_TYPE_index, PACK_index, CLNT_TRUST_RELATION_encoded, APP_MARITAL_STATUS_encoded, APP_KIND_OF_PROP_HABITATION_encoded, CLNT_JOB_POSITION_TYPE_encoded, APP_DRIVING_LICENSE_encoded, APP_EDUCATION_encoded, APP_TRAVEL_PASS_encoded, APP_CAR_encoded, APP_POSITION_TYPE_encoded, APP_EMP_TYPE_encoded, APP_COMP_TYPE_encoded, PACK_encoded, features, scaledFeatures",
      "  at org.apache.spark.sql.types.StructType.$anonfun$apply$1(StructType.scala:285)",
      "  at scala.collection.immutable.HashMap$HashMap1.getOrElse0(HashMap.scala:361)",
      "  at scala.collection.immutable.HashMap$HashTrieMap.getOrElse0(HashMap.scala:594)",
      "  at scala.collection.immutable.HashMap$HashTrieMap.getOrElse0(HashMap.scala:589)",
      "  at scala.collection.immutable.HashMap.getOrElse(HashMap.scala:73)",
      "  at org.apache.spark.sql.types.StructType.apply(StructType.scala:284)",
      "  at org.apache.spark.ml.util.SchemaUtils$.checkNumericType(SchemaUtils.scala:75)",
      "  at org.apache.spark.ml.PredictorParams.validateAndTransformSchema(Predictor.scala:56)",
      "  at org.apache.spark.ml.PredictorParams.validateAndTransformSchema$(Predictor.scala:44)",
      "  at org.apache.spark.ml.classification.Classifier.org$apache$spark$ml$classification$ClassifierParams$$super$validateAndTransformSchema(Classifier.scala:53)",
      "  at org.apache.spark.ml.classification.ClassifierParams.validateAndTransformSchema(Classifier.scala:40)",
      "  at org.apache.spark.ml.classification.ClassifierParams.validateAndTransformSchema$(Classifier.scala:36)",
      "  at org.apache.spark.ml.classification.ProbabilisticClassifier.org$apache$spark$ml$classification$ProbabilisticClassifierParams$$super$validateAndTransformSchema(ProbabilisticClassifier.scala:51)",
      "  at org.apache.spark.ml.classification.ProbabilisticClassifierParams.validateAndTransformSchema(ProbabilisticClassifier.scala:38)",
      "  at org.apache.spark.ml.classification.ProbabilisticClassifierParams.validateAndTransformSchema$(ProbabilisticClassifier.scala:34)",
      "  at org.apache.spark.ml.classification.GBTClassifier.org$apache$spark$ml$tree$TreeEnsembleClassifierParams$$super$validateAndTransformSchema(GBTClassifier.scala:58)",
      "  at org.apache.spark.ml.tree.TreeEnsembleClassifierParams.validateAndTransformSchema(treeParams.scala:404)",
      "  at org.apache.spark.ml.tree.TreeEnsembleClassifierParams.validateAndTransformSchema$(treeParams.scala:400)",
      "  at org.apache.spark.ml.classification.GBTClassifier.validateAndTransformSchema(GBTClassifier.scala:58)",
      "  at org.apache.spark.ml.Predictor.transformSchema(Predictor.scala:140)",
      "  at org.apache.spark.ml.Pipeline.$anonfun$transformSchema$4(Pipeline.scala:183)",
      "  at scala.collection.IndexedSeqOptimized.foldLeft(IndexedSeqOptimized.scala:60)",
      "  at scala.collection.IndexedSeqOptimized.foldLeft$(IndexedSeqOptimized.scala:68)",
      "  at scala.collection.mutable.ArrayOps$ofRef.foldLeft(ArrayOps.scala:198)",
      "  at org.apache.spark.ml.Pipeline.transformSchema(Pipeline.scala:183)",
      "  at org.apache.spark.ml.PipelineStage.transformSchema(Pipeline.scala:71)",
      "  at org.apache.spark.ml.Pipeline.$anonfun$fit$2(Pipeline.scala:134)",
      "  at org.apache.spark.ml.MLEvents.withFitEvent(events.scala:130)",
      "  at org.apache.spark.ml.MLEvents.withFitEvent$(events.scala:123)",
      "  at org.apache.spark.ml.util.Instrumentation.withFitEvent(Instrumentation.scala:42)",
      "  at org.apache.spark.ml.Pipeline.$anonfun$fit$1(Pipeline.scala:133)",
      "  at org.apache.spark.ml.util.Instrumentation$.$anonfun$instrumented$1(Instrumentation.scala:191)",
      "  at scala.util.Try$.apply(Try.scala:213)",
      "  at org.apache.spark.ml.util.Instrumentation$.instrumented(Instrumentation.scala:191)",
      "  at org.apache.spark.ml.Pipeline.fit(Pipeline.scala:133)",
      "  ... 42 elided"
     ]
    }
   ],
   "source": [
    "import org.apache.spark.ml.classification.GBTClassifier\n",
    "\n",
    "val gbt = new GBTClassifier()\n",
    "  .setLabelCol(\"TARGET\")\n",
    "  .setFeaturesCol(\"scaledFeatures\")\n",
    "  .setWeightCol(\"classWeight\")\n",
    "  .setMaxIter(15)             // Количество деревьев (итераций)\n",
    "  .setMaxDepth(7)             // Максимальная глубина деревьев\n",
    "  .setMinInstancesPerNode(1)  // Минимум объектов в узле\n",
    "  .setStepSize(0.1)           // Скорость обучения (shrinkage)\n",
    "  .setFeatureSubsetStrategy(\"auto\")\n",
    "\n",
    "val pipeline = new Pipeline()\n",
    "  .setStages(indexers ++ encoders ++ Array(assembler, scaler, gbt)) // или rf\n",
    "\n",
    "// val trainingData_1 = trainingData.repartition(200, $\"ID\")\n",
    "val trainingData_1 = df.repartition(200, $\"ID\")\n",
    "trainingData_1.cache\n",
    "trainingData_1.count\n",
    "\n",
    "val model = pipeline.fit(trainingData_1)\n",
    "\n",
    "trainingData_1.unpersist"
   ]
  },
  {
   "cell_type": "markdown",
   "id": "d9d6fb6e-7439-421b-a783-8533cdd87aa0",
   "metadata": {},
   "source": [
    "### Оценка метрик"
   ]
  },
  {
   "cell_type": "code",
   "execution_count": 86,
   "id": "d86c872b-4cee-4401-959e-febd93ceb0be",
   "metadata": {},
   "outputs": [
    {
     "data": {
      "text/plain": [
       "lastException = null\n"
      ]
     },
     "metadata": {},
     "output_type": "display_data",
     "source": "user"
    },
    {
     "ename": "java.lang.IllegalArgumentException",
     "evalue": "LDEAL_TENOR_MAX does not exist. Available: _c0, ID, CR_PROD_CNT_IL, AMOUNT_RUB_CLO_PRC, PRC_ACCEPTS_A_EMAIL_LINK, APP_REGISTR_RGN_CODE, PRC_ACCEPTS_A_POS, PRC_ACCEPTS_A_TK, TURNOVER_DYNAMIC_IL_1M, CNT_TRAN_AUT_TENDENCY1M, SUM_TRAN_AUT_TENDENCY1M, AMOUNT_RUB_SUP_PRC, PRC_ACCEPTS_A_AMOBILE, SUM_TRAN_AUT_TENDENCY3M, CLNT_TRUST_RELATION, PRC_ACCEPTS_TK, PRC_ACCEPTS_A_MTP, REST_DYNAMIC_FDEP_1M, CNT_TRAN_AUT_TENDENCY3M, CNT_ACCEPTS_TK, APP_MARITAL_STATUS, REST_DYNAMIC_SAVE_3M, CR_PROD_CNT_VCU, REST_AVG_CUR, CNT_TRAN_MED_TENDENCY1M, APP_KIND_OF_PROP_HABITATION, CLNT_JOB_POSITION_TYPE, AMOUNT_RUB_NAS_PRC, CLNT_JOB_POSITION, APP_DRIVING_LICENSE, TRANS_COUNT_SUP_PRC, APP_EDUCATION, CNT_TRAN_CLO_TENDENCY1M, SUM_TRAN_MED_TENDENCY1M, PRC_ACCEPTS_A_ATM, PRC_ACCEPTS_MTP, TRANS_COUNT_NAS_PRC, APP_TRAVEL_PASS, CNT_ACCEPTS_MTP, CR_PROD_CNT_TOVR, APP_CAR, CR_PROD_CNT_PIL, SUM_TRAN_CLO_TENDENCY1M, APP_POSITION_TYPE, TURNOVER_CC, TRANS_COUNT_ATM_PRC, AMOUNT_RUB_ATM_PRC, TURNOVER_PAYM, AGE, CNT_TRAN_MED_TENDENCY3M, CR_PROD_CNT_CC, SUM_TRAN_MED_TENDENCY3M, REST_DYNAMIC_FDEP_3M, REST_DYNAMIC_IL_1M, APP_EMP_TYPE, SUM_TRAN_CLO_TENDENCY3M, CR_PROD_CNT_CCFP, CNT_TRAN_CLO_TENDENCY3M, REST_DYNAMIC_CUR_1M, REST_AVG_PAYM, APP_COMP_TYPE, LDEAL_GRACE_DAYS_PCT_MED, REST_DYNAMIC_CUR_3M, CNT_TRAN_SUP_TENDENCY3M, TURNOVER_DYNAMIC_CUR_1M, REST_DYNAMIC_PAYM_3M, SUM_TRAN_SUP_TENDENCY3M, REST_DYNAMIC_IL_3M, CNT_TRAN_ATM_TENDENCY3M, CNT_TRAN_ATM_TENDENCY1M, TURNOVER_DYNAMIC_IL_3M, SUM_TRAN_ATM_TENDENCY3M, DEAL_GRACE_DAYS_ACC_S1X1, DEAL_YWZ_IR_MIN, SUM_TRAN_SUP_TENDENCY1M, DEAL_YWZ_IR_MAX, SUM_TRAN_ATM_TENDENCY1M, REST_DYNAMIC_PAYM_1M, CNT_TRAN_SUP_TENDENCY1M, DEAL_GRACE_DAYS_ACC_AVG, TURNOVER_DYNAMIC_CUR_3M, PACK, CLNT_SETUP_TENOR, DEAL_GRACE_DAYS_ACC_MAX, TURNOVER_DYNAMIC_PAYM_3M, TURNOVER_DYNAMIC_PAYM_1M, TRANS_AMOUNT_TENDENCY3M, TRANS_CNT_TENDENCY3M, REST_DYNAMIC_CC_1M, LDEAL_USED_AMT_AVG_YWZ, TURNOVER_DYNAMIC_CC_1M, LDEAL_ACT_DAYS_ACC_PCT_AVG, REST_DYNAMIC_CC_3M, MED_DEBT_PRC_YWZ, LDEAL_ACT_DAYS_PCT_TR3, LDEAL_ACT_DAYS_PCT_AAVG, LDEAL_DELINQ_PER_MAXYWZ, TURNOVER_DYNAMIC_CC_3M, LDEAL_ACT_DAYS_PCT_TR, LDEAL_ACT_DAYS_PCT_TR4, LDEAL_ACT_DAYS_PCT_CURR, TARGET, classWeight, CLNT_TRUST_RELATION_index, APP_MARITAL_STATUS_index, APP_KIND_OF_PROP_HABITATION_index, CLNT_JOB_POSITION_TYPE_index, APP_DRIVING_LICENSE_index, APP_EDUCATION_index, APP_TRAVEL_PASS_index, APP_CAR_index, APP_POSITION_TYPE_index, APP_EMP_TYPE_index, APP_COMP_TYPE_index, PACK_index, CLNT_TRUST_RELATION_encoded, APP_MARITAL_STATUS_encoded, APP_KIND_OF_PROP_HABITATION_encoded, CLNT_JOB_POSITION_TYPE_encoded, APP_DRIVING_LICENSE_encoded, APP_EDUCATION_encoded, APP_TRAVEL_PASS_encoded, APP_CAR_encoded, APP_POSITION_TYPE_encoded, APP_EMP_TYPE_encoded, APP_COMP_TYPE_encoded, PACK_encoded",
     "output_type": "error",
     "traceback": [
      "java.lang.IllegalArgumentException: LDEAL_TENOR_MAX does not exist. Available: _c0, ID, CR_PROD_CNT_IL, AMOUNT_RUB_CLO_PRC, PRC_ACCEPTS_A_EMAIL_LINK, APP_REGISTR_RGN_CODE, PRC_ACCEPTS_A_POS, PRC_ACCEPTS_A_TK, TURNOVER_DYNAMIC_IL_1M, CNT_TRAN_AUT_TENDENCY1M, SUM_TRAN_AUT_TENDENCY1M, AMOUNT_RUB_SUP_PRC, PRC_ACCEPTS_A_AMOBILE, SUM_TRAN_AUT_TENDENCY3M, CLNT_TRUST_RELATION, PRC_ACCEPTS_TK, PRC_ACCEPTS_A_MTP, REST_DYNAMIC_FDEP_1M, CNT_TRAN_AUT_TENDENCY3M, CNT_ACCEPTS_TK, APP_MARITAL_STATUS, REST_DYNAMIC_SAVE_3M, CR_PROD_CNT_VCU, REST_AVG_CUR, CNT_TRAN_MED_TENDENCY1M, APP_KIND_OF_PROP_HABITATION, CLNT_JOB_POSITION_TYPE, AMOUNT_RUB_NAS_PRC, CLNT_JOB_POSITION, APP_DRIVING_LICENSE, TRANS_COUNT_SUP_PRC, APP_EDUCATION, CNT_TRAN_CLO_TENDENCY1M, SUM_TRAN_MED_TENDENCY1M, PRC_ACCEPTS_A_ATM, PRC_ACCEPTS_MTP, TRANS_COUNT_NAS_PRC, APP_TRAVEL_PASS, CNT_ACCEPTS_MTP, CR_PROD_CNT_TOVR, APP_CAR, CR_PROD_CNT_PIL, SUM_TRAN_CLO_TENDENCY1M, APP_POSITION_TYPE, TURNOVER_CC, TRANS_COUNT_ATM_PRC, AMOUNT_RUB_ATM_PRC, TURNOVER_PAYM, AGE, CNT_TRAN_MED_TENDENCY3M, CR_PROD_CNT_CC, SUM_TRAN_MED_TENDENCY3M, REST_DYNAMIC_FDEP_3M, REST_DYNAMIC_IL_1M, APP_EMP_TYPE, SUM_TRAN_CLO_TENDENCY3M, CR_PROD_CNT_CCFP, CNT_TRAN_CLO_TENDENCY3M, REST_DYNAMIC_CUR_1M, REST_AVG_PAYM, APP_COMP_TYPE, LDEAL_GRACE_DAYS_PCT_MED, REST_DYNAMIC_CUR_3M, CNT_TRAN_SUP_TENDENCY3M, TURNOVER_DYNAMIC_CUR_1M, REST_DYNAMIC_PAYM_3M, SUM_TRAN_SUP_TENDENCY3M, REST_DYNAMIC_IL_3M, CNT_TRAN_ATM_TENDENCY3M, CNT_TRAN_ATM_TENDENCY1M, TURNOVER_DYNAMIC_IL_3M, SUM_TRAN_ATM_TENDENCY3M, DEAL_GRACE_DAYS_ACC_S1X1, DEAL_YWZ_IR_MIN, SUM_TRAN_SUP_TENDENCY1M, DEAL_YWZ_IR_MAX, SUM_TRAN_ATM_TENDENCY1M, REST_DYNAMIC_PAYM_1M, CNT_TRAN_SUP_TENDENCY1M, DEAL_GRACE_DAYS_ACC_AVG, TURNOVER_DYNAMIC_CUR_3M, PACK, CLNT_SETUP_TENOR, DEAL_GRACE_DAYS_ACC_MAX, TURNOVER_DYNAMIC_PAYM_3M, TURNOVER_DYNAMIC_PAYM_1M, TRANS_AMOUNT_TENDENCY3M, TRANS_CNT_TENDENCY3M, REST_DYNAMIC_CC_1M, LDEAL_USED_AMT_AVG_YWZ, TURNOVER_DYNAMIC_CC_1M, LDEAL_ACT_DAYS_ACC_PCT_AVG, REST_DYNAMIC_CC_3M, MED_DEBT_PRC_YWZ, LDEAL_ACT_DAYS_PCT_TR3, LDEAL_ACT_DAYS_PCT_AAVG, LDEAL_DELINQ_PER_MAXYWZ, TURNOVER_DYNAMIC_CC_3M, LDEAL_ACT_DAYS_PCT_TR, LDEAL_ACT_DAYS_PCT_TR4, LDEAL_ACT_DAYS_PCT_CURR, TARGET, classWeight, CLNT_TRUST_RELATION_index, APP_MARITAL_STATUS_index, APP_KIND_OF_PROP_HABITATION_index, CLNT_JOB_POSITION_TYPE_index, APP_DRIVING_LICENSE_index, APP_EDUCATION_index, APP_TRAVEL_PASS_index, APP_CAR_index, APP_POSITION_TYPE_index, APP_EMP_TYPE_index, APP_COMP_TYPE_index, PACK_index, CLNT_TRUST_RELATION_encoded, APP_MARITAL_STATUS_encoded, APP_KIND_OF_PROP_HABITATION_encoded, CLNT_JOB_POSITION_TYPE_encoded, APP_DRIVING_LICENSE_encoded, APP_EDUCATION_encoded, APP_TRAVEL_PASS_encoded, APP_CAR_encoded, APP_POSITION_TYPE_encoded, APP_EMP_TYPE_encoded, APP_COMP_TYPE_encoded, PACK_encoded",
      "  at org.apache.spark.sql.types.StructType.$anonfun$apply$1(StructType.scala:285)",
      "  at scala.collection.immutable.HashMap$HashTrieMap.getOrElse0(HashMap.scala:596)",
      "  at scala.collection.immutable.HashMap$HashTrieMap.getOrElse0(HashMap.scala:594)",
      "  at scala.collection.immutable.HashMap.getOrElse(HashMap.scala:73)",
      "  at org.apache.spark.sql.types.StructType.apply(StructType.scala:284)",
      "  at org.apache.spark.ml.feature.VectorAssembler.$anonfun$transformSchema$1(VectorAssembler.scala:161)",
      "  at scala.collection.TraversableLike.$anonfun$flatMap$1(TraversableLike.scala:293)",
      "  at scala.collection.IndexedSeqOptimized.foreach(IndexedSeqOptimized.scala:36)",
      "  at scala.collection.IndexedSeqOptimized.foreach$(IndexedSeqOptimized.scala:33)",
      "  at scala.collection.mutable.ArrayOps$ofRef.foreach(ArrayOps.scala:198)",
      "  at scala.collection.TraversableLike.flatMap(TraversableLike.scala:293)",
      "  at scala.collection.TraversableLike.flatMap$(TraversableLike.scala:290)",
      "  at scala.collection.mutable.ArrayOps$ofRef.flatMap(ArrayOps.scala:198)",
      "  at org.apache.spark.ml.feature.VectorAssembler.transformSchema(VectorAssembler.scala:160)",
      "  at org.apache.spark.ml.PipelineModel.$anonfun$transformSchema$5(Pipeline.scala:316)",
      "  at scala.collection.IndexedSeqOptimized.foldLeft(IndexedSeqOptimized.scala:60)",
      "  at scala.collection.IndexedSeqOptimized.foldLeft$(IndexedSeqOptimized.scala:68)",
      "  at scala.collection.mutable.ArrayOps$ofRef.foldLeft(ArrayOps.scala:198)",
      "  at org.apache.spark.ml.PipelineModel.transformSchema(Pipeline.scala:316)",
      "  at org.apache.spark.ml.PipelineStage.transformSchema(Pipeline.scala:71)",
      "  at org.apache.spark.ml.PipelineModel.$anonfun$transform$2(Pipeline.scala:309)",
      "  at org.apache.spark.ml.MLEvents.withTransformEvent(events.scala:146)",
      "  at org.apache.spark.ml.MLEvents.withTransformEvent$(events.scala:139)",
      "  at org.apache.spark.ml.util.Instrumentation.withTransformEvent(Instrumentation.scala:42)",
      "  at org.apache.spark.ml.PipelineModel.$anonfun$transform$1(Pipeline.scala:308)",
      "  at org.apache.spark.ml.util.Instrumentation$.$anonfun$instrumented$1(Instrumentation.scala:191)",
      "  at scala.util.Try$.apply(Try.scala:213)",
      "  at org.apache.spark.ml.util.Instrumentation$.instrumented(Instrumentation.scala:191)",
      "  at org.apache.spark.ml.PipelineModel.transform(Pipeline.scala:307)",
      "  ... 51 elided"
     ]
    }
   ],
   "source": [
    "import org.apache.spark.ml.evaluation.BinaryClassificationEvaluator\n",
    "\n",
    "// Предсказания на тестовых данных\n",
    "val predictions = model.transform(testData)\n",
    "\n",
    "// Вычисление метрик\n",
    "val evaluator = new BinaryClassificationEvaluator()\n",
    "  .setLabelCol(\"TARGET\")\n",
    "  .setRawPredictionCol(\"rawPrediction\")\n",
    "\n",
    "val auc = evaluator.setMetricName(\"areaUnderROC\").evaluate(predictions)\n",
    "val auPR = evaluator.setMetricName(\"areaUnderPR\").evaluate(predictions)\n",
    "\n",
    "println(s\"AUC = $auc\")\n",
    "println(s\"Area Under PR Curve = $auPR\")"
   ]
  },
  {
   "cell_type": "markdown",
   "id": "2110045c-641c-486d-a733-2b5dbc771210",
   "metadata": {},
   "source": [
    "### Инференс"
   ]
  },
  {
   "cell_type": "code",
   "execution_count": 29,
   "id": "9a62e010-9ca5-4aa2-af3a-2c39a4bbcfc1",
   "metadata": {
    "scrolled": true
   },
   "outputs": [
    {
     "data": {
      "text/plain": [
       "test_data = [_c0: int, ID: int ... 114 more fields]\n"
      ]
     },
     "metadata": {},
     "output_type": "display_data",
     "source": "user"
    },
    {
     "data": {
      "text/plain": [
       "[_c0: int, ID: int ... 114 more fields]"
      ]
     },
     "execution_count": 29,
     "metadata": {},
     "output_type": "execute_result"
    }
   ],
   "source": [
    "// Загружаем данные\n",
    "val test_data = spark.read\n",
    "  .option(\"header\", \"true\")\n",
    "  .option(\"inferSchema\", \"true\")\n",
    "  .csv(\"/labs/slaba05/lab05_test.csv\")\n",
    "\n",
    "// test_data.show(numRows = 1, truncate = 10, vertical=true)"
   ]
  },
  {
   "cell_type": "code",
   "execution_count": 30,
   "id": "c337ec07-a0a4-40fb-9d9d-f8e802d135a9",
   "metadata": {},
   "outputs": [
    {
     "data": {
      "text/plain": [
       "test_data_1 = [_c0: int, ID: int ... 114 more fields]\n"
      ]
     },
     "metadata": {},
     "output_type": "display_data",
     "source": "user"
    },
    {
     "data": {
      "text/plain": [
       "[_c0: int, ID: int ... 114 more fields]"
      ]
     },
     "execution_count": 30,
     "metadata": {},
     "output_type": "execute_result"
    }
   ],
   "source": [
    "val test_data_1 = test_data.repartition(20, $\"ID\")"
   ]
  },
  {
   "cell_type": "code",
   "execution_count": 31,
   "id": "391be924-d7bd-4c7b-ad29-795776ec7e02",
   "metadata": {},
   "outputs": [
    {
     "data": {
      "text/plain": [
       "test_data_2 = [_c0: int, ID: int ... 114 more fields]\n"
      ]
     },
     "metadata": {},
     "output_type": "display_data",
     "source": "user"
    },
    {
     "data": {
      "text/plain": [
       "[_c0: int, ID: int ... 114 more fields]"
      ]
     },
     "execution_count": 31,
     "metadata": {},
     "output_type": "execute_result"
    }
   ],
   "source": [
    "// Заполнить null в string колонках\n",
    "val test_data_2 = test_data_1.na.fill(\"missing\", Seq(\n",
    "    \"CLNT_TRUST_RELATION\",\n",
    "    \"APP_MARITAL_STATUS\",\n",
    "    \"APP_KIND_OF_PROP_HABITATION\",\n",
    "    \"CLNT_JOB_POSITION_TYPE\",\n",
    "    \"CLNT_JOB_POSITION\",\n",
    "    \"APP_DRIVING_LICENSE\",\n",
    "    \"APP_EDUCATION\",\n",
    "    \"APP_TRAVEL_PASS\",\n",
    "    \"APP_CAR\",\n",
    "    \"APP_POSITION_TYPE\",\n",
    "    \"APP_EMP_TYPE\",\n",
    "    \"APP_COMP_TYPE\",\n",
    "    \"PACK\"\n",
    "))"
   ]
  },
  {
   "cell_type": "code",
   "execution_count": 32,
   "id": "5f2b16e6-dd58-4302-9a3d-f45816657d61",
   "metadata": {},
   "outputs": [
    {
     "data": {
      "text/plain": [
       "test_data_3 = [_c0: int, ID: int ... 114 more fields]\n"
      ]
     },
     "metadata": {},
     "output_type": "display_data",
     "source": "user"
    },
    {
     "data": {
      "text/plain": [
       "[_c0: int, ID: int ... 114 more fields]"
      ]
     },
     "execution_count": 32,
     "metadata": {},
     "output_type": "execute_result"
    }
   ],
   "source": [
    "// Заполнить все оставшиеся null значением 0\n",
    "val test_data_3 = test_data_2.na.fill(0)\n",
    "\n",
    "// data_4.show(numRows = 20, truncate = 10, vertical=true)"
   ]
  },
  {
   "cell_type": "code",
   "execution_count": 33,
   "id": "f1555c89-3818-4598-ac0d-13225e4c519c",
   "metadata": {},
   "outputs": [
    {
     "data": {
      "text/plain": [
       "predictions = [_c0: int, ID: int ... 143 more fields]\n"
      ]
     },
     "metadata": {},
     "output_type": "display_data",
     "source": "user"
    },
    {
     "data": {
      "text/plain": [
       "[_c0: int, ID: int ... 143 more fields]"
      ]
     },
     "execution_count": 33,
     "metadata": {},
     "output_type": "execute_result"
    }
   ],
   "source": [
    "val predictions = model.transform(test_data_3)\n",
    "\n",
    "// predictions.show(numRows = 2, truncate = 50, vertical=true)"
   ]
  },
  {
   "cell_type": "code",
   "execution_count": 34,
   "id": "e6594012-7643-41f7-8cc2-a279a710064a",
   "metadata": {},
   "outputs": [
    {
     "data": {
      "text/plain": [
       "clear_predictions = [ID: int, prediction: double]\n",
       "lab05 = [id: int, target: double]\n"
      ]
     },
     "metadata": {},
     "output_type": "display_data",
     "source": "user"
    },
    {
     "data": {
      "text/plain": [
       "[id: int, target: double]"
      ]
     },
     "execution_count": 34,
     "metadata": {},
     "output_type": "execute_result"
    }
   ],
   "source": [
    "// Оставить только указанные колонки\n",
    "val clear_predictions = predictions.select(\"ID\", \"prediction\")\n",
    "\n",
    "// переименовать колонки\n",
    "val lab05 = clear_predictions\n",
    "  .withColumnRenamed(\"ID\", \"id\")\n",
    "  .withColumnRenamed(\"prediction\", \"target\")\n",
    "\n",
    "// lab05.show(numRows = 20, truncate = 10, vertical=true)"
   ]
  },
  {
   "cell_type": "markdown",
   "id": "fb13e36c-54bc-4381-9406-4b7513ad41ab",
   "metadata": {},
   "source": [
    "### Сохранение результатов"
   ]
  },
  {
   "cell_type": "code",
   "execution_count": 35,
   "id": "0b8554d9-9a02-4ba1-a452-e7481dd58246",
   "metadata": {},
   "outputs": [
    {
     "data": {
      "text/plain": [
       "hdfsPath = hdfs:///user/maksim.burdasov/lab05_temp\n",
       "homeDir = file:///home/maksim.burdasov\n"
      ]
     },
     "metadata": {},
     "output_type": "display_data",
     "source": "user"
    },
    {
     "data": {
      "text/plain": [
       "fs: org.apache.hadoop.fs.FileSystem = DFS[DFSClient[clientName=DFSClient_NONMAPREDUCE_-1612436294_139, ugi=maksim.burdasov (auth:SIMPLE)]]\n"
      ]
     },
     "metadata": {},
     "output_type": "display_data",
     "source": "user"
    },
    {
     "data": {
      "text/plain": [
       "file:///home/maksim.burdasov"
      ]
     },
     "execution_count": 35,
     "metadata": {},
     "output_type": "execute_result"
    }
   ],
   "source": [
    "import org.apache.hadoop.fs.{FileSystem, Path}\n",
    "\n",
    "val fs = FileSystem.get(spark.sparkContext.hadoopConfiguration)\n",
    "val hdfsPath = \"hdfs:///user/maksim.burdasov/lab05_temp\"\n",
    "val homeDir = \"file:///home/maksim.burdasov\"\n",
    "\n",
    "// Сохраняем в HDFS\n",
    "lab05.coalesce(1)  // Гарантируем один файл\n",
    "  .write\n",
    "  .mode(\"overwrite\")\n",
    "  .option(\"sep\", \"\\t\")\n",
    "  .option(\"header\", \"true\")\n",
    "  .csv(hdfsPath)"
   ]
  },
  {
   "cell_type": "code",
   "execution_count": 36,
   "id": "0bfa5968-8bf8-4494-b9ae-f1b8ed53dd9b",
   "metadata": {},
   "outputs": [
    {
     "name": "stdout",
     "output_type": "stream",
     "text": [
      "Сохраненные файлы:\n",
      "_SUCCESS\n",
      "part-00000-10223083-054e-4c43-aa0f-197c5a98cf6d-c000.csv\n"
     ]
    },
    {
     "data": {
      "text/plain": [
       "hdfsPath = hdfs:///user/maksim.burdasov/lab05_temp\n"
      ]
     },
     "metadata": {},
     "output_type": "display_data",
     "source": "user"
    },
    {
     "data": {
      "text/plain": [
       "fs: org.apache.hadoop.fs.FileSystem = DFS[DFSClient[clientName=DFSClient_NONMAPREDUCE_-1612436294_139, ugi=maksim.burdasov (auth:SIMPLE)]]\n",
       "savedFiles: Array[org.apache.hadoop.fs.FileStatus] = Array(HdfsNamedFileStatus{path=hdfs://spark-master-1.newprolab.com:8020/user/maksim.burdasov/lab05_temp/_SUCCESS; isDirectory=false; length=0; replication=3; blocksize=134217728; modification_time=1746859074450; access_time=1746859074438; owner=maksim.burdasov; group=maksim.burdasov; permission=rw-r--r--; isSymlink=false; hasAcl=false; isEncrypted=false; isErasureCoded=false}, HdfsNamedFileStatus{path=hdfs://spark-master-1.newprolab.com:8020/user/maksim.burdasov/lab05_temp/part-00000-10223083-0...\n"
      ]
     },
     "metadata": {},
     "output_type": "display_data",
     "source": "user"
    },
    {
     "data": {
      "text/plain": [
       "hdfs:///user/maksim.burdasov/lab05_temp"
      ]
     },
     "execution_count": 36,
     "metadata": {},
     "output_type": "execute_result"
    }
   ],
   "source": [
    "// Вывод инфы про сохраненные файлы\n",
    "val hdfsPath = \"hdfs:///user/maksim.burdasov/lab05_temp\"\n",
    "import org.apache.hadoop.fs.{FileSystem, Path}\n",
    "val fs = FileSystem.get(spark.sparkContext.hadoopConfiguration)\n",
    "val savedFiles = fs.listStatus(new Path(hdfsPath))\n",
    "\n",
    "println(\"Сохраненные файлы:\")\n",
    "savedFiles.foreach(f => println(f.getPath.getName))"
   ]
  },
  {
   "cell_type": "code",
   "execution_count": 37,
   "id": "92b804f4-7a67-49e9-a844-e2616de977d6",
   "metadata": {},
   "outputs": [
    {
     "data": {
      "text/plain": [
       "hdfsPath = hdfs:///user/maksim.burdasov/lab05_temp\n",
       "homeDir = file:///data/home/maksim.burdasov\n"
      ]
     },
     "metadata": {},
     "output_type": "display_data",
     "source": "user"
    },
    {
     "data": {
      "text/plain": [
       "fs: org.apache.hadoop.fs.FileSystem = DFS[DFSClient[clientName=DFSClient_NONMAPREDUCE_-1612436294_139, ugi=maksim.burdasov (auth:SIMPLE)]]\n"
      ]
     },
     "metadata": {},
     "output_type": "display_data",
     "source": "user"
    },
    {
     "data": {
      "text/plain": [
       "file:///data/home/maksim.burdasov"
      ]
     },
     "execution_count": 37,
     "metadata": {},
     "output_type": "execute_result"
    }
   ],
   "source": [
    "// Копируем на локальную машину\n",
    "val fs = FileSystem.get(spark.sparkContext.hadoopConfiguration)\n",
    "val hdfsPath = \"hdfs:///user/maksim.burdasov/lab05_temp\"\n",
    "val homeDir = \"file:///data/home/maksim.burdasov\"\n",
    "\n",
    "fs.copyToLocalFile(\n",
    "  false,\n",
    "  new Path(s\"$hdfsPath/part-00000-10223083-054e-4c43-aa0f-197c5a98cf6d-c000.csv\"),\n",
    "  new Path(s\"$homeDir/lab05.csv\"),\n",
    "  true\n",
    ")"
   ]
  },
  {
   "cell_type": "code",
   "execution_count": null,
   "id": "ed616e97-0f23-4af7-bab4-7160fdfd120e",
   "metadata": {},
   "outputs": [],
   "source": [
    "// fs.close()"
   ]
  }
 ],
 "metadata": {
  "kernelspec": {
   "display_name": "Apache Toree - Scala",
   "language": "scala",
   "name": "apache_toree_scala"
  },
  "language_info": {
   "codemirror_mode": "text/x-scala",
   "file_extension": ".scala",
   "mimetype": "text/x-scala",
   "name": "scala",
   "pygments_lexer": "scala",
   "version": "2.12.15"
  }
 },
 "nbformat": 4,
 "nbformat_minor": 5
}
